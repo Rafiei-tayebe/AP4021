{
 "cells": [
  {
   "cell_type": "code",
   "execution_count": null,
   "id": "42bfde19",
   "metadata": {},
   "outputs": [],
   "source": [
    "# python\n",
    "# 10 Ex (6-7 series), 5 Final Exam, 5 final project,\n",
    "#   +2 pre+act.\n",
    "# email: rafiei.ta@gmail.com\n",
    "# https://quera.org/course/add_to_course/course/14932/\n",
    "# "
   ]
  },
  {
   "cell_type": "code",
   "execution_count": null,
   "id": "d11e6709",
   "metadata": {},
   "outputs": [],
   "source": [
    "'''\n",
    "Ms. Esmi\n",
    "Mr. Pejman\n",
    "Mr. Imani\n",
    "Mr. Yari\n",
    "Mr. Lotfi\n",
    "Ms. Alizade\n",
    "'''"
   ]
  },
  {
   "cell_type": "code",
   "execution_count": 1,
   "id": "883bb560",
   "metadata": {},
   "outputs": [
    {
     "name": "stdout",
     "output_type": "stream",
     "text": [
      "salam\n",
      "12\n"
     ]
    }
   ],
   "source": [
    "myint = 'salam'\n",
    "print(myint)\n",
    "\n",
    "myint = 12\n",
    "print(myint)"
   ]
  },
  {
   "cell_type": "code",
   "execution_count": null,
   "id": "d08744cd",
   "metadata": {},
   "outputs": [],
   "source": [
    "#include <iostream>\n",
    "int main() {\n",
    "    int myint;\n",
    "    myint = 12;\n",
    "    cout << myint;\n",
    "    return 0;\n",
    "}"
   ]
  },
  {
   "cell_type": "code",
   "execution_count": 9,
   "id": "941cbeac",
   "metadata": {},
   "outputs": [
    {
     "name": "stdout",
     "output_type": "stream",
     "text": [
      "[1, True, 'hello', [], 'salma', 0, 1, 1, 1]\n"
     ]
    }
   ],
   "source": [
    "# data type\n",
    "myint = 12\n",
    "myfloat = 12.2\n",
    "mystr1 = 'salam'\n",
    "mystr2 = \"salma\"\n",
    "mystr3 = '''salam\n",
    "khodahafez'''\n",
    "mystr3 = \"\"\"salam\n",
    "khodahafez\"\"\"\n",
    "mybool = True\n",
    "\n",
    "mylist = [1, 2, True, 'salam', [], mystr2]\n",
    "mylist.append(0)\n",
    "mylist.insert(3, 'hello')\n",
    "mylist.extend([1, 1, 1])\n",
    "mylist.remove('salam')\n",
    "mylist.pop(1)\n",
    "print(mylist)"
   ]
  },
  {
   "cell_type": "code",
   "execution_count": 10,
   "id": "cb24afbc",
   "metadata": {},
   "outputs": [
    {
     "name": "stdout",
     "output_type": "stream",
     "text": [
      "5\n"
     ]
    }
   ],
   "source": [
    "x = mylist.count(1)\n",
    "print(x)"
   ]
  },
  {
   "cell_type": "code",
   "execution_count": 11,
   "id": "5dbcdb70",
   "metadata": {},
   "outputs": [
    {
     "name": "stdout",
     "output_type": "stream",
     "text": [
      "[-10, 1, 12, 12.5, 13, 100]\n"
     ]
    }
   ],
   "source": [
    "numlist = [1, -10, 100, 12, 12.5 , 13]\n",
    "numlist.sort()\n",
    "print(numlist)"
   ]
  },
  {
   "cell_type": "code",
   "execution_count": 14,
   "id": "c684009b",
   "metadata": {},
   "outputs": [
    {
     "name": "stdout",
     "output_type": "stream",
     "text": [
      "[1, 12.5]\n"
     ]
    }
   ],
   "source": [
    "print(numlist[1:5:2])"
   ]
  },
  {
   "cell_type": "code",
   "execution_count": 16,
   "id": "476cf5d0",
   "metadata": {},
   "outputs": [
    {
     "name": "stdout",
     "output_type": "stream",
     "text": [
      "True\n"
     ]
    }
   ],
   "source": [
    "print(numlist[-1] == numlist[5])"
   ]
  },
  {
   "cell_type": "code",
   "execution_count": null,
   "id": "63a1e587",
   "metadata": {},
   "outputs": [],
   "source": []
  },
  {
   "cell_type": "code",
   "execution_count": 7,
   "id": "c02d6d1f",
   "metadata": {},
   "outputs": [
    {
     "name": "stdout",
     "output_type": "stream",
     "text": [
      "[]\n"
     ]
    }
   ],
   "source": [
    "mylist.clear()\n",
    "print(mylist)"
   ]
  },
  {
   "cell_type": "code",
   "execution_count": 8,
   "id": "7365035e",
   "metadata": {},
   "outputs": [
    {
     "ename": "NameError",
     "evalue": "name 'mylist' is not defined",
     "output_type": "error",
     "traceback": [
      "\u001b[1;31m---------------------------------------------------------------------------\u001b[0m",
      "\u001b[1;31mNameError\u001b[0m                                 Traceback (most recent call last)",
      "Input \u001b[1;32mIn [8]\u001b[0m, in \u001b[0;36m<cell line: 2>\u001b[1;34m()\u001b[0m\n\u001b[0;32m      1\u001b[0m \u001b[38;5;28;01mdel\u001b[39;00m mylist\n\u001b[1;32m----> 2\u001b[0m \u001b[38;5;28mprint\u001b[39m(\u001b[43mmylist\u001b[49m)\n",
      "\u001b[1;31mNameError\u001b[0m: name 'mylist' is not defined"
     ]
    }
   ],
   "source": [
    "del mylist\n",
    "print(mylist)"
   ]
  },
  {
   "cell_type": "code",
   "execution_count": 17,
   "id": "0fc40b46",
   "metadata": {},
   "outputs": [
    {
     "name": "stdout",
     "output_type": "stream",
     "text": [
      "salam\n"
     ]
    }
   ],
   "source": [
    "mydict = {'hello' : 'salam', 'apple' : 'sib'}\n",
    "print(mydict['hello'])"
   ]
  },
  {
   "cell_type": "code",
   "execution_count": 19,
   "id": "2846a6f4",
   "metadata": {},
   "outputs": [],
   "source": [
    "mydict['strawberry'] = 'tootfarangi'"
   ]
  },
  {
   "cell_type": "code",
   "execution_count": 20,
   "id": "b544fe8c",
   "metadata": {},
   "outputs": [
    {
     "name": "stdout",
     "output_type": "stream",
     "text": [
      "{'hello': 'salam', 'apple': 'sib', 'strawberry': 'tootfarangi'}\n"
     ]
    }
   ],
   "source": [
    "print(mydict)"
   ]
  },
  {
   "cell_type": "code",
   "execution_count": 22,
   "id": "9eab100e",
   "metadata": {},
   "outputs": [],
   "source": [
    "del mydict['hello']"
   ]
  },
  {
   "cell_type": "code",
   "execution_count": 23,
   "id": "cd2d3cf4",
   "metadata": {},
   "outputs": [
    {
     "name": "stdout",
     "output_type": "stream",
     "text": [
      "{'apple': 'sib', 'strawberry': 'tootfarangi'}\n"
     ]
    }
   ],
   "source": [
    "print(mydict)"
   ]
  },
  {
   "cell_type": "code",
   "execution_count": 25,
   "id": "49df984c",
   "metadata": {},
   "outputs": [
    {
     "name": "stdout",
     "output_type": "stream",
     "text": [
      "a =  12 \n",
      "b =  12\n",
      "a =  13 \n",
      "b =  12\n"
     ]
    }
   ],
   "source": [
    "a = 12\n",
    "b = a\n",
    "\n",
    "print('a = ' , a , '\\nb = ', b)\n",
    "\n",
    "a += 1\n",
    "\n",
    "print('a = ' , a , '\\nb = ', b)"
   ]
  },
  {
   "cell_type": "code",
   "execution_count": 27,
   "id": "8d41ad7d",
   "metadata": {},
   "outputs": [
    {
     "name": "stdout",
     "output_type": "stream",
     "text": [
      "a =  [12] \n",
      "b =  [12]\n",
      "a =  [12, 1] \n",
      "b =  [12]\n"
     ]
    }
   ],
   "source": [
    "a = [12]\n",
    "b = a.copy()\n",
    "\n",
    "print('a = ' , a , '\\nb = ', b)\n",
    "\n",
    "a += [1]\n",
    "\n",
    "print('a = ' , a , '\\nb = ', b)"
   ]
  },
  {
   "cell_type": "code",
   "execution_count": 28,
   "id": "a1e6fb92",
   "metadata": {},
   "outputs": [
    {
     "name": "stdout",
     "output_type": "stream",
     "text": [
      "{1, 3}\n"
     ]
    }
   ],
   "source": [
    "myset1 = {1, 2, 3}\n",
    "myset2 = {2, 8, -9}\n",
    "print(myset1 - myset2)"
   ]
  },
  {
   "cell_type": "code",
   "execution_count": 30,
   "id": "736e86c3",
   "metadata": {},
   "outputs": [
    {
     "name": "stdout",
     "output_type": "stream",
     "text": [
      "{1, 2, 3, -9, 8}\n"
     ]
    }
   ],
   "source": [
    "print(myset1.union(myset2))"
   ]
  },
  {
   "cell_type": "code",
   "execution_count": 31,
   "id": "7555b416",
   "metadata": {},
   "outputs": [
    {
     "data": {
      "text/plain": [
       "['__and__',\n",
       " '__class__',\n",
       " '__class_getitem__',\n",
       " '__contains__',\n",
       " '__delattr__',\n",
       " '__dir__',\n",
       " '__doc__',\n",
       " '__eq__',\n",
       " '__format__',\n",
       " '__ge__',\n",
       " '__getattribute__',\n",
       " '__gt__',\n",
       " '__hash__',\n",
       " '__iand__',\n",
       " '__init__',\n",
       " '__init_subclass__',\n",
       " '__ior__',\n",
       " '__isub__',\n",
       " '__iter__',\n",
       " '__ixor__',\n",
       " '__le__',\n",
       " '__len__',\n",
       " '__lt__',\n",
       " '__ne__',\n",
       " '__new__',\n",
       " '__or__',\n",
       " '__rand__',\n",
       " '__reduce__',\n",
       " '__reduce_ex__',\n",
       " '__repr__',\n",
       " '__ror__',\n",
       " '__rsub__',\n",
       " '__rxor__',\n",
       " '__setattr__',\n",
       " '__sizeof__',\n",
       " '__str__',\n",
       " '__sub__',\n",
       " '__subclasshook__',\n",
       " '__xor__',\n",
       " 'add',\n",
       " 'clear',\n",
       " 'copy',\n",
       " 'difference',\n",
       " 'difference_update',\n",
       " 'discard',\n",
       " 'intersection',\n",
       " 'intersection_update',\n",
       " 'isdisjoint',\n",
       " 'issubset',\n",
       " 'issuperset',\n",
       " 'pop',\n",
       " 'remove',\n",
       " 'symmetric_difference',\n",
       " 'symmetric_difference_update',\n",
       " 'union',\n",
       " 'update']"
      ]
     },
     "execution_count": 31,
     "metadata": {},
     "output_type": "execute_result"
    }
   ],
   "source": [
    "dir(myset1)"
   ]
  },
  {
   "cell_type": "code",
   "execution_count": 34,
   "id": "a1b03d0b",
   "metadata": {},
   "outputs": [
    {
     "name": "stdout",
     "output_type": "stream",
     "text": [
      "Help on built-in function update:\n",
      "\n",
      "update(...) method of builtins.set instance\n",
      "    Update a set with the union of itself and others.\n",
      "\n"
     ]
    }
   ],
   "source": [
    "help(myset1.update)"
   ]
  },
  {
   "cell_type": "code",
   "execution_count": 33,
   "id": "7914de32",
   "metadata": {},
   "outputs": [
    {
     "name": "stdout",
     "output_type": "stream",
     "text": [
      "{1, 2, 3}\n"
     ]
    }
   ],
   "source": [
    "print(myset1)"
   ]
  },
  {
   "cell_type": "code",
   "execution_count": null,
   "id": "3abe9696",
   "metadata": {},
   "outputs": [],
   "source": [
    "print(myset1)\n",
    "myset1.update({'h', 'q'})\n",
    "print(myset1)"
   ]
  },
  {
   "cell_type": "code",
   "execution_count": 37,
   "id": "d2e902a0",
   "metadata": {},
   "outputs": [
    {
     "name": "stdout",
     "output_type": "stream",
     "text": [
      "1231\n"
     ]
    }
   ],
   "source": [
    "# type casting\n",
    "inp = '123'\n",
    "# inp = int(inp)\n",
    "print(inp + str(1))"
   ]
  },
  {
   "cell_type": "code",
   "execution_count": 38,
   "id": "371f9d2c",
   "metadata": {},
   "outputs": [
    {
     "name": "stdout",
     "output_type": "stream",
     "text": [
      "{1, '1', '2'}\n"
     ]
    }
   ],
   "source": [
    "mylist = [1, 1, '2', '1']\n",
    "myset = set(mylist)\n",
    "print(myset)"
   ]
  },
  {
   "cell_type": "code",
   "execution_count": 39,
   "id": "8b6c3c1d",
   "metadata": {},
   "outputs": [
    {
     "name": "stdout",
     "output_type": "stream",
     "text": [
      "[1, '1', '2']\n"
     ]
    }
   ],
   "source": [
    "myset = list(myset)\n",
    "print(myset)"
   ]
  },
  {
   "cell_type": "code",
   "execution_count": 44,
   "id": "a0b6df9d",
   "metadata": {},
   "outputs": [
    {
     "name": "stdout",
     "output_type": "stream",
     "text": [
      "ok\n",
      "okk\n"
     ]
    }
   ],
   "source": [
    "a = 11\n",
    "if (a > 10) or not(a < -10) :\n",
    "    print('ok')\n",
    "    print('okk')\n",
    "elif a > 5 :\n",
    "    print('5')\n",
    "else:\n",
    "    print('nok')"
   ]
  },
  {
   "cell_type": "code",
   "execution_count": 45,
   "id": "bdd51d74",
   "metadata": {},
   "outputs": [
    {
     "name": "stdout",
     "output_type": "stream",
     "text": [
      "0\n",
      "1\n",
      "2\n",
      "3\n",
      "4\n",
      "5\n"
     ]
    }
   ],
   "source": [
    "a = 0\n",
    "while a <= 5 :\n",
    "    print(a)\n",
    "    a += 1"
   ]
  },
  {
   "cell_type": "code",
   "execution_count": null,
   "id": "16ae5cd6",
   "metadata": {},
   "outputs": [],
   "source": [
    "for (a = 0; a <= 5, a+=1) {\n",
    "    cout << a\n",
    "}"
   ]
  },
  {
   "cell_type": "code",
   "execution_count": 51,
   "id": "b9bbb601",
   "metadata": {},
   "outputs": [
    {
     "name": "stdout",
     "output_type": "stream",
     "text": [
      "1\n",
      "exit\n"
     ]
    }
   ],
   "source": [
    "for a in range(0, 6):\n",
    "    if a % 2 == 0 :\n",
    "        continue\n",
    "    if a == 3:\n",
    "        break\n",
    "    print(a)\n",
    "print('exit')   "
   ]
  },
  {
   "cell_type": "code",
   "execution_count": 52,
   "id": "69f46ef7",
   "metadata": {},
   "outputs": [],
   "source": [
    "def myfunc1(a, b , c):\n",
    "    if type(a) == type(b):\n",
    "        d = a + b + c \n",
    "    else:\n",
    "        return 0\n",
    "    return d\n",
    "\n",
    "def myfunc2(a, b , c):\n",
    "    d = a + b + c \n",
    "    print(d)"
   ]
  },
  {
   "cell_type": "code",
   "execution_count": 57,
   "id": "869ae217",
   "metadata": {},
   "outputs": [],
   "source": [
    "var = myfunc1(1, 2, 3.0)"
   ]
  },
  {
   "cell_type": "code",
   "execution_count": 59,
   "id": "c4c50eb3",
   "metadata": {},
   "outputs": [
    {
     "name": "stdout",
     "output_type": "stream",
     "text": [
      "6\n"
     ]
    }
   ],
   "source": [
    "print(int(var))"
   ]
  },
  {
   "cell_type": "code",
   "execution_count": 63,
   "id": "ff95758a",
   "metadata": {},
   "outputs": [
    {
     "ename": "TypeError",
     "evalue": "can only concatenate str (not \"int\") to str",
     "output_type": "error",
     "traceback": [
      "\u001b[1;31m---------------------------------------------------------------------------\u001b[0m",
      "\u001b[1;31mTypeError\u001b[0m                                 Traceback (most recent call last)",
      "Input \u001b[1;32mIn [63]\u001b[0m, in \u001b[0;36m<cell line: 1>\u001b[1;34m()\u001b[0m\n\u001b[1;32m----> 1\u001b[0m var \u001b[38;5;241m=\u001b[39m \u001b[43mmyfunc1\u001b[49m\u001b[43m(\u001b[49m\u001b[38;5;124;43m'\u001b[39;49m\u001b[38;5;124;43ma\u001b[39;49m\u001b[38;5;124;43m'\u001b[39;49m\u001b[43m,\u001b[49m\u001b[43m \u001b[49m\u001b[38;5;124;43m'\u001b[39;49m\u001b[38;5;124;43msalam\u001b[39;49m\u001b[38;5;124;43m'\u001b[39;49m\u001b[43m,\u001b[49m\u001b[43m \u001b[49m\u001b[38;5;241;43m1\u001b[39;49m\u001b[43m)\u001b[49m\n",
      "Input \u001b[1;32mIn [52]\u001b[0m, in \u001b[0;36mmyfunc1\u001b[1;34m(a, b, c)\u001b[0m\n\u001b[0;32m      1\u001b[0m \u001b[38;5;28;01mdef\u001b[39;00m \u001b[38;5;21mmyfunc1\u001b[39m(a, b , c):\n\u001b[1;32m----> 2\u001b[0m     d \u001b[38;5;241m=\u001b[39m \u001b[43ma\u001b[49m\u001b[43m \u001b[49m\u001b[38;5;241;43m+\u001b[39;49m\u001b[43m \u001b[49m\u001b[43mb\u001b[49m\u001b[43m \u001b[49m\u001b[38;5;241;43m+\u001b[39;49m\u001b[43m \u001b[49m\u001b[43mc\u001b[49m \n\u001b[0;32m      3\u001b[0m     \u001b[38;5;28;01mreturn\u001b[39;00m d\n",
      "\u001b[1;31mTypeError\u001b[0m: can only concatenate str (not \"int\") to str"
     ]
    }
   ],
   "source": [
    "var = myfunc1('a', 'salam', 1)"
   ]
  },
  {
   "cell_type": "code",
   "execution_count": 62,
   "id": "0c416169",
   "metadata": {},
   "outputs": [
    {
     "name": "stdout",
     "output_type": "stream",
     "text": [
      "asalam!\n"
     ]
    }
   ],
   "source": [
    "print(var)"
   ]
  },
  {
   "cell_type": "code",
   "execution_count": 64,
   "id": "acf91443",
   "metadata": {},
   "outputs": [],
   "source": [
    "f = lambda a, b, c : a + b + c"
   ]
  },
  {
   "cell_type": "code",
   "execution_count": 65,
   "id": "360574a2",
   "metadata": {},
   "outputs": [
    {
     "data": {
      "text/plain": [
       "6"
      ]
     },
     "execution_count": 65,
     "metadata": {},
     "output_type": "execute_result"
    }
   ],
   "source": [
    "f(1, 2, 3)"
   ]
  },
  {
   "cell_type": "code",
   "execution_count": 66,
   "id": "b110a161",
   "metadata": {},
   "outputs": [],
   "source": [
    "mylist = [-90, -120, 80, 75, 12]"
   ]
  },
  {
   "cell_type": "code",
   "execution_count": 67,
   "id": "eddc28c0",
   "metadata": {},
   "outputs": [
    {
     "name": "stdout",
     "output_type": "stream",
     "text": [
      "[-120, -90, 12, 75, 80]\n"
     ]
    }
   ],
   "source": [
    "mylist.sort()\n",
    "print(mylist)"
   ]
  },
  {
   "cell_type": "code",
   "execution_count": 68,
   "id": "c0f24ca2",
   "metadata": {},
   "outputs": [],
   "source": [
    "def f(number):\n",
    "    return abs(number - 12)"
   ]
  },
  {
   "cell_type": "code",
   "execution_count": 69,
   "id": "2c431251",
   "metadata": {},
   "outputs": [],
   "source": [
    "mylist.sort(key= f)"
   ]
  },
  {
   "cell_type": "code",
   "execution_count": 70,
   "id": "9a718708",
   "metadata": {},
   "outputs": [
    {
     "name": "stdout",
     "output_type": "stream",
     "text": [
      "[12, 75, 80, -90, -120]\n"
     ]
    }
   ],
   "source": [
    "print(mylist)"
   ]
  },
  {
   "cell_type": "code",
   "execution_count": 73,
   "id": "eae5e525",
   "metadata": {},
   "outputs": [],
   "source": [
    "mylist = ['apple', 'age', 'oranange', 'strawberry', 'appending']"
   ]
  },
  {
   "cell_type": "code",
   "execution_count": 74,
   "id": "e5e49bf2",
   "metadata": {},
   "outputs": [
    {
     "name": "stdout",
     "output_type": "stream",
     "text": [
      "['age', 'appending', 'apple', 'oranange', 'strawberry']\n"
     ]
    }
   ],
   "source": [
    "mylist.sort()\n",
    "print(mylist)"
   ]
  },
  {
   "cell_type": "code",
   "execution_count": 75,
   "id": "831a1599",
   "metadata": {},
   "outputs": [],
   "source": [
    "def f(string):\n",
    "    return len(string)"
   ]
  },
  {
   "cell_type": "code",
   "execution_count": 76,
   "id": "86bbfd92",
   "metadata": {},
   "outputs": [],
   "source": [
    "mylist.sort(key = f)"
   ]
  },
  {
   "cell_type": "code",
   "execution_count": 77,
   "id": "054ae7a3",
   "metadata": {},
   "outputs": [
    {
     "name": "stdout",
     "output_type": "stream",
     "text": [
      "['age', 'apple', 'oranange', 'appending', 'strawberry']\n"
     ]
    }
   ],
   "source": [
    "print(mylist)"
   ]
  },
  {
   "cell_type": "code",
   "execution_count": 80,
   "id": "ec1995d3",
   "metadata": {},
   "outputs": [],
   "source": [
    "mylist.sort(key = lambda string : -len(string))"
   ]
  },
  {
   "cell_type": "code",
   "execution_count": 81,
   "id": "bf0a0059",
   "metadata": {},
   "outputs": [
    {
     "name": "stdout",
     "output_type": "stream",
     "text": [
      "['strawberry', 'appending', 'oranange', 'apple', 'age']\n"
     ]
    }
   ],
   "source": [
    "print(mylist)"
   ]
  },
  {
   "cell_type": "code",
   "execution_count": 82,
   "id": "c1e4c479",
   "metadata": {},
   "outputs": [],
   "source": [
    "list2d = [[1,2], [2,3], [3,4]]"
   ]
  },
  {
   "cell_type": "code",
   "execution_count": 84,
   "id": "64113b9a",
   "metadata": {},
   "outputs": [
    {
     "name": "stdout",
     "output_type": "stream",
     "text": [
      "1\n"
     ]
    }
   ],
   "source": [
    "print(list2d[0][0])"
   ]
  },
  {
   "cell_type": "code",
   "execution_count": 85,
   "id": "8c505d59",
   "metadata": {},
   "outputs": [],
   "source": [
    "row = 3\n",
    "col = 4\n",
    "\n",
    "a = []\n",
    "for i in range(row):\n",
    "    b = []\n",
    "    for j in range(col):\n",
    "        b.append(0)\n",
    "    a.append(b)"
   ]
  },
  {
   "cell_type": "code",
   "execution_count": 86,
   "id": "e2aba902",
   "metadata": {},
   "outputs": [
    {
     "name": "stdout",
     "output_type": "stream",
     "text": [
      "[[0, 0, 0, 0], [0, 0, 0, 0], [0, 0, 0, 0]]\n"
     ]
    }
   ],
   "source": [
    "print(a)"
   ]
  },
  {
   "cell_type": "code",
   "execution_count": 87,
   "id": "5425a0b1",
   "metadata": {},
   "outputs": [
    {
     "name": "stdout",
     "output_type": "stream",
     "text": [
      "[0, 0, 0, 0]\n"
     ]
    }
   ],
   "source": [
    "x = [0]\n",
    "y = x * 4 # y = [0] + [0] + [0] + [0]\n",
    "print(y)"
   ]
  },
  {
   "cell_type": "code",
   "execution_count": 88,
   "id": "9abfa6d0",
   "metadata": {},
   "outputs": [
    {
     "name": "stdout",
     "output_type": "stream",
     "text": [
      "aaaa\n"
     ]
    }
   ],
   "source": [
    "x = 'a'\n",
    "y = x * 4 # 'a' + 'a' + 'a' + 'a'\n",
    "print(y)"
   ]
  },
  {
   "cell_type": "code",
   "execution_count": 89,
   "id": "638103e0",
   "metadata": {},
   "outputs": [],
   "source": [
    "row = 3\n",
    "col = 4\n",
    "\n",
    "a = []\n",
    "for i in range(row):\n",
    "    b = [0] * col\n",
    "    a.append(b)"
   ]
  },
  {
   "cell_type": "code",
   "execution_count": 90,
   "id": "32a18743",
   "metadata": {},
   "outputs": [
    {
     "name": "stdout",
     "output_type": "stream",
     "text": [
      "[[0, 0, 0, 0], [0, 0, 0, 0], [0, 0, 0, 0]]\n"
     ]
    }
   ],
   "source": [
    "print(a)"
   ]
  },
  {
   "cell_type": "code",
   "execution_count": 91,
   "id": "c0705b28",
   "metadata": {},
   "outputs": [
    {
     "name": "stdout",
     "output_type": "stream",
     "text": [
      "[[0, 2, 0, 0], [0, 0, 0, 0], [0, 0, 0, 0]]\n"
     ]
    }
   ],
   "source": [
    "a[0][1] = 2\n",
    "print(a)"
   ]
  },
  {
   "cell_type": "code",
   "execution_count": 92,
   "id": "83b238f3",
   "metadata": {},
   "outputs": [
    {
     "name": "stdout",
     "output_type": "stream",
     "text": [
      "[[0, 0, 0, 0], [0, 0, 0, 0], [0, 0, 0, 0]]\n"
     ]
    }
   ],
   "source": [
    "a = [[0] * 4] * 3\n",
    "print(a)"
   ]
  },
  {
   "cell_type": "code",
   "execution_count": 93,
   "id": "a2445fd0",
   "metadata": {},
   "outputs": [
    {
     "name": "stdout",
     "output_type": "stream",
     "text": [
      "[[0, 2, 0, 0], [0, 2, 0, 0], [0, 2, 0, 0]]\n"
     ]
    }
   ],
   "source": [
    "a[0][1] = 2\n",
    "print(a)"
   ]
  },
  {
   "cell_type": "code",
   "execution_count": null,
   "id": "88fd2b4b",
   "metadata": {},
   "outputs": [],
   "source": [
    "row = 3\n",
    "col = 4\n",
    "\n",
    "a = []\n",
    "for i in range(row):\n",
    "    b = []\n",
    "    for j in range(col):\n",
    "        b.append(0)\n",
    "    a.append(b)"
   ]
  },
  {
   "cell_type": "code",
   "execution_count": 95,
   "id": "4cc7ba4e",
   "metadata": {},
   "outputs": [
    {
     "name": "stdout",
     "output_type": "stream",
     "text": [
      "[[0, 0, 0, 0], [0, 0, 0, 0], [0, 0, 0, 0]]\n"
     ]
    }
   ],
   "source": [
    "a = [[0 for j in range(col)] for i in range(row)] # list comprehension\n",
    "print(a)"
   ]
  },
  {
   "cell_type": "code",
   "execution_count": 96,
   "id": "bdaa7e92",
   "metadata": {},
   "outputs": [
    {
     "name": "stdout",
     "output_type": "stream",
     "text": [
      "[[0, 0, 2, 0], [0, 0, 0, 0], [0, 0, 0, 0]]\n"
     ]
    }
   ],
   "source": [
    "a[0][2] = 2\n",
    "print(a)"
   ]
  },
  {
   "cell_type": "code",
   "execution_count": 100,
   "id": "480e2bb0",
   "metadata": {},
   "outputs": [
    {
     "name": "stdout",
     "output_type": "stream",
     "text": [
      "['a', 'b', 'c', 'd']\n",
      "[0, 1, 2, 3]\n",
      "[('a', 0), ('b', 1), ('c', 2), ('d', 3)]\n"
     ]
    }
   ],
   "source": [
    "keys = ['a', 'b', 'c', 'd']\n",
    "values = list(range(4))\n",
    "print(keys)\n",
    "print(values)\n",
    "print(list(zip(keys, values)))"
   ]
  },
  {
   "cell_type": "code",
   "execution_count": 101,
   "id": "1c26443a",
   "metadata": {},
   "outputs": [
    {
     "name": "stdout",
     "output_type": "stream",
     "text": [
      "{'a': 0, 'b': 1, 'c': 2, 'd': 3}\n"
     ]
    }
   ],
   "source": [
    "keys = ['a', 'b', 'c', 'd']\n",
    "values = list(range(4))\n",
    "x = {k:v for k,v in zip(keys, values)}\n",
    "print(x)"
   ]
  },
  {
   "cell_type": "code",
   "execution_count": 102,
   "id": "86d50741",
   "metadata": {},
   "outputs": [],
   "source": [
    "# fact(n) = fact(n-1) * n\n",
    "# n = 1 : 1\n",
    "\n",
    "def fact(n):\n",
    "    if n == 1:\n",
    "        return 1\n",
    "    else:\n",
    "        return fact(n-1) * n "
   ]
  },
  {
   "cell_type": "code",
   "execution_count": 103,
   "id": "78e8506c",
   "metadata": {},
   "outputs": [
    {
     "name": "stdout",
     "output_type": "stream",
     "text": [
      "24\n"
     ]
    }
   ],
   "source": [
    "print(fact(4))\n",
    "# fact(3) * 4 -> fact(2) * 3 * 4 -> 1 * 2 * 3 * 4"
   ]
  },
  {
   "cell_type": "code",
   "execution_count": 104,
   "id": "37a05c5e",
   "metadata": {},
   "outputs": [
    {
     "name": "stdout",
     "output_type": "stream",
     "text": [
      "13\n"
     ]
    }
   ],
   "source": [
    "# fib(n) = fib(n-1) + fib(n-2)\n",
    "# fib(1) : 1 , fib(2) : 1\n",
    "# 1, 1, 2, 3, 5, 8, 13\n",
    "def fib(n):\n",
    "    if n == 1 or n == 2: # if n in [1,2]\n",
    "        return 1\n",
    "    else:\n",
    "        return fib(n-1) + fib(n-2)\n",
    "print(fib(7))"
   ]
  },
  {
   "cell_type": "code",
   "execution_count": 106,
   "id": "b1e167a3",
   "metadata": {},
   "outputs": [
    {
     "name": "stdout",
     "output_type": "stream",
     "text": [
      "2.402173502732879\n"
     ]
    }
   ],
   "source": [
    "import math\n",
    "print(math.log(14, 3))"
   ]
  },
  {
   "cell_type": "code",
   "execution_count": 107,
   "id": "879e60ab",
   "metadata": {},
   "outputs": [],
   "source": [
    "file = open('test1.txt', 'w')\n",
    "file.write('hello\\npython file\\ngood bye\\n')\n",
    "file.close()\n"
   ]
  },
  {
   "cell_type": "code",
   "execution_count": 108,
   "id": "c0342b56",
   "metadata": {},
   "outputs": [
    {
     "name": "stdout",
     "output_type": "stream",
     "text": [
      "hello\n",
      "python file\n",
      "good bye\n",
      "\n"
     ]
    }
   ],
   "source": [
    "file = open('test1.txt', 'r')\n",
    "print(file.read())\n",
    "file.close()"
   ]
  },
  {
   "cell_type": "code",
   "execution_count": 110,
   "id": "458c3613",
   "metadata": {},
   "outputs": [
    {
     "name": "stdout",
     "output_type": "stream",
     "text": [
      "HELLO\n",
      "PYTHON FILE\n",
      "GOOD BYE\n"
     ]
    }
   ],
   "source": [
    "file = open('test1.txt', 'r')\n",
    "for line in file:\n",
    "    print(line.upper().strip())\n",
    "file.close()"
   ]
  },
  {
   "cell_type": "code",
   "execution_count": null,
   "id": "d7aa03b6",
   "metadata": {},
   "outputs": [],
   "source": [
    "# functional programming\n",
    "# object orientend programming\n",
    "# concurrent programming\n",
    "# web scraping\n",
    "# ---\n",
    "# data science + sql + numpy + pandas"
   ]
  },
  {
   "cell_type": "code",
   "execution_count": 112,
   "id": "9d7996fe",
   "metadata": {},
   "outputs": [
    {
     "data": {
      "text/plain": [
       "1"
      ]
     },
     "execution_count": 112,
     "metadata": {},
     "output_type": "execute_result"
    }
   ],
   "source": [
    "min(1, 2)"
   ]
  },
  {
   "cell_type": "code",
   "execution_count": 113,
   "id": "9bed5805",
   "metadata": {},
   "outputs": [
    {
     "name": "stdout",
     "output_type": "stream",
     "text": [
      "salam*ok!"
     ]
    }
   ],
   "source": [
    "print('salam', 'ok', sep = '*', end = '!')"
   ]
  },
  {
   "cell_type": "code",
   "execution_count": null,
   "id": "7f25684d",
   "metadata": {},
   "outputs": [],
   "source": [
    "#Saeedi 400521234 C++ 18\n",
    "\n",
    "#Saeedi\n",
    "#400521234\n",
    "#C++\n",
    "#18\n",
    "\n"
   ]
  },
  {
   "cell_type": "code",
   "execution_count": 1,
   "id": "92c9d706",
   "metadata": {},
   "outputs": [
    {
     "name": "stdout",
     "output_type": "stream",
     "text": [
      "Saeedi\n",
      "400521234\n",
      "C++\n",
      "18\n"
     ]
    }
   ],
   "source": [
    "name = input()\n",
    "sid = input()\n",
    "lang = input()\n",
    "mark = float(input())\n",
    "#mark = float(mark)"
   ]
  },
  {
   "cell_type": "code",
   "execution_count": 6,
   "id": "d5d8c3fd",
   "metadata": {},
   "outputs": [
    {
     "data": {
      "text/plain": [
       "str"
      ]
     },
     "execution_count": 6,
     "metadata": {},
     "output_type": "execute_result"
    }
   ],
   "source": [
    "type(name)"
   ]
  },
  {
   "cell_type": "code",
   "execution_count": 7,
   "id": "fcbdd786",
   "metadata": {},
   "outputs": [
    {
     "name": "stdout",
     "output_type": "stream",
     "text": [
      "[1, 2, 3, 4, 5]\n"
     ]
    }
   ],
   "source": [
    "mylist = input()"
   ]
  },
  {
   "cell_type": "code",
   "execution_count": 9,
   "id": "ec1e1fe2",
   "metadata": {},
   "outputs": [
    {
     "name": "stdout",
     "output_type": "stream",
     "text": [
      "<class 'str'>\n"
     ]
    }
   ],
   "source": [
    "print(type(mylist))"
   ]
  },
  {
   "cell_type": "code",
   "execution_count": 12,
   "id": "d8bb1a74",
   "metadata": {},
   "outputs": [
    {
     "name": "stdout",
     "output_type": "stream",
     "text": [
      "Saeedi,400521234,C++,18\n"
     ]
    }
   ],
   "source": [
    "data = input()"
   ]
  },
  {
   "cell_type": "code",
   "execution_count": 13,
   "id": "06bdc20f",
   "metadata": {},
   "outputs": [
    {
     "name": "stdout",
     "output_type": "stream",
     "text": [
      "['Saeedi', '400521234', 'C++', '18']\n"
     ]
    }
   ],
   "source": [
    "print(data.split(','))"
   ]
  },
  {
   "cell_type": "code",
   "execution_count": 14,
   "id": "6b22de1b",
   "metadata": {},
   "outputs": [],
   "source": [
    "name, sid, lang, mark = data.split(',')"
   ]
  },
  {
   "cell_type": "code",
   "execution_count": 15,
   "id": "f3db0e9e",
   "metadata": {},
   "outputs": [
    {
     "name": "stdout",
     "output_type": "stream",
     "text": [
      "C++\n"
     ]
    }
   ],
   "source": [
    "print(lang)"
   ]
  },
  {
   "cell_type": "code",
   "execution_count": 16,
   "id": "aee71517",
   "metadata": {},
   "outputs": [
    {
     "name": "stdout",
     "output_type": "stream",
     "text": [
      "20 12 10 9 8 99 -9 1000\n"
     ]
    }
   ],
   "source": [
    "data = input()"
   ]
  },
  {
   "cell_type": "code",
   "execution_count": null,
   "id": "9338ceb2",
   "metadata": {},
   "outputs": [],
   "source": [
    "data = list(map(int, input().split()))"
   ]
  },
  {
   "cell_type": "code",
   "execution_count": 17,
   "id": "8147f538",
   "metadata": {},
   "outputs": [],
   "source": [
    "data = data.split()"
   ]
  },
  {
   "cell_type": "code",
   "execution_count": 18,
   "id": "3547a997",
   "metadata": {},
   "outputs": [
    {
     "name": "stdout",
     "output_type": "stream",
     "text": [
      "['20', '12', '10', '9', '8', '99', '-9', '1000']\n"
     ]
    }
   ],
   "source": [
    "print(data)"
   ]
  },
  {
   "cell_type": "code",
   "execution_count": null,
   "id": "5be5b069",
   "metadata": {},
   "outputs": [],
   "source": [
    "for i in range(len(data)):\n",
    "    data[i] = int(data[i])"
   ]
  },
  {
   "cell_type": "code",
   "execution_count": 20,
   "id": "baeb8e2b",
   "metadata": {},
   "outputs": [],
   "source": [
    "data_2 = list(map(int, data))"
   ]
  },
  {
   "cell_type": "code",
   "execution_count": 21,
   "id": "5d051042",
   "metadata": {},
   "outputs": [
    {
     "name": "stdout",
     "output_type": "stream",
     "text": [
      "[20, 12, 10, 9, 8, 99, -9, 1000]\n"
     ]
    }
   ],
   "source": [
    "print(data_2)"
   ]
  },
  {
   "cell_type": "code",
   "execution_count": 19,
   "id": "d6dd5ae8",
   "metadata": {},
   "outputs": [],
   "source": [
    "map?"
   ]
  },
  {
   "cell_type": "code",
   "execution_count": 22,
   "id": "4dca3b9c",
   "metadata": {},
   "outputs": [],
   "source": [
    "marks = [10, 9, 13, 18, 15, 17]"
   ]
  },
  {
   "cell_type": "code",
   "execution_count": 23,
   "id": "7e612c9c",
   "metadata": {},
   "outputs": [],
   "source": [
    "marks = list(map(lambda m: m+2, marks))"
   ]
  },
  {
   "cell_type": "code",
   "execution_count": 24,
   "id": "136fefeb",
   "metadata": {},
   "outputs": [
    {
     "name": "stdout",
     "output_type": "stream",
     "text": [
      "[12, 11, 15, 20, 17, 19]\n"
     ]
    }
   ],
   "source": [
    "print(marks)"
   ]
  },
  {
   "cell_type": "code",
   "execution_count": null,
   "id": "5358c1b7",
   "metadata": {},
   "outputs": [],
   "source": [
    "def plus2(m):\n",
    "    return m+2\n",
    "\n",
    "marks = list(map(plus2, marks))"
   ]
  },
  {
   "cell_type": "code",
   "execution_count": 25,
   "id": "91f3182a",
   "metadata": {},
   "outputs": [],
   "source": [
    "data = 'maryam 19'"
   ]
  },
  {
   "cell_type": "code",
   "execution_count": 31,
   "id": "f82ba351",
   "metadata": {},
   "outputs": [
    {
     "name": "stdout",
     "output_type": "stream",
     "text": [
      "ssss\n",
      "invalid input data\n",
      " enter a numeric value again\n",
      "ssss\n",
      "invalid input data\n",
      " enter a numeric value again\n",
      "ssss\n",
      "invalid input data\n",
      " enter a numeric value again\n",
      "12\n"
     ]
    }
   ],
   "source": [
    "while True:\n",
    "    try:\n",
    "        age = int(input())\n",
    "    except:\n",
    "        print('invalid input data\\n enter a numeric value again')\n",
    "    else:\n",
    "        break"
   ]
  },
  {
   "cell_type": "code",
   "execution_count": 29,
   "id": "53c453a8",
   "metadata": {},
   "outputs": [
    {
     "name": "stdout",
     "output_type": "stream",
     "text": [
      "<class 'int'> 13\n"
     ]
    }
   ],
   "source": [
    "print(type(age), age)"
   ]
  },
  {
   "cell_type": "code",
   "execution_count": 32,
   "id": "60e19a66",
   "metadata": {},
   "outputs": [],
   "source": [
    "def f(n):\n",
    "    try:\n",
    "        n = int(n)\n",
    "    except:\n",
    "        return n\n",
    "    else:\n",
    "        return n"
   ]
  },
  {
   "cell_type": "code",
   "execution_count": 33,
   "id": "170e6e35",
   "metadata": {},
   "outputs": [
    {
     "data": {
      "text/plain": [
       "['maryam', 19]"
      ]
     },
     "execution_count": 33,
     "metadata": {},
     "output_type": "execute_result"
    }
   ],
   "source": [
    "list(map(f, 'maryam 19'.split()))"
   ]
  },
  {
   "cell_type": "code",
   "execution_count": 34,
   "id": "16298a59",
   "metadata": {},
   "outputs": [],
   "source": [
    "s = 'hello world'"
   ]
  },
  {
   "cell_type": "code",
   "execution_count": 43,
   "id": "00d21a5c",
   "metadata": {},
   "outputs": [
    {
     "name": "stdout",
     "output_type": "stream",
     "text": [
      "False\n"
     ]
    }
   ],
   "source": [
    "print(s.endswith('H'))"
   ]
  },
  {
   "cell_type": "code",
   "execution_count": 49,
   "id": "f7e1a999",
   "metadata": {},
   "outputs": [
    {
     "name": "stdout",
     "output_type": "stream",
     "text": [
      "1\n"
     ]
    }
   ],
   "source": [
    "print(s.count('hello'))"
   ]
  },
  {
   "cell_type": "code",
   "execution_count": 54,
   "id": "4b736b78",
   "metadata": {},
   "outputs": [
    {
     "name": "stdout",
     "output_type": "stream",
     "text": [
      "9\n"
     ]
    }
   ],
   "source": [
    "print(s.find('l', 4))"
   ]
  },
  {
   "cell_type": "code",
   "execution_count": 55,
   "id": "d7914895",
   "metadata": {},
   "outputs": [],
   "source": [
    "s.find?"
   ]
  },
  {
   "cell_type": "code",
   "execution_count": 57,
   "id": "ea0e9799",
   "metadata": {},
   "outputs": [
    {
     "name": "stdout",
     "output_type": "stream",
     "text": [
      "a++++b++++c++++d\n"
     ]
    }
   ],
   "source": [
    "mylist = ['a', 'b', 'c', 'd']\n",
    "print('++++'.join(mylist))"
   ]
  },
  {
   "cell_type": "code",
   "execution_count": 58,
   "id": "e321a575",
   "metadata": {},
   "outputs": [
    {
     "name": "stdout",
     "output_type": "stream",
     "text": [
      "['a', 'b', 'c', 'd']\n"
     ]
    }
   ],
   "source": [
    "mystr = 'a++++b++++c++++d'\n",
    "print(mystr.split('++++'))"
   ]
  },
  {
   "cell_type": "code",
   "execution_count": 60,
   "id": "7269cb41",
   "metadata": {},
   "outputs": [
    {
     "name": "stdout",
     "output_type": "stream",
     "text": [
      "abcd\n"
     ]
    }
   ],
   "source": [
    "print(mystr.replace('+', ''))"
   ]
  },
  {
   "cell_type": "code",
   "execution_count": 68,
   "id": "8220d2f9",
   "metadata": {},
   "outputs": [
    {
     "name": "stdout",
     "output_type": "stream",
     "text": [
      "empty\n"
     ]
    }
   ],
   "source": [
    "a = []\n",
    "if a:\n",
    "    print('not empty')\n",
    "else:\n",
    "    print('empty')"
   ]
  },
  {
   "cell_type": "code",
   "execution_count": 70,
   "id": "36879c0e",
   "metadata": {},
   "outputs": [],
   "source": [
    "x = open('test1.txt')"
   ]
  },
  {
   "cell_type": "code",
   "execution_count": 71,
   "id": "a2cf9998",
   "metadata": {},
   "outputs": [
    {
     "name": "stdout",
     "output_type": "stream",
     "text": [
      "<class '_io.TextIOWrapper'>\n"
     ]
    }
   ],
   "source": [
    "print(type(x))"
   ]
  },
  {
   "cell_type": "code",
   "execution_count": 72,
   "id": "ee63f509",
   "metadata": {},
   "outputs": [],
   "source": [
    "y = x.readlines()"
   ]
  },
  {
   "cell_type": "code",
   "execution_count": 73,
   "id": "d2b00b5c",
   "metadata": {},
   "outputs": [
    {
     "name": "stdout",
     "output_type": "stream",
     "text": [
      "['hello\\n', 'python file\\n', 'good bye\\n']\n"
     ]
    }
   ],
   "source": [
    "print(y)"
   ]
  },
  {
   "cell_type": "code",
   "execution_count": 76,
   "id": "8f5b3a66",
   "metadata": {},
   "outputs": [
    {
     "data": {
      "text/plain": [
       "['hello', 'python file', 'good bye']"
      ]
     },
     "execution_count": 76,
     "metadata": {},
     "output_type": "execute_result"
    }
   ],
   "source": [
    "list(map(lambda m: m.replace('\\n', ''), y))"
   ]
  },
  {
   "cell_type": "code",
   "execution_count": null,
   "id": "40ce368e",
   "metadata": {},
   "outputs": [],
   "source": []
  }
 ],
 "metadata": {
  "kernelspec": {
   "display_name": "Python 3 (ipykernel)",
   "language": "python",
   "name": "python3"
  },
  "language_info": {
   "codemirror_mode": {
    "name": "ipython",
    "version": 3
   },
   "file_extension": ".py",
   "mimetype": "text/x-python",
   "name": "python",
   "nbconvert_exporter": "python",
   "pygments_lexer": "ipython3",
   "version": "3.10.6"
  }
 },
 "nbformat": 4,
 "nbformat_minor": 5
}
