{
 "cells": [
  {
   "cell_type": "markdown",
   "metadata": {},
   "source": [
    "### Function Introspection"
   ]
  },
  {
   "cell_type": "code",
   "execution_count": 1,
   "metadata": {
    "jupyter": {
     "outputs_hidden": true
    }
   },
   "outputs": [],
   "source": [
    "def fact(n: \"some non-negative integer\") -> \"n! or 0 if n < 0\":\n",
    "    \"\"\"Calculates the factorial of a non-negative integer n\n",
    "    \n",
    "    If n is negative, returns 0.\n",
    "    \"\"\"\n",
    "    if n < 0:\n",
    "        return 0\n",
    "    elif n <= 1:\n",
    "        return 1\n",
    "    else:\n",
    "        return n * fact(n-1)"
   ]
  },
  {
   "cell_type": "markdown",
   "metadata": {},
   "source": [
    "We can see all the attributes that belong to a function using the **dir** function:"
   ]
  },
  {
   "cell_type": "code",
   "execution_count": 2,
   "metadata": {},
   "outputs": [
    {
     "data": {
      "text/plain": [
       "['__annotations__',\n",
       " '__call__',\n",
       " '__class__',\n",
       " '__closure__',\n",
       " '__code__',\n",
       " '__defaults__',\n",
       " '__delattr__',\n",
       " '__dict__',\n",
       " '__dir__',\n",
       " '__doc__',\n",
       " '__eq__',\n",
       " '__format__',\n",
       " '__ge__',\n",
       " '__get__',\n",
       " '__getattribute__',\n",
       " '__globals__',\n",
       " '__gt__',\n",
       " '__hash__',\n",
       " '__init__',\n",
       " '__init_subclass__',\n",
       " '__kwdefaults__',\n",
       " '__le__',\n",
       " '__lt__',\n",
       " '__module__',\n",
       " '__name__',\n",
       " '__ne__',\n",
       " '__new__',\n",
       " '__qualname__',\n",
       " '__reduce__',\n",
       " '__reduce_ex__',\n",
       " '__repr__',\n",
       " '__setattr__',\n",
       " '__sizeof__',\n",
       " '__str__',\n",
       " '__subclasshook__']"
      ]
     },
     "execution_count": 2,
     "metadata": {},
     "output_type": "execute_result"
    }
   ],
   "source": [
    "dir(fact)"
   ]
  },
  {
   "cell_type": "code",
   "execution_count": 3,
   "metadata": {},
   "outputs": [
    {
     "data": {
      "text/plain": [
       "{'n': 'some non-negative integer', 'return': 'n! or 0 if n < 0'}"
      ]
     },
     "execution_count": 3,
     "metadata": {},
     "output_type": "execute_result"
    }
   ],
   "source": [
    "fact.__annotations__"
   ]
  },
  {
   "cell_type": "code",
   "execution_count": 4,
   "metadata": {},
   "outputs": [],
   "source": [
    "class A:\n",
    "    c = 2\n",
    "    def __init__(self):\n",
    "        self.a = 1\n",
    "        self.b = 2"
   ]
  },
  {
   "cell_type": "code",
   "execution_count": 5,
   "metadata": {},
   "outputs": [
    {
     "name": "stdout",
     "output_type": "stream",
     "text": [
      "1 2 2\n"
     ]
    }
   ],
   "source": [
    "aa = A()\n",
    "print(aa.a, aa.b, aa.c)"
   ]
  },
  {
   "cell_type": "code",
   "execution_count": 6,
   "metadata": {},
   "outputs": [
    {
     "name": "stdout",
     "output_type": "stream",
     "text": [
      "12\n"
     ]
    }
   ],
   "source": [
    "aa.d = 12\n",
    "print(aa.d)"
   ]
  },
  {
   "cell_type": "markdown",
   "metadata": {},
   "source": [
    "Since functions are objects, we can add attributes to a function:"
   ]
  },
  {
   "cell_type": "code",
   "execution_count": 7,
   "metadata": {
    "jupyter": {
     "outputs_hidden": true
    }
   },
   "outputs": [],
   "source": [
    "fact.short_description = \"factorial function\""
   ]
  },
  {
   "cell_type": "code",
   "execution_count": 8,
   "metadata": {},
   "outputs": [
    {
     "name": "stdout",
     "output_type": "stream",
     "text": [
      "factorial function\n"
     ]
    }
   ],
   "source": [
    "print(fact.short_description)"
   ]
  },
  {
   "cell_type": "markdown",
   "metadata": {},
   "source": [
    "We can see our **short_description** attribute, as well as some attributes we have seen before: **__annotations__** and **__doc__**:"
   ]
  },
  {
   "cell_type": "code",
   "execution_count": 10,
   "metadata": {},
   "outputs": [
    {
     "name": "stdout",
     "output_type": "stream",
     "text": [
      "Calculates the factorial of a non-negative integer n\n",
      "    \n",
      "    If n is negative, returns 0.\n",
      "    \n"
     ]
    }
   ],
   "source": [
    "print(fact.__doc__)"
   ]
  },
  {
   "cell_type": "code",
   "execution_count": 11,
   "metadata": {},
   "outputs": [
    {
     "data": {
      "text/plain": [
       "{'n': 'some non-negative integer', 'return': 'n! or 0 if n < 0'}"
      ]
     },
     "execution_count": 11,
     "metadata": {},
     "output_type": "execute_result"
    }
   ],
   "source": [
    "fact.__annotations__"
   ]
  },
  {
   "cell_type": "markdown",
   "metadata": {},
   "source": [
    "We'll revisit some of these attributes later in this course, but let's take a look at a few here:"
   ]
  },
  {
   "cell_type": "code",
   "execution_count": 12,
   "metadata": {
    "jupyter": {
     "outputs_hidden": true
    }
   },
   "outputs": [],
   "source": [
    "def my_func(a, b=2, c=3, *, kw1, kw2=2, **kwargs):\n",
    "    pass"
   ]
  },
  {
   "cell_type": "markdown",
   "metadata": {},
   "source": [
    "Let's assign my_func to another variable:"
   ]
  },
  {
   "cell_type": "code",
   "execution_count": 13,
   "metadata": {
    "jupyter": {
     "outputs_hidden": true
    }
   },
   "outputs": [],
   "source": [
    "f = my_func"
   ]
  },
  {
   "cell_type": "code",
   "execution_count": 15,
   "metadata": {},
   "outputs": [
    {
     "data": {
      "text/plain": [
       "function"
      ]
     },
     "execution_count": 15,
     "metadata": {},
     "output_type": "execute_result"
    }
   ],
   "source": [
    "type(f)"
   ]
  },
  {
   "cell_type": "markdown",
   "metadata": {},
   "source": [
    "The **__name__** attribute holds the function's name:"
   ]
  },
  {
   "cell_type": "code",
   "execution_count": 16,
   "metadata": {},
   "outputs": [
    {
     "data": {
      "text/plain": [
       "'my_func'"
      ]
     },
     "execution_count": 16,
     "metadata": {},
     "output_type": "execute_result"
    }
   ],
   "source": [
    "my_func.__name__"
   ]
  },
  {
   "cell_type": "code",
   "execution_count": 17,
   "metadata": {},
   "outputs": [
    {
     "data": {
      "text/plain": [
       "'my_func'"
      ]
     },
     "execution_count": 17,
     "metadata": {},
     "output_type": "execute_result"
    }
   ],
   "source": [
    "f.__name__"
   ]
  },
  {
   "cell_type": "markdown",
   "metadata": {},
   "source": [
    "The **__defaults__** attribute is a tuple containing any positional parameter defaults:"
   ]
  },
  {
   "cell_type": "code",
   "execution_count": 18,
   "metadata": {},
   "outputs": [
    {
     "data": {
      "text/plain": [
       "(2, 3)"
      ]
     },
     "execution_count": 18,
     "metadata": {},
     "output_type": "execute_result"
    }
   ],
   "source": [
    "my_func.__defaults__"
   ]
  },
  {
   "cell_type": "code",
   "execution_count": 19,
   "metadata": {},
   "outputs": [
    {
     "data": {
      "text/plain": [
       "{'kw2': 2}"
      ]
     },
     "execution_count": 19,
     "metadata": {},
     "output_type": "execute_result"
    }
   ],
   "source": [
    "my_func.__kwdefaults__"
   ]
  },
  {
   "cell_type": "markdown",
   "metadata": {},
   "source": [
    "Let's create a function with some local variables:"
   ]
  },
  {
   "cell_type": "code",
   "execution_count": 20,
   "metadata": {
    "jupyter": {
     "outputs_hidden": true
    }
   },
   "outputs": [],
   "source": [
    "def my_func(a, b=1, *args, **kwargs):\n",
    "    i = 10\n",
    "    b = min(i, b)\n",
    "    return a * b"
   ]
  },
  {
   "cell_type": "code",
   "execution_count": 21,
   "metadata": {},
   "outputs": [
    {
     "data": {
      "text/plain": [
       "'aaaaaaaaaa'"
      ]
     },
     "execution_count": 21,
     "metadata": {},
     "output_type": "execute_result"
    }
   ],
   "source": [
    "my_func('a', 100)"
   ]
  },
  {
   "cell_type": "markdown",
   "metadata": {},
   "source": [
    "The **__code__** attribute contains a **code** object:"
   ]
  },
  {
   "cell_type": "code",
   "execution_count": 22,
   "metadata": {},
   "outputs": [
    {
     "data": {
      "text/plain": [
       "<code object my_func at 0x000001DF8AF6F3A0, file \"<ipython-input-20-1fd320731204>\", line 1>"
      ]
     },
     "execution_count": 22,
     "metadata": {},
     "output_type": "execute_result"
    }
   ],
   "source": [
    "my_func.__code__ # dunder"
   ]
  },
  {
   "cell_type": "markdown",
   "metadata": {},
   "source": [
    "This **code** object itself has various properties:"
   ]
  },
  {
   "cell_type": "code",
   "execution_count": 23,
   "metadata": {},
   "outputs": [
    {
     "data": {
      "text/plain": [
       "['__class__',\n",
       " '__delattr__',\n",
       " '__dir__',\n",
       " '__doc__',\n",
       " '__eq__',\n",
       " '__format__',\n",
       " '__ge__',\n",
       " '__getattribute__',\n",
       " '__gt__',\n",
       " '__hash__',\n",
       " '__init__',\n",
       " '__init_subclass__',\n",
       " '__le__',\n",
       " '__lt__',\n",
       " '__ne__',\n",
       " '__new__',\n",
       " '__reduce__',\n",
       " '__reduce_ex__',\n",
       " '__repr__',\n",
       " '__setattr__',\n",
       " '__sizeof__',\n",
       " '__str__',\n",
       " '__subclasshook__',\n",
       " 'co_argcount',\n",
       " 'co_cellvars',\n",
       " 'co_code',\n",
       " 'co_consts',\n",
       " 'co_filename',\n",
       " 'co_firstlineno',\n",
       " 'co_flags',\n",
       " 'co_freevars',\n",
       " 'co_kwonlyargcount',\n",
       " 'co_lnotab',\n",
       " 'co_name',\n",
       " 'co_names',\n",
       " 'co_nlocals',\n",
       " 'co_posonlyargcount',\n",
       " 'co_stacksize',\n",
       " 'co_varnames',\n",
       " 'replace']"
      ]
     },
     "execution_count": 23,
     "metadata": {},
     "output_type": "execute_result"
    }
   ],
   "source": [
    "dir(my_func.__code__)"
   ]
  },
  {
   "cell_type": "markdown",
   "metadata": {},
   "source": [
    "Attribute **__co_varnames__** is a tuple containing the parameter names and local variables:"
   ]
  },
  {
   "cell_type": "code",
   "execution_count": 24,
   "metadata": {},
   "outputs": [
    {
     "data": {
      "text/plain": [
       "('a', 'b', 'args', 'kwargs', 'i')"
      ]
     },
     "execution_count": 24,
     "metadata": {},
     "output_type": "execute_result"
    }
   ],
   "source": [
    "my_func.__code__.co_varnames"
   ]
  },
  {
   "cell_type": "markdown",
   "metadata": {},
   "source": [
    "Attribute **co_argcount** returns the number of arguments (minus any \\* and \\*\\* args)"
   ]
  },
  {
   "cell_type": "code",
   "execution_count": 25,
   "metadata": {},
   "outputs": [
    {
     "data": {
      "text/plain": [
       "2"
      ]
     },
     "execution_count": 25,
     "metadata": {},
     "output_type": "execute_result"
    }
   ],
   "source": [
    "my_func.__code__.co_argcount"
   ]
  },
  {
   "cell_type": "markdown",
   "metadata": {},
   "source": [
    "#### The **inspect** module"
   ]
  },
  {
   "cell_type": "markdown",
   "metadata": {},
   "source": [
    "It is much easier to use the **inspect** module!"
   ]
  },
  {
   "cell_type": "code",
   "execution_count": 26,
   "metadata": {
    "jupyter": {
     "outputs_hidden": true
    }
   },
   "outputs": [],
   "source": [
    "import inspect"
   ]
  },
  {
   "cell_type": "code",
   "execution_count": 27,
   "metadata": {},
   "outputs": [
    {
     "data": {
      "text/plain": [
       "True"
      ]
     },
     "execution_count": 27,
     "metadata": {},
     "output_type": "execute_result"
    }
   ],
   "source": [
    "inspect.isfunction(my_func)"
   ]
  },
  {
   "cell_type": "markdown",
   "metadata": {},
   "source": [
    "By the way, there is a difference between a function and a method! A method is a function that is bound to some object:"
   ]
  },
  {
   "cell_type": "code",
   "execution_count": 28,
   "metadata": {},
   "outputs": [
    {
     "data": {
      "text/plain": [
       "False"
      ]
     },
     "execution_count": 28,
     "metadata": {},
     "output_type": "execute_result"
    }
   ],
   "source": [
    "inspect.ismethod(my_func)"
   ]
  },
  {
   "cell_type": "markdown",
   "metadata": {},
   "source": [
    "#### Introspecting Callable Code"
   ]
  },
  {
   "cell_type": "markdown",
   "metadata": {},
   "source": [
    "We can get back the source code of our function using the **getsource()** method:"
   ]
  },
  {
   "cell_type": "code",
   "execution_count": 30,
   "metadata": {},
   "outputs": [
    {
     "name": "stdout",
     "output_type": "stream",
     "text": [
      "def fact(n: \"some non-negative integer\") -> \"n! or 0 if n < 0\":\n",
      "    \"\"\"Calculates the factorial of a non-negative integer n\n",
      "    \n",
      "    If n is negative, returns 0.\n",
      "    \"\"\"\n",
      "    if n < 0:\n",
      "        return 0\n",
      "    elif n <= 1:\n",
      "        return 1\n",
      "    else:\n",
      "        return n * fact(n-1)\n",
      "\n"
     ]
    }
   ],
   "source": [
    "print(inspect.getsource(fact))"
   ]
  },
  {
   "cell_type": "code",
   "execution_count": 31,
   "metadata": {},
   "outputs": [
    {
     "name": "stdout",
     "output_type": "stream",
     "text": [
      "def get(url, params=None, **kwargs):\n",
      "    r\"\"\"Sends a GET request.\n",
      "\n",
      "    :param url: URL for the new :class:`Request` object.\n",
      "    :param params: (optional) Dictionary, list of tuples or bytes to send\n",
      "        in the query string for the :class:`Request`.\n",
      "    :param \\*\\*kwargs: Optional arguments that ``request`` takes.\n",
      "    :return: :class:`Response <Response>` object\n",
      "    :rtype: requests.Response\n",
      "    \"\"\"\n",
      "\n",
      "    kwargs.setdefault('allow_redirects', True)\n",
      "    return request('get', url, params=params, **kwargs)\n",
      "\n"
     ]
    }
   ],
   "source": [
    "import requests\n",
    "print(inspect.getsource(requests.get))"
   ]
  },
  {
   "cell_type": "markdown",
   "metadata": {},
   "source": [
    "We can also find out where the function was defined:"
   ]
  },
  {
   "cell_type": "code",
   "execution_count": 32,
   "metadata": {},
   "outputs": [
    {
     "data": {
      "text/plain": [
       "<module '__main__'>"
      ]
     },
     "execution_count": 32,
     "metadata": {},
     "output_type": "execute_result"
    }
   ],
   "source": [
    "inspect.getmodule(fact)"
   ]
  },
  {
   "cell_type": "code",
   "execution_count": 33,
   "metadata": {},
   "outputs": [
    {
     "data": {
      "text/plain": [
       "<module 'builtins' (built-in)>"
      ]
     },
     "execution_count": 33,
     "metadata": {},
     "output_type": "execute_result"
    }
   ],
   "source": [
    "inspect.getmodule(print)"
   ]
  },
  {
   "cell_type": "code",
   "execution_count": 34,
   "metadata": {
    "jupyter": {
     "outputs_hidden": true
    }
   },
   "outputs": [],
   "source": [
    "import math"
   ]
  },
  {
   "cell_type": "code",
   "execution_count": 35,
   "metadata": {},
   "outputs": [
    {
     "data": {
      "text/plain": [
       "<module 'math' (built-in)>"
      ]
     },
     "execution_count": 35,
     "metadata": {},
     "output_type": "execute_result"
    }
   ],
   "source": [
    "inspect.getmodule(math.sin)"
   ]
  },
  {
   "cell_type": "code",
   "execution_count": 36,
   "metadata": {
    "jupyter": {
     "outputs_hidden": true
    }
   },
   "outputs": [],
   "source": [
    "# setting up variable\n",
    "i = 10\n",
    "\n",
    "# comment line 1\n",
    "# comment line 2\n",
    "def my_func(a, b=1):\n",
    "    # comment inside my_func\n",
    "    pass"
   ]
  },
  {
   "cell_type": "code",
   "execution_count": 37,
   "metadata": {},
   "outputs": [
    {
     "data": {
      "text/plain": [
       "'# comment line 1\\n# comment line 2\\n'"
      ]
     },
     "execution_count": 37,
     "metadata": {},
     "output_type": "execute_result"
    }
   ],
   "source": [
    "inspect.getcomments(my_func)"
   ]
  },
  {
   "cell_type": "code",
   "execution_count": 38,
   "metadata": {},
   "outputs": [
    {
     "name": "stdout",
     "output_type": "stream",
     "text": [
      "# comment line 1\n",
      "# comment line 2\n",
      "\n"
     ]
    }
   ],
   "source": [
    "print(inspect.getcomments(my_func))"
   ]
  },
  {
   "cell_type": "markdown",
   "metadata": {},
   "source": [
    "for more info: https://docs.python.org/3/library/inspect.html"
   ]
  },
  {
   "cell_type": "markdown",
   "metadata": {},
   "source": [
    "#### Introspecting Callable Signatures"
   ]
  },
  {
   "cell_type": "code",
   "execution_count": 39,
   "metadata": {
    "jupyter": {
     "outputs_hidden": true
    }
   },
   "outputs": [],
   "source": [
    "# TODO: Provide implementation\n",
    "def my_func(a: 'a string', \n",
    "            b: int = 1, \n",
    "            *args: 'additional positional args', \n",
    "            kw1: 'first keyword-only arg', \n",
    "            kw2: 'second keyword-only arg' = 10,\n",
    "            **kwargs: 'additional keyword-only args') -> str:\n",
    "    \"\"\"does something\n",
    "       or other\"\"\"\n",
    "    pass"
   ]
  },
  {
   "cell_type": "code",
   "execution_count": 40,
   "metadata": {},
   "outputs": [
    {
     "data": {
      "text/plain": [
       "<Signature (a: 'a string', b: int = 1, *args: 'additional positional args', kw1: 'first keyword-only arg', kw2: 'second keyword-only arg' = 10, **kwargs: 'additional keyword-only args') -> str>"
      ]
     },
     "execution_count": 40,
     "metadata": {},
     "output_type": "execute_result"
    }
   ],
   "source": [
    "import inspect\n",
    "inspect.signature(my_func)"
   ]
  },
  {
   "cell_type": "code",
   "execution_count": 41,
   "metadata": {},
   "outputs": [
    {
     "data": {
      "text/plain": [
       "inspect.Signature"
      ]
     },
     "execution_count": 41,
     "metadata": {},
     "output_type": "execute_result"
    }
   ],
   "source": [
    "type(inspect.signature(my_func))"
   ]
  },
  {
   "cell_type": "code",
   "execution_count": 42,
   "metadata": {
    "jupyter": {
     "outputs_hidden": true
    }
   },
   "outputs": [],
   "source": [
    "sig = inspect.signature(my_func)"
   ]
  },
  {
   "cell_type": "code",
   "execution_count": 43,
   "metadata": {},
   "outputs": [
    {
     "data": {
      "text/plain": [
       "['__class__',\n",
       " '__delattr__',\n",
       " '__dir__',\n",
       " '__doc__',\n",
       " '__eq__',\n",
       " '__format__',\n",
       " '__ge__',\n",
       " '__getattribute__',\n",
       " '__gt__',\n",
       " '__hash__',\n",
       " '__init__',\n",
       " '__init_subclass__',\n",
       " '__le__',\n",
       " '__lt__',\n",
       " '__module__',\n",
       " '__ne__',\n",
       " '__new__',\n",
       " '__reduce__',\n",
       " '__reduce_ex__',\n",
       " '__repr__',\n",
       " '__setattr__',\n",
       " '__setstate__',\n",
       " '__sizeof__',\n",
       " '__slots__',\n",
       " '__str__',\n",
       " '__subclasshook__',\n",
       " '_bind',\n",
       " '_bound_arguments_cls',\n",
       " '_hash_basis',\n",
       " '_parameter_cls',\n",
       " '_parameters',\n",
       " '_return_annotation',\n",
       " 'bind',\n",
       " 'bind_partial',\n",
       " 'empty',\n",
       " 'from_builtin',\n",
       " 'from_callable',\n",
       " 'from_function',\n",
       " 'parameters',\n",
       " 'replace',\n",
       " 'return_annotation']"
      ]
     },
     "execution_count": 43,
     "metadata": {},
     "output_type": "execute_result"
    }
   ],
   "source": [
    "dir(sig)"
   ]
  },
  {
   "cell_type": "code",
   "execution_count": 44,
   "metadata": {},
   "outputs": [
    {
     "data": {
      "text/plain": [
       "\"(a: 'a string', b: int = 1, *args: 'additional positional args', kw1: 'first keyword-only arg', kw2: 'second keyword-only arg' = 10, **kwargs: 'additional keyword-only args') -> str\""
      ]
     },
     "execution_count": 44,
     "metadata": {},
     "output_type": "execute_result"
    }
   ],
   "source": [
    "str(sig)"
   ]
  },
  {
   "cell_type": "code",
   "execution_count": 45,
   "metadata": {},
   "outputs": [
    {
     "data": {
      "text/plain": [
       "mappingproxy({'a': <Parameter \"a: 'a string'\">,\n",
       "              'b': <Parameter \"b: int = 1\">,\n",
       "              'args': <Parameter \"*args: 'additional positional args'\">,\n",
       "              'kw1': <Parameter \"kw1: 'first keyword-only arg'\">,\n",
       "              'kw2': <Parameter \"kw2: 'second keyword-only arg' = 10\">,\n",
       "              'kwargs': <Parameter \"**kwargs: 'additional keyword-only args'\">})"
      ]
     },
     "execution_count": 45,
     "metadata": {},
     "output_type": "execute_result"
    }
   ],
   "source": [
    "sig.parameters"
   ]
  },
  {
   "cell_type": "code",
   "execution_count": 46,
   "metadata": {},
   "outputs": [
    {
     "data": {
      "text/plain": [
       "<Parameter \"a: 'a string'\">"
      ]
     },
     "execution_count": 46,
     "metadata": {},
     "output_type": "execute_result"
    }
   ],
   "source": [
    "sig.parameters['a']"
   ]
  },
  {
   "cell_type": "code",
   "execution_count": 47,
   "metadata": {},
   "outputs": [
    {
     "data": {
      "text/plain": [
       "int"
      ]
     },
     "execution_count": 47,
     "metadata": {},
     "output_type": "execute_result"
    }
   ],
   "source": [
    "sig.parameters['b'].annotation"
   ]
  },
  {
   "cell_type": "code",
   "execution_count": 48,
   "metadata": {},
   "outputs": [
    {
     "data": {
      "text/plain": [
       "'a'"
      ]
     },
     "execution_count": 48,
     "metadata": {},
     "output_type": "execute_result"
    }
   ],
   "source": [
    "sig.parameters['a']._name"
   ]
  },
  {
   "cell_type": "code",
   "execution_count": 49,
   "metadata": {},
   "outputs": [
    {
     "data": {
      "text/plain": [
       "odict_keys(['a', 'b', 'args', 'kw1', 'kw2', 'kwargs'])"
      ]
     },
     "execution_count": 49,
     "metadata": {},
     "output_type": "execute_result"
    }
   ],
   "source": [
    "sig.parameters.keys()"
   ]
  },
  {
   "cell_type": "code",
   "execution_count": 50,
   "metadata": {},
   "outputs": [
    {
     "data": {
      "text/plain": [
       "odict_values([<Parameter \"a: 'a string'\">, <Parameter \"b: int = 1\">, <Parameter \"*args: 'additional positional args'\">, <Parameter \"kw1: 'first keyword-only arg'\">, <Parameter \"kw2: 'second keyword-only arg' = 10\">, <Parameter \"**kwargs: 'additional keyword-only args'\">])"
      ]
     },
     "execution_count": 50,
     "metadata": {},
     "output_type": "execute_result"
    }
   ],
   "source": [
    "sig.parameters.values()"
   ]
  },
  {
   "cell_type": "code",
   "execution_count": 51,
   "metadata": {},
   "outputs": [
    {
     "name": "stdout",
     "output_type": "stream",
     "text": [
      "a a: 'a string'\n",
      "b b: int = 1\n",
      "args *args: 'additional positional args'\n",
      "kw1 kw1: 'first keyword-only arg'\n",
      "kw2 kw2: 'second keyword-only arg' = 10\n",
      "kwargs **kwargs: 'additional keyword-only args'\n"
     ]
    }
   ],
   "source": [
    "for param_name, param in sig.parameters.items():\n",
    "    print(param_name, param)"
   ]
  },
  {
   "cell_type": "code",
   "execution_count": 53,
   "metadata": {
    "jupyter": {
     "outputs_hidden": true
    }
   },
   "outputs": [],
   "source": [
    "def print_info(f: \"callable\") -> None:\n",
    "    print(f.__name__)\n",
    "    print('=' * len(f.__name__), end='\\n\\n')\n",
    "    \n",
    "    print(f'{inspect.getcomments(f)}\\n{f.__doc__}\\n')\n",
    "    \n",
    "    print(f'Inputs\\n------')\n",
    "    \n",
    "    sig = inspect.signature(f)\n",
    "    for param in sig.parameters.values():\n",
    "        print('Name:', param.name)\n",
    "        print('Default:', param.default)\n",
    "        print('Annotation:', param.annotation)\n",
    "        print('Kind:', param.kind)\n",
    "        print('--------------------------\\n')\n",
    "        \n",
    "    print('\\n\\nOutput\\n------')\n",
    "    print(sig.return_annotation)"
   ]
  },
  {
   "cell_type": "code",
   "execution_count": 55,
   "metadata": {},
   "outputs": [
    {
     "name": "stdout",
     "output_type": "stream",
     "text": [
      "sort_values\n",
      "===========\n",
      "\n",
      "# ----------------------------------------------------------------------\n",
      "# Sorting\n",
      "# TODO: Just move the sort_values doc here.\n",
      "\n",
      "\n",
      "Sort by the values along either axis.\n",
      "\n",
      "Parameters\n",
      "----------\n",
      "        by : str or list of str\n",
      "            Name or list of names to sort by.\n",
      "\n",
      "            - if `axis` is 0 or `'index'` then `by` may contain index\n",
      "              levels and/or column labels.\n",
      "            - if `axis` is 1 or `'columns'` then `by` may contain column\n",
      "              levels and/or index labels.\n",
      "axis : {0 or 'index', 1 or 'columns'}, default 0\n",
      "     Axis to be sorted.\n",
      "ascending : bool or list of bool, default True\n",
      "     Sort ascending vs. descending. Specify list for multiple sort\n",
      "     orders.  If this is a list of bools, must match the length of\n",
      "     the by.\n",
      "inplace : bool, default False\n",
      "     If True, perform operation in-place.\n",
      "kind : {'quicksort', 'mergesort', 'heapsort'}, default 'quicksort'\n",
      "     Choice of sorting algorithm. See also ndarray.np.sort for more\n",
      "     information.  `mergesort` is the only stable algorithm. For\n",
      "     DataFrames, this option is only applied when sorting on a single\n",
      "     column or label.\n",
      "na_position : {'first', 'last'}, default 'last'\n",
      "     Puts NaNs at the beginning if `first`; `last` puts NaNs at the\n",
      "     end.\n",
      "ignore_index : bool, default False\n",
      "     If True, the resulting axis will be labeled 0, 1, …, n - 1.\n",
      "\n",
      "     .. versionadded:: 1.0.0\n",
      "\n",
      "key : callable, optional\n",
      "    Apply the key function to the values\n",
      "    before sorting. This is similar to the `key` argument in the\n",
      "    builtin :meth:`sorted` function, with the notable difference that\n",
      "    this `key` function should be *vectorized*. It should expect a\n",
      "    ``Series`` and return a Series with the same shape as the input.\n",
      "    It will be applied to each column in `by` independently.\n",
      "\n",
      "    .. versionadded:: 1.1.0\n",
      "\n",
      "Returns\n",
      "-------\n",
      "DataFrame or None\n",
      "    DataFrame with sorted values or None if ``inplace=True``.\n",
      "\n",
      "See Also\n",
      "--------\n",
      "DataFrame.sort_index : Sort a DataFrame by the index.\n",
      "Series.sort_values : Similar method for a Series.\n",
      "\n",
      "Examples\n",
      "--------\n",
      ">>> df = pd.DataFrame({\n",
      "...     'col1': ['A', 'A', 'B', np.nan, 'D', 'C'],\n",
      "...     'col2': [2, 1, 9, 8, 7, 4],\n",
      "...     'col3': [0, 1, 9, 4, 2, 3],\n",
      "...     'col4': ['a', 'B', 'c', 'D', 'e', 'F']\n",
      "... })\n",
      ">>> df\n",
      "  col1  col2  col3 col4\n",
      "0    A     2     0    a\n",
      "1    A     1     1    B\n",
      "2    B     9     9    c\n",
      "3  NaN     8     4    D\n",
      "4    D     7     2    e\n",
      "5    C     4     3    F\n",
      "\n",
      "Sort by col1\n",
      "\n",
      ">>> df.sort_values(by=['col1'])\n",
      "  col1  col2  col3 col4\n",
      "0    A     2     0    a\n",
      "1    A     1     1    B\n",
      "2    B     9     9    c\n",
      "5    C     4     3    F\n",
      "4    D     7     2    e\n",
      "3  NaN     8     4    D\n",
      "\n",
      "Sort by multiple columns\n",
      "\n",
      ">>> df.sort_values(by=['col1', 'col2'])\n",
      "  col1  col2  col3 col4\n",
      "1    A     1     1    B\n",
      "0    A     2     0    a\n",
      "2    B     9     9    c\n",
      "5    C     4     3    F\n",
      "4    D     7     2    e\n",
      "3  NaN     8     4    D\n",
      "\n",
      "Sort Descending\n",
      "\n",
      ">>> df.sort_values(by='col1', ascending=False)\n",
      "  col1  col2  col3 col4\n",
      "4    D     7     2    e\n",
      "5    C     4     3    F\n",
      "2    B     9     9    c\n",
      "0    A     2     0    a\n",
      "1    A     1     1    B\n",
      "3  NaN     8     4    D\n",
      "\n",
      "Putting NAs first\n",
      "\n",
      ">>> df.sort_values(by='col1', ascending=False, na_position='first')\n",
      "  col1  col2  col3 col4\n",
      "3  NaN     8     4    D\n",
      "4    D     7     2    e\n",
      "5    C     4     3    F\n",
      "2    B     9     9    c\n",
      "0    A     2     0    a\n",
      "1    A     1     1    B\n",
      "\n",
      "Sorting with a key function\n",
      "\n",
      ">>> df.sort_values(by='col4', key=lambda col: col.str.lower())\n",
      "   col1  col2  col3 col4\n",
      "0    A     2     0    a\n",
      "1    A     1     1    B\n",
      "2    B     9     9    c\n",
      "3  NaN     8     4    D\n",
      "4    D     7     2    e\n",
      "5    C     4     3    F\n",
      "\n",
      "Natural sort with the key argument,\n",
      "using the `natsort <https://github.com/SethMMorton/natsort>` package.\n",
      "\n",
      ">>> df = pd.DataFrame({\n",
      "...    \"time\": ['0hr', '128hr', '72hr', '48hr', '96hr'],\n",
      "...    \"value\": [10, 20, 30, 40, 50]\n",
      "... })\n",
      ">>> df\n",
      "    time  value\n",
      "0    0hr     10\n",
      "1  128hr     20\n",
      "2   72hr     30\n",
      "3   48hr     40\n",
      "4   96hr     50\n",
      ">>> from natsort import index_natsorted\n",
      ">>> df.sort_values(\n",
      "...    by=\"time\",\n",
      "...    key=lambda x: np.argsort(index_natsorted(df[\"time\"]))\n",
      "... )\n",
      "    time  value\n",
      "0    0hr     10\n",
      "3   48hr     40\n",
      "2   72hr     30\n",
      "4   96hr     50\n",
      "1  128hr     20\n",
      "\n",
      "\n",
      "Inputs\n",
      "------\n",
      "Name: self\n",
      "Default: <class 'inspect._empty'>\n",
      "Annotation: <class 'inspect._empty'>\n",
      "Kind: POSITIONAL_OR_KEYWORD\n",
      "--------------------------\n",
      "\n",
      "Name: by\n",
      "Default: <class 'inspect._empty'>\n",
      "Annotation: <class 'inspect._empty'>\n",
      "Kind: POSITIONAL_OR_KEYWORD\n",
      "--------------------------\n",
      "\n",
      "Name: axis\n",
      "Default: 0\n",
      "Annotation: <class 'inspect._empty'>\n",
      "Kind: POSITIONAL_OR_KEYWORD\n",
      "--------------------------\n",
      "\n",
      "Name: ascending\n",
      "Default: True\n",
      "Annotation: <class 'inspect._empty'>\n",
      "Kind: POSITIONAL_OR_KEYWORD\n",
      "--------------------------\n",
      "\n",
      "Name: inplace\n",
      "Default: False\n",
      "Annotation: <class 'inspect._empty'>\n",
      "Kind: POSITIONAL_OR_KEYWORD\n",
      "--------------------------\n",
      "\n",
      "Name: kind\n",
      "Default: quicksort\n",
      "Annotation: <class 'inspect._empty'>\n",
      "Kind: POSITIONAL_OR_KEYWORD\n",
      "--------------------------\n",
      "\n",
      "Name: na_position\n",
      "Default: last\n",
      "Annotation: <class 'inspect._empty'>\n",
      "Kind: POSITIONAL_OR_KEYWORD\n",
      "--------------------------\n",
      "\n",
      "Name: ignore_index\n",
      "Default: False\n",
      "Annotation: <class 'inspect._empty'>\n",
      "Kind: POSITIONAL_OR_KEYWORD\n",
      "--------------------------\n",
      "\n",
      "Name: key\n",
      "Default: None\n",
      "Annotation: ValueKeyFunc\n",
      "Kind: POSITIONAL_OR_KEYWORD\n",
      "--------------------------\n",
      "\n",
      "\n",
      "\n",
      "Output\n",
      "------\n",
      "<class 'inspect._empty'>\n"
     ]
    }
   ],
   "source": [
    "import pandas\n",
    "print_info(pandas.DataFrame.sort_values)"
   ]
  },
  {
   "cell_type": "code",
   "execution_count": 54,
   "metadata": {},
   "outputs": [
    {
     "name": "stdout",
     "output_type": "stream",
     "text": [
      "my_func\n",
      "=======\n",
      "\n",
      "# TODO: Provide implementation\n",
      "\n",
      "does something\n",
      "       or other\n",
      "\n",
      "Inputs\n",
      "------\n",
      "Name: a\n",
      "Default: <class 'inspect._empty'>\n",
      "Annotation: a string\n",
      "Kind: POSITIONAL_OR_KEYWORD\n",
      "--------------------------\n",
      "\n",
      "Name: b\n",
      "Default: 1\n",
      "Annotation: <class 'int'>\n",
      "Kind: POSITIONAL_OR_KEYWORD\n",
      "--------------------------\n",
      "\n",
      "Name: args\n",
      "Default: <class 'inspect._empty'>\n",
      "Annotation: additional positional args\n",
      "Kind: VAR_POSITIONAL\n",
      "--------------------------\n",
      "\n",
      "Name: kw1\n",
      "Default: <class 'inspect._empty'>\n",
      "Annotation: first keyword-only arg\n",
      "Kind: KEYWORD_ONLY\n",
      "--------------------------\n",
      "\n",
      "Name: kw2\n",
      "Default: 10\n",
      "Annotation: second keyword-only arg\n",
      "Kind: KEYWORD_ONLY\n",
      "--------------------------\n",
      "\n",
      "Name: kwargs\n",
      "Default: <class 'inspect._empty'>\n",
      "Annotation: additional keyword-only args\n",
      "Kind: VAR_KEYWORD\n",
      "--------------------------\n",
      "\n",
      "\n",
      "\n",
      "Output\n",
      "------\n",
      "<class 'str'>\n"
     ]
    }
   ],
   "source": [
    "print_info(my_func)"
   ]
  },
  {
   "cell_type": "code",
   "execution_count": null,
   "metadata": {},
   "outputs": [],
   "source": []
  }
 ],
 "metadata": {
  "kernelspec": {
   "display_name": "Python 3",
   "language": "python",
   "name": "python3"
  },
  "language_info": {
   "codemirror_mode": {
    "name": "ipython",
    "version": 3
   },
   "file_extension": ".py",
   "mimetype": "text/x-python",
   "name": "python",
   "nbconvert_exporter": "python",
   "pygments_lexer": "ipython3",
   "version": "3.8.5"
  }
 },
 "nbformat": 4,
 "nbformat_minor": 4
}
