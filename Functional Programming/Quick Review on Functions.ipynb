{
 "cells": [
  {
   "cell_type": "markdown",
   "metadata": {
    "id": "xL86nquFmcBb"
   },
   "source": [
    "# Programming Styles:\n",
    "+ Imperative Programming\n",
    "+ Functional Programming\n",
    "+ Object Oriented Programming"
   ]
  },
  {
   "cell_type": "markdown",
   "metadata": {
    "id": "tMhDj1ZSfKJq"
   },
   "source": [
    "# Functions\n",
    "**Reusing Code** <br>\n",
    "Don't Repeat Yourself, or DRY, principle"
   ]
  },
  {
   "cell_type": "markdown",
   "metadata": {
    "id": "2oj8H8msG8h0"
   },
   "source": [
    "## Built-in Functions:\n",
    "```\n",
    "print(\"Hello world!\")\n",
    "range(2, 20)\n",
    "str(12)\n",
    "range(10, 20, 3)\n",
    "```\n",
    "\n"
   ]
  },
  {
   "cell_type": "markdown",
   "metadata": {
    "id": "zk_JE9cnfKJs"
   },
   "source": [
    "## Introduction"
   ]
  },
  {
   "cell_type": "markdown",
   "metadata": {
    "id": "b9MTc-cHfKJt"
   },
   "source": [
    "1. No input | No output\n",
    "2. No input | output\n",
    "3. input(s) | No output\n",
    "4. input(s) | output"
   ]
  },
  {
   "cell_type": "code",
   "execution_count": 5,
   "metadata": {
    "id": "YN4l4sAtfKJt",
    "outputId": "544468b0-3273-45d7-da25-e56bdc7260fc"
   },
   "outputs": [],
   "source": [
    "# Explain: no input no output\n",
    "def my_func(): # no argument\n",
    "    print('hello world') # no return\n",
    "    \n",
    "\n",
    "my_func()"
   ]
  },
  {
   "cell_type": "code",
   "execution_count": 6,
   "metadata": {},
   "outputs": [],
   "source": [
    "x = my_func()"
   ]
  },
  {
   "cell_type": "code",
   "execution_count": 7,
   "metadata": {},
   "outputs": [
    {
     "name": "stdout",
     "output_type": "stream",
     "text": [
      "hello world\n"
     ]
    }
   ],
   "source": [
    "print(x)"
   ]
  },
  {
   "cell_type": "code",
   "execution_count": 3,
   "metadata": {},
   "outputs": [
    {
     "name": "stdout",
     "output_type": "stream",
     "text": [
      "1\n",
      "2\n",
      "3\n"
     ]
    }
   ],
   "source": [
    "def f():\n",
    "    return 1\n",
    "def g():\n",
    "    return 2\n",
    "def c():\n",
    "    return 3\n",
    "\n",
    "m = [f, g, c]\n",
    "for func in m:\n",
    "    print(func())"
   ]
  },
  {
   "cell_type": "code",
   "execution_count": 4,
   "metadata": {},
   "outputs": [
    {
     "name": "stdout",
     "output_type": "stream",
     "text": [
      "hello world\n",
      "None\n"
     ]
    }
   ],
   "source": [
    "x = my_func()\n",
    "print(x)"
   ]
  },
  {
   "cell_type": "code",
   "execution_count": 5,
   "metadata": {},
   "outputs": [],
   "source": [
    "var = my_func\n"
   ]
  },
  {
   "cell_type": "code",
   "execution_count": 6,
   "metadata": {},
   "outputs": [
    {
     "data": {
      "text/plain": [
       "2368761130304"
      ]
     },
     "execution_count": 6,
     "metadata": {},
     "output_type": "execute_result"
    }
   ],
   "source": [
    "id(var)"
   ]
  },
  {
   "cell_type": "code",
   "execution_count": 7,
   "metadata": {},
   "outputs": [
    {
     "data": {
      "text/plain": [
       "2368761130304"
      ]
     },
     "execution_count": 7,
     "metadata": {},
     "output_type": "execute_result"
    }
   ],
   "source": [
    "id(my_func)"
   ]
  },
  {
   "cell_type": "code",
   "execution_count": 8,
   "metadata": {},
   "outputs": [
    {
     "name": "stdout",
     "output_type": "stream",
     "text": [
      "hello world\n"
     ]
    }
   ],
   "source": [
    "var()"
   ]
  },
  {
   "cell_type": "code",
   "execution_count": 3,
   "metadata": {
    "id": "xPCNQ5dffKJu",
    "outputId": "e5681e1f-07b4-469b-9fc0-5104b0dd740a"
   },
   "outputs": [],
   "source": [
    "# Explain: no input and has output\n",
    "def my_func(): # no argument\n",
    "    return 'hello world' # return\n",
    "\n",
    "a = my_func()\n",
    "#print(a)"
   ]
  },
  {
   "cell_type": "code",
   "execution_count": 4,
   "metadata": {},
   "outputs": [
    {
     "name": "stdout",
     "output_type": "stream",
     "text": [
      "hello world\n"
     ]
    }
   ],
   "source": [
    "print(a)"
   ]
  },
  {
   "cell_type": "code",
   "execution_count": 10,
   "metadata": {
    "id": "b_YhgarwfKJv",
    "outputId": "27d78f35-2f23-4a31-bf26-1109fef62490"
   },
   "outputs": [],
   "source": [
    "# Explain: has input and has output\n",
    "def my_func(st): \n",
    "    return st\n",
    "\n",
    "a = my_func('hello world')\n",
    "#print(a)"
   ]
  },
  {
   "cell_type": "code",
   "execution_count": 11,
   "metadata": {},
   "outputs": [
    {
     "name": "stdout",
     "output_type": "stream",
     "text": [
      "hello world\n"
     ]
    }
   ],
   "source": [
    "print(a)"
   ]
  },
  {
   "cell_type": "code",
   "execution_count": null,
   "metadata": {},
   "outputs": [],
   "source": []
  },
  {
   "cell_type": "code",
   "execution_count": 8,
   "metadata": {
    "id": "T6wncelVfKJv",
    "outputId": "804bda8d-93ec-4b67-8309-e80d8ff41c70"
   },
   "outputs": [
    {
     "name": "stdout",
     "output_type": "stream",
     "text": [
      "hello world\n"
     ]
    }
   ],
   "source": [
    "# Explain: has input and no output\n",
    "def my_func(st):\n",
    "    print(st)\n",
    "    #return None\n",
    "\n",
    "a = my_func('hello world')"
   ]
  },
  {
   "cell_type": "code",
   "execution_count": 9,
   "metadata": {},
   "outputs": [
    {
     "name": "stdout",
     "output_type": "stream",
     "text": [
      "None\n"
     ]
    }
   ],
   "source": [
    "print(a)"
   ]
  },
  {
   "cell_type": "code",
   "execution_count": 11,
   "metadata": {},
   "outputs": [],
   "source": [
    "a"
   ]
  },
  {
   "cell_type": "markdown",
   "metadata": {
    "id": "IgfCDHrffKJw"
   },
   "source": [
    "## Function Docstring"
   ]
  },
  {
   "cell_type": "markdown",
   "metadata": {
    "id": "utvA8H4pfKJw"
   },
   "source": [
    "[PEP 257 -- Docstring Conventions](https://www.python.org/dev/peps/pep-0257/)\n",
    "\n",
    "3 quotations after function defenition\n",
    "[example|best practice](https://networkx.org/documentation/stable/_modules/networkx/generators/random_graphs.html#powerlaw_cluster_graph)"
   ]
  },
  {
   "cell_type": "code",
   "execution_count": 13,
   "metadata": {
    "id": "CRsTMpx2fKJx",
    "outputId": "809a7dbe-3c6d-4c1e-a01b-4372c4ceee09"
   },
   "outputs": [
    {
     "name": "stdout",
     "output_type": "stream",
     "text": [
      "hello world\n",
      "\n",
      "    This is a summary line for myfunc\n",
      "    \n",
      "    Args:\n",
      "        no Args\n",
      "    Return:\n",
      "        no Return\n",
      "    \n"
     ]
    }
   ],
   "source": [
    "def my_func(): \n",
    "    '''\n",
    "    This is a summary line for myfunc\n",
    "    \n",
    "    Args:\n",
    "        no Args\n",
    "    Return:\n",
    "        no Return\n",
    "    '''\n",
    "    print('hello world') # no return\n",
    "\n",
    "my_func()\n",
    "\n",
    "print(my_func.__doc__)"
   ]
  },
  {
   "cell_type": "code",
   "execution_count": 20,
   "metadata": {
    "colab": {
     "base_uri": "https://localhost:8080/"
    },
    "id": "ZpDrqUurf3HD",
    "outputId": "d59abd0f-4017-4ef4-9ed1-c6654fad48ab"
   },
   "outputs": [
    {
     "name": "stdout",
     "output_type": "stream",
     "text": [
      "print(value, ..., sep=' ', end='\\n', file=sys.stdout, flush=False)\n",
      "\n",
      "Prints the values to a stream, or to sys.stdout by default.\n",
      "Optional keyword arguments:\n",
      "file:  a file-like object (stream); defaults to the current sys.stdout.\n",
      "sep:   string inserted between values, default a space.\n",
      "end:   string appended after the last value, default a newline.\n",
      "flush: whether to forcibly flush the stream.\n"
     ]
    }
   ],
   "source": [
    "print(print.__doc__)"
   ]
  },
  {
   "cell_type": "code",
   "execution_count": 25,
   "metadata": {},
   "outputs": [],
   "source": [
    "print('salam', 'hi', sep = '+', end = '!' , file=open('output.txt', 'w'))"
   ]
  },
  {
   "cell_type": "markdown",
   "metadata": {
    "id": "FK2Xj_m1fKJy"
   },
   "source": [
    "## Dynamic Typing"
   ]
  },
  {
   "cell_type": "code",
   "execution_count": 26,
   "metadata": {
    "id": "GIPauUR2fKJx",
    "outputId": "8821c768-6ad2-41cc-bbb2-4a71f206e375"
   },
   "outputs": [
    {
     "name": "stdout",
     "output_type": "stream",
     "text": [
      "hello world\n",
      "3\n"
     ]
    }
   ],
   "source": [
    "# Explain: has input and has output\n",
    "def my_func(st): \n",
    "    return st\n",
    "\n",
    "a = my_func('hello world')\n",
    "print(a)\n",
    "\n",
    "b = my_func(3)\n",
    "print(b) # dynamic variable type"
   ]
  },
  {
   "cell_type": "code",
   "execution_count": null,
   "metadata": {
    "id": "7KrsuRJxfKJy",
    "outputId": "3f82afd7-ccb5-40f1-efa9-b55cf331e789"
   },
   "outputs": [],
   "source": [
    "# Explain: dynamic typing\n",
    "def my_func(a, b):\n",
    "    return a + b\n",
    "\n",
    "b = my_func(1, 2)\n",
    "print(b) \n",
    "\n",
    "c = my_func(0.2, 0.2)\n",
    "print(c) \n",
    "\n",
    "d = my_func(1, 0.2)\n",
    "print(d) \n",
    "\n",
    "a = my_func('hello', 'world')\n",
    "print(a)\n",
    "\n",
    "print(my_func(n1, n2))\n",
    "\n",
    "# pros & cons : no need to define many functions | the problem of incompatible types"
   ]
  },
  {
   "cell_type": "code",
   "execution_count": 27,
   "metadata": {
    "id": "N5p-ZyhQfKJy",
    "outputId": "33e321ab-f4be-4adc-a6a5-77fe57922c8e"
   },
   "outputs": [
    {
     "name": "stdout",
     "output_type": "stream",
     "text": [
      "0.5\n",
      "1.0\n",
      "5.0\n"
     ]
    },
    {
     "ename": "TypeError",
     "evalue": "unsupported operand type(s) for /: 'str' and 'str'",
     "output_type": "error",
     "traceback": [
      "\u001b[1;31m---------------------------------------------------------------------------\u001b[0m",
      "\u001b[1;31mTypeError\u001b[0m                                 Traceback (most recent call last)",
      "Input \u001b[1;32mIn [27]\u001b[0m, in \u001b[0;36m<cell line: 14>\u001b[1;34m()\u001b[0m\n\u001b[0;32m     11\u001b[0m d \u001b[38;5;241m=\u001b[39m my_func(\u001b[38;5;241m1\u001b[39m, \u001b[38;5;241m0.2\u001b[39m)\n\u001b[0;32m     12\u001b[0m \u001b[38;5;28mprint\u001b[39m(d) \n\u001b[1;32m---> 14\u001b[0m a \u001b[38;5;241m=\u001b[39m \u001b[43mmy_func\u001b[49m\u001b[43m(\u001b[49m\u001b[38;5;124;43m'\u001b[39;49m\u001b[38;5;124;43mhello\u001b[39;49m\u001b[38;5;124;43m'\u001b[39;49m\u001b[43m,\u001b[49m\u001b[43m \u001b[49m\u001b[38;5;124;43m'\u001b[39;49m\u001b[38;5;124;43mworld\u001b[39;49m\u001b[38;5;124;43m'\u001b[39;49m\u001b[43m)\u001b[49m\n\u001b[0;32m     15\u001b[0m \u001b[38;5;28mprint\u001b[39m(a)\n",
      "Input \u001b[1;32mIn [27]\u001b[0m, in \u001b[0;36mmy_func\u001b[1;34m(a, b)\u001b[0m\n\u001b[0;32m      2\u001b[0m \u001b[38;5;28;01mdef\u001b[39;00m \u001b[38;5;21mmy_func\u001b[39m(a, b):\n\u001b[1;32m----> 3\u001b[0m     \u001b[38;5;28;01mreturn\u001b[39;00m \u001b[43ma\u001b[49m\u001b[43m \u001b[49m\u001b[38;5;241;43m/\u001b[39;49m\u001b[43m \u001b[49m\u001b[43mb\u001b[49m\n",
      "\u001b[1;31mTypeError\u001b[0m: unsupported operand type(s) for /: 'str' and 'str'"
     ]
    }
   ],
   "source": [
    "# Explain: dynamic typing\n",
    "def my_func(a, b):\n",
    "    return a / b\n",
    "\n",
    "b = my_func(1, 2)\n",
    "print(b) \n",
    "\n",
    "c = my_func(0.2, 0.2)\n",
    "print(c) \n",
    "\n",
    "d = my_func(1, 0.2)\n",
    "print(d) \n",
    "\n",
    "a = my_func('hello', 'world')\n",
    "print(a)"
   ]
  },
  {
   "cell_type": "markdown",
   "metadata": {
    "id": "c2wqMvt0fKJz"
   },
   "source": [
    "[Function Annotations: hint for types](https://www.python.org/dev/peps/pep-3107/)"
   ]
  },
  {
   "cell_type": "code",
   "execution_count": 28,
   "metadata": {
    "id": "GVThnuzIfKJz",
    "outputId": "349771b1-6a0b-4f56-bcf1-8b293f381938"
   },
   "outputs": [
    {
     "name": "stdout",
     "output_type": "stream",
     "text": [
      "0.5\n",
      "1.0\n",
      "5.0\n"
     ]
    },
    {
     "ename": "TypeError",
     "evalue": "unsupported operand type(s) for /: 'str' and 'str'",
     "output_type": "error",
     "traceback": [
      "\u001b[1;31m---------------------------------------------------------------------------\u001b[0m",
      "\u001b[1;31mTypeError\u001b[0m                                 Traceback (most recent call last)",
      "Input \u001b[1;32mIn [28]\u001b[0m, in \u001b[0;36m<cell line: 14>\u001b[1;34m()\u001b[0m\n\u001b[0;32m     11\u001b[0m d \u001b[38;5;241m=\u001b[39m my_func(\u001b[38;5;241m1\u001b[39m, \u001b[38;5;241m0.2\u001b[39m)\n\u001b[0;32m     12\u001b[0m \u001b[38;5;28mprint\u001b[39m(d) \n\u001b[1;32m---> 14\u001b[0m a \u001b[38;5;241m=\u001b[39m \u001b[43mmy_func\u001b[49m\u001b[43m(\u001b[49m\u001b[38;5;124;43m'\u001b[39;49m\u001b[38;5;124;43mhello\u001b[39;49m\u001b[38;5;124;43m'\u001b[39;49m\u001b[43m,\u001b[49m\u001b[43m \u001b[49m\u001b[38;5;124;43m'\u001b[39;49m\u001b[38;5;124;43mworld\u001b[39;49m\u001b[38;5;124;43m'\u001b[39;49m\u001b[43m)\u001b[49m\n\u001b[0;32m     15\u001b[0m \u001b[38;5;28mprint\u001b[39m(a)\n",
      "Input \u001b[1;32mIn [28]\u001b[0m, in \u001b[0;36mmy_func\u001b[1;34m(a, b)\u001b[0m\n\u001b[0;32m      2\u001b[0m \u001b[38;5;28;01mdef\u001b[39;00m \u001b[38;5;21mmy_func\u001b[39m(a: \u001b[38;5;28mint\u001b[39m, b: \u001b[38;5;28mint\u001b[39m) \u001b[38;5;241m-\u001b[39m\u001b[38;5;241m>\u001b[39m \u001b[38;5;28mfloat\u001b[39m:\n\u001b[1;32m----> 3\u001b[0m     \u001b[38;5;28;01mreturn\u001b[39;00m \u001b[43ma\u001b[49m\u001b[43m \u001b[49m\u001b[38;5;241;43m/\u001b[39;49m\u001b[43m \u001b[49m\u001b[43mb\u001b[49m\n",
      "\u001b[1;31mTypeError\u001b[0m: unsupported operand type(s) for /: 'str' and 'str'"
     ]
    }
   ],
   "source": [
    "# Explain: dynamic typing\n",
    "def my_func(a: int, b: int) -> float:\n",
    "    return float(a / b)\n",
    "\n",
    "b = my_func(1, 2)\n",
    "print(b) \n",
    "\n",
    "c = my_func(0.2, 0.2)\n",
    "print(c) \n",
    "\n",
    "d = my_func(1, 0.2)\n",
    "print(d) \n",
    "\n",
    "try:\n",
    "    a = my_func('hello', 'world')\n",
    "except:\n",
    "    print('invalid input')\n",
    "else:\n",
    "    print(a)\n",
    "\n",
    "# we have still error | pycharms hints about peps\n",
    "# let's check in pycharm"
   ]
  },
  {
   "cell_type": "code",
   "execution_count": 10,
   "metadata": {},
   "outputs": [],
   "source": [
    "def f(x):\n",
    "    if type(x) != int:\n",
    "        raise TypeError('invalid input')\n",
    "    else:\n",
    "        return x + 2"
   ]
  },
  {
   "cell_type": "code",
   "execution_count": 11,
   "metadata": {},
   "outputs": [
    {
     "ename": "TypeError",
     "evalue": "invalid input",
     "output_type": "error",
     "traceback": [
      "\u001b[1;31m---------------------------------------------------------------------------\u001b[0m",
      "\u001b[1;31mTypeError\u001b[0m                                 Traceback (most recent call last)",
      "Input \u001b[1;32mIn [11]\u001b[0m, in \u001b[0;36m<cell line: 1>\u001b[1;34m()\u001b[0m\n\u001b[1;32m----> 1\u001b[0m \u001b[43mf\u001b[49m\u001b[43m(\u001b[49m\u001b[38;5;124;43m'\u001b[39;49m\u001b[38;5;124;43mhello\u001b[39;49m\u001b[38;5;124;43m'\u001b[39;49m\u001b[43m)\u001b[49m\n",
      "Input \u001b[1;32mIn [10]\u001b[0m, in \u001b[0;36mf\u001b[1;34m(x)\u001b[0m\n\u001b[0;32m      1\u001b[0m \u001b[38;5;28;01mdef\u001b[39;00m \u001b[38;5;21mf\u001b[39m(x):\n\u001b[0;32m      2\u001b[0m     \u001b[38;5;28;01mif\u001b[39;00m \u001b[38;5;28mtype\u001b[39m(x) \u001b[38;5;241m!=\u001b[39m \u001b[38;5;28mint\u001b[39m:\n\u001b[1;32m----> 3\u001b[0m         \u001b[38;5;28;01mraise\u001b[39;00m \u001b[38;5;167;01mTypeError\u001b[39;00m(\u001b[38;5;124m'\u001b[39m\u001b[38;5;124minvalid input\u001b[39m\u001b[38;5;124m'\u001b[39m)\n\u001b[0;32m      4\u001b[0m     \u001b[38;5;28;01melse\u001b[39;00m:\n\u001b[0;32m      5\u001b[0m         \u001b[38;5;28;01mreturn\u001b[39;00m x \u001b[38;5;241m+\u001b[39m \u001b[38;5;241m2\u001b[39m\n",
      "\u001b[1;31mTypeError\u001b[0m: invalid input"
     ]
    }
   ],
   "source": [
    "f('hello')"
   ]
  },
  {
   "cell_type": "markdown",
   "metadata": {
    "id": "hGyhIdbvfKJz"
   },
   "source": [
    "## Return Values \n",
    "+ Nothing!\n",
    "+ pass \n",
    "+ yield \n",
    "+ return \n",
    "+ multiple output"
   ]
  },
  {
   "cell_type": "code",
   "execution_count": null,
   "metadata": {
    "id": "eM3pnUMZfKJz",
    "outputId": "b3142bfc-2af8-4de6-c05d-0a22363ae0cf"
   },
   "outputs": [],
   "source": [
    "print(add_three_nums(10))"
   ]
  },
  {
   "cell_type": "code",
   "execution_count": 16,
   "metadata": {
    "id": "La-WuBDQfKJ0",
    "outputId": "1a0a1db6-1cc9-4df9-f2e8-1e8c5184fbc2"
   },
   "outputs": [
    {
     "name": "stdout",
     "output_type": "stream",
     "text": [
      "16\n"
     ]
    }
   ],
   "source": [
    "def add_three_nums(a, b = 2, c = 1):\n",
    "    return a + b + c\n",
    "s = add_three_nums(10, 5)\n",
    "print(s)"
   ]
  },
  {
   "cell_type": "code",
   "execution_count": 17,
   "metadata": {
    "id": "5VJrOmPufKJ0",
    "outputId": "29f76c92-cfb7-41ba-e6d7-11cf60b74ae4"
   },
   "outputs": [
    {
     "name": "stdout",
     "output_type": "stream",
     "text": [
      "None\n"
     ]
    }
   ],
   "source": [
    "def add_three_nums(a, b = 2, c = 1):\n",
    "    return\n",
    "s = add_three_nums(10)\n",
    "print(s)"
   ]
  },
  {
   "cell_type": "code",
   "execution_count": 35,
   "metadata": {
    "id": "zqBGz7IqfKJ0",
    "outputId": "69d6c2f5-e386-4d99-96fd-01397c538b6f"
   },
   "outputs": [
    {
     "name": "stdout",
     "output_type": "stream",
     "text": [
      "None\n"
     ]
    }
   ],
   "source": [
    "def add_three_nums(a, b = 2, c = 1):\n",
    "     pass\n",
    "s = add_three_nums(10)\n",
    "print(s)"
   ]
  },
  {
   "cell_type": "code",
   "execution_count": null,
   "metadata": {
    "id": "8hKT_vKHfKJ1"
   },
   "outputs": [],
   "source": [
    "# Are pass and return the same?"
   ]
  },
  {
   "cell_type": "code",
   "execution_count": 18,
   "metadata": {
    "id": "fmsbe9dFfKJ1"
   },
   "outputs": [
    {
     "name": "stdout",
     "output_type": "stream",
     "text": [
      "this is test_p\n",
      "1\n",
      "1 again\n"
     ]
    }
   ],
   "source": [
    "# Explain pass and return (cont.)\n",
    "def test_p(a):\n",
    "    print('this is test_p')\n",
    "    if a == 1:\n",
    "        print(a)\n",
    "        pass\n",
    "    if a == 1:\n",
    "        print(a, 'again')\n",
    "        pass\n",
    "test_p(1)"
   ]
  },
  {
   "cell_type": "code",
   "execution_count": 19,
   "metadata": {
    "id": "yl2_DMfNfKJ1"
   },
   "outputs": [],
   "source": [
    "def test_r(a):\n",
    "    print('this is test_r')\n",
    "    if a == 1:\n",
    "        print(a)\n",
    "        return # exits\n",
    "    if a == 1:\n",
    "        print(a, 'again')\n",
    "        return "
   ]
  },
  {
   "cell_type": "code",
   "execution_count": 39,
   "metadata": {
    "id": "1cy8RbO0fKJ1",
    "outputId": "2fd2cabf-d35e-49f6-ad30-49db3c3ea5c3"
   },
   "outputs": [
    {
     "name": "stdout",
     "output_type": "stream",
     "text": [
      "this is test_r\n",
      "1\n"
     ]
    }
   ],
   "source": [
    "#test_p(1)\n",
    "test_r(1)"
   ]
  },
  {
   "cell_type": "code",
   "execution_count": 21,
   "metadata": {
    "id": "lf_l9myQfKJ1",
    "outputId": "08b139e0-53bf-40bb-c2dd-22ca6ab158a4"
   },
   "outputs": [
    {
     "name": "stdout",
     "output_type": "stream",
     "text": [
      "[1, 2, 3]\n",
      "1\n",
      "2\n",
      "3\n"
     ]
    }
   ],
   "source": [
    "# Explain yield\n",
    "def generator():\n",
    "#     count = 0\n",
    "#     while True:\n",
    "#         count += 1\n",
    "#         yield count\n",
    "    yield 1\n",
    "    yield 2\n",
    "    yield 3\n",
    "\n",
    "mylist = [val for val in generator()]    \n",
    "print(mylist)\n",
    "for val in generator(): # iterate | pause - resume\n",
    "    print(val)"
   ]
  },
  {
   "cell_type": "code",
   "execution_count": null,
   "metadata": {},
   "outputs": [],
   "source": []
  },
  {
   "cell_type": "code",
   "execution_count": 15,
   "metadata": {
    "colab": {
     "base_uri": "https://localhost:8080/"
    },
    "id": "FxCik6ypfKJ2",
    "outputId": "67a3fa9e-7241-470d-cfe4-49adf9b24b3d"
   },
   "outputs": [
    {
     "name": "stdout",
     "output_type": "stream",
     "text": [
      "1\n",
      "4\n",
      "9\n",
      "16\n",
      "25\n",
      "36\n",
      "49\n",
      "64\n",
      "81\n",
      "100\n"
     ]
    }
   ],
   "source": [
    "# Explain yield (cont..)\n",
    "# creating infinite sequence\n",
    "def square_nums(): # it is a generator\n",
    "    a = 1\n",
    "    while True:\n",
    "        yield a * a # life of the function does not end, it pauses then resumes\n",
    "        a += 1\n",
    "        \n",
    "for number in square_nums(): # number = 1\n",
    "    if number > 100:\n",
    "        break\n",
    "    print(number)"
   ]
  },
  {
   "cell_type": "code",
   "execution_count": 16,
   "metadata": {
    "colab": {
     "base_uri": "https://localhost:8080/"
    },
    "id": "hOjQUW_MfKJ2",
    "outputId": "f5eeff07-5761-4477-db42-2d601213aa45"
   },
   "outputs": [],
   "source": [
    "gen = square_nums()"
   ]
  },
  {
   "cell_type": "code",
   "execution_count": 22,
   "metadata": {},
   "outputs": [
    {
     "name": "stdout",
     "output_type": "stream",
     "text": [
      "25\n"
     ]
    }
   ],
   "source": [
    "print(next(gen))"
   ]
  },
  {
   "cell_type": "code",
   "execution_count": 18,
   "metadata": {},
   "outputs": [
    {
     "name": "stdout",
     "output_type": "stream",
     "text": [
      "1\n",
      "2\n",
      "3\n",
      "4\n",
      "5\n",
      "6\n",
      "7\n",
      "8\n",
      "9\n",
      "10\n",
      "11\n",
      "12\n",
      "13\n",
      "14\n",
      "15\n",
      "16\n",
      "17\n",
      "18\n",
      "19\n",
      "20\n",
      "21\n",
      "22\n",
      "23\n",
      "24\n",
      "25\n",
      "26\n",
      "27\n",
      "28\n",
      "29\n",
      "30\n",
      "31\n",
      "32\n",
      "33\n",
      "34\n",
      "35\n",
      "36\n",
      "37\n",
      "38\n",
      "39\n",
      "40\n",
      "41\n",
      "42\n",
      "43\n",
      "44\n",
      "45\n",
      "46\n",
      "47\n",
      "48\n",
      "49\n",
      "50\n",
      "51\n",
      "52\n",
      "53\n",
      "54\n",
      "55\n",
      "56\n",
      "57\n",
      "58\n",
      "59\n",
      "60\n",
      "61\n",
      "62\n",
      "63\n",
      "64\n",
      "65\n",
      "66\n",
      "67\n",
      "68\n",
      "69\n",
      "70\n",
      "71\n",
      "72\n",
      "73\n",
      "74\n",
      "75\n",
      "76\n",
      "77\n",
      "78\n",
      "79\n",
      "80\n",
      "81\n",
      "82\n",
      "83\n",
      "84\n",
      "85\n",
      "86\n",
      "87\n",
      "88\n",
      "89\n",
      "90\n",
      "91\n",
      "92\n",
      "93\n",
      "94\n",
      "95\n",
      "96\n",
      "97\n",
      "98\n",
      "99\n",
      "100\n"
     ]
    }
   ],
   "source": [
    "def counter(): # it is a generator\n",
    "    a = 0\n",
    "    while True:\n",
    "        a += 1\n",
    "        yield a # life of the function does not end, it pauses then resumes\n",
    "\n",
    "        \n",
    "for number in counter(): # number = 1\n",
    "    if number > 100:\n",
    "        break\n",
    "    print(number)"
   ]
  },
  {
   "cell_type": "code",
   "execution_count": 22,
   "metadata": {
    "id": "BgNI07UdfKJ2",
    "outputId": "cad04a9b-80e5-40a0-f9da-d48cac23d74c"
   },
   "outputs": [
    {
     "name": "stdout",
     "output_type": "stream",
     "text": [
      "('Hello world', 10)\n",
      "['Hello world', 10]\n",
      "{'str': 'Hello world', 'x': 10}\n"
     ]
    }
   ],
   "source": [
    "# Explain Return multivalues\n",
    "\n",
    "# 1.using Tuple\n",
    "def fun():\n",
    "    string = 'Hello world'\n",
    "    x = 10\n",
    "    return string, x\n",
    "\n",
    "print(fun())\n",
    "\n",
    "\n",
    "# 2.using List\n",
    "def fun():\n",
    "    string = 'Hello world'\n",
    "    x = 10\n",
    "    return [string, x]\n",
    "\n",
    "print(fun())\n",
    "\n",
    "# 2.using Dictionary\n",
    "def fun():\n",
    "    string = 'Hello world'\n",
    "    x = 10\n",
    "    d = dict()\n",
    "    return {'str': string, 'x': x}\n",
    "\n",
    "print(fun())"
   ]
  },
  {
   "cell_type": "code",
   "execution_count": 24,
   "metadata": {},
   "outputs": [],
   "source": [
    "l1 = ['a', 'b', 'c']"
   ]
  },
  {
   "cell_type": "code",
   "execution_count": 26,
   "metadata": {},
   "outputs": [
    {
     "data": {
      "text/plain": [
       "{'a': 0, 'b': 0, 'c': 0}"
      ]
     },
     "execution_count": 26,
     "metadata": {},
     "output_type": "execute_result"
    }
   ],
   "source": [
    "dict.fromkeys(l1, 0)"
   ]
  },
  {
   "cell_type": "code",
   "execution_count": 27,
   "metadata": {},
   "outputs": [],
   "source": [
    "def calc(a,b):\n",
    "    area = a*b\n",
    "    p = (a+b) * 2\n",
    "    return [area, p]"
   ]
  },
  {
   "cell_type": "code",
   "execution_count": 31,
   "metadata": {},
   "outputs": [
    {
     "name": "stdout",
     "output_type": "stream",
     "text": [
      "14\n"
     ]
    }
   ],
   "source": [
    "var = calc(3,4)\n",
    "print(var[1])"
   ]
  },
  {
   "cell_type": "code",
   "execution_count": null,
   "metadata": {},
   "outputs": [],
   "source": []
  }
 ],
 "metadata": {
  "colab": {
   "name": "Functional Programming.ipynb",
   "provenance": [],
   "toc_visible": true
  },
  "kernelspec": {
   "display_name": "Python 3 (ipykernel)",
   "language": "python",
   "name": "python3"
  },
  "language_info": {
   "codemirror_mode": {
    "name": "ipython",
    "version": 3
   },
   "file_extension": ".py",
   "mimetype": "text/x-python",
   "name": "python",
   "nbconvert_exporter": "python",
   "pygments_lexer": "ipython3",
   "version": "3.10.6"
  }
 },
 "nbformat": 4,
 "nbformat_minor": 4
}
