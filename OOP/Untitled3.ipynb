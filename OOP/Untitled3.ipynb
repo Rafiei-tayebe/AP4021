{
 "cells": [
  {
   "cell_type": "code",
   "execution_count": null,
   "id": "66a452a3",
   "metadata": {},
   "outputs": [],
   "source": [
    "# oop\n",
    "# instance methods // self\n",
    "# class method // cls\n",
    "# static method // \n",
    "\n",
    "\n",
    "# abstract method"
   ]
  },
  {
   "cell_type": "code",
   "execution_count": null,
   "id": "bfc22f2b",
   "metadata": {},
   "outputs": [],
   "source": [
    "class Test:\n",
    "    class_attr = \"IUST\" #  class attribute\n",
    "    def __init__(self, a, b):\n",
    "        self.a = a # instance attribute\n",
    "        self.b = b\n",
    "    \n",
    "    def func1(self):\n",
    "        print(\"func 1\")\n",
    "        print(self.a)\n",
    "        \n",
    "    @classmethod\n",
    "    def func2(cls):\n",
    "        print(\"func 2\")\n",
    "        print(cls.class_attr)\n",
    "        \n",
    "    def func3(self):\n",
    "        print(\"func3\")\n",
    "        print(Test.class_attr)\n",
    "        \n",
    "    @staticmethod\n",
    "    def func4():\n",
    "        print(\"hello\")\n",
    "    "
   ]
  },
  {
   "cell_type": "code",
   "execution_count": null,
   "id": "3a17520e",
   "metadata": {},
   "outputs": [],
   "source": [
    "t = Test('a', 'b')"
   ]
  },
  {
   "cell_type": "code",
   "execution_count": 2,
   "id": "78c71ddf",
   "metadata": {},
   "outputs": [
    {
     "ename": "IndentationError",
     "evalue": "unindent does not match any outer indentation level (<tokenize>, line 9)",
     "output_type": "error",
     "traceback": [
      "\u001b[1;36m  File \u001b[1;32m<tokenize>:9\u001b[1;36m\u001b[0m\n\u001b[1;33m    @abstractmethod\u001b[0m\n\u001b[1;37m    ^\u001b[0m\n\u001b[1;31mIndentationError\u001b[0m\u001b[1;31m:\u001b[0m unindent does not match any outer indentation level\n"
     ]
    }
   ],
   "source": [
    "from abc import ABC, abstractmethod\n",
    "\n",
    "class Shape(ABC):\n",
    "\n",
    "\t@abstractmethod\n",
    "\tdef get_area(self):\n",
    "\t\tpass\n",
    "    \n",
    "    @abstractmethod\n",
    "\tdef get_perimeter(self):\n",
    "\t\tpass\n",
    "    \n",
    "    @abstractmethod\n",
    "\tdef __str__(self):\n",
    "\t\tpass\n",
    "    \n",
    "    @classmethod\n",
    "    def check_if_args_not_below_zero(cls,*args):\n",
    "        pass\n",
    "    \n",
    "    @classmethod\n",
    "    def get_area_formula(cls):\n",
    "        pass\n",
    "    \n",
    "    @classmethod\n",
    "    def get_perimeter_formula(cls):\n",
    "        pass"
   ]
  },
  {
   "cell_type": "code",
   "execution_count": null,
   "id": "1c5f9b4c",
   "metadata": {},
   "outputs": [],
   "source": [
    "import math\n",
    "class Circle(Shape):\n",
    "    area_formula = \"pi*r*r\"\n",
    "    def __init__(self, r):\n",
    "        self._r = r\n",
    "        \n",
    "    @property\n",
    "    def r(self):\n",
    "        return self._r\n",
    "    \n",
    "    @r.setter\n",
    "    def r(self, value):\n",
    "        if value < 0 : raise ValueError('Error')\n",
    "        self._r = value\n",
    "    \n",
    "    def get_area(self):\n",
    "\t\treturn math.pi*self.r*self.r\n",
    "    \n",
    "    def get_perimeter(self):\n",
    "\t\treturn math.pi*self.r*2\n",
    "    \n",
    "    def __str__(self):\n",
    "\t\treturn f'Circle, r = {self.r}'\n",
    "    \n",
    "    @staticmethod\n",
    "    def check_if_args_not_below_zero(*args):\n",
    "        for a in args:\n",
    "            if a < 0 :\n",
    "                raise ValueError(\"E\")\n",
    "        return True\n",
    "    \n",
    "    def check_if_args_not_below_zero(self):\n",
    "        for a in self.__dict__:\n",
    "            if getattr(self, a) < 0 :\n",
    "                raise ValueError(\"E\")\n",
    "        return True\n",
    "    \n",
    "    @classmethod\n",
    "    def get_area_formula(cls):\n",
    "        return cls.area_formula\n",
    "    \n",
    "    @classmethod\n",
    "    def get_perimeter_formula(cls):\n",
    "        pass"
   ]
  },
  {
   "cell_type": "code",
   "execution_count": 3,
   "id": "67f8d17c",
   "metadata": {},
   "outputs": [],
   "source": [
    "class Test:\n",
    "    def __init__(self):\n",
    "        self.a = 1\n",
    "        \n",
    "t = Test()\n"
   ]
  },
  {
   "cell_type": "code",
   "execution_count": 7,
   "id": "4669b3d1",
   "metadata": {},
   "outputs": [
    {
     "data": {
      "text/plain": [
       "1"
      ]
     },
     "execution_count": 7,
     "metadata": {},
     "output_type": "execute_result"
    }
   ],
   "source": [
    "t.__dict__['a']"
   ]
  },
  {
   "cell_type": "code",
   "execution_count": 5,
   "id": "8bfd5310",
   "metadata": {
    "scrolled": true
   },
   "outputs": [
    {
     "data": {
      "text/plain": [
       "1"
      ]
     },
     "execution_count": 5,
     "metadata": {},
     "output_type": "execute_result"
    }
   ],
   "source": [
    "getattr(t, \"a\")"
   ]
  },
  {
   "cell_type": "code",
   "execution_count": null,
   "id": "2addd18b",
   "metadata": {},
   "outputs": [],
   "source": [
    "class Triangle(Shape):\n",
    "    def __init__(self, a, b, c):\n",
    "        self.a = a\n",
    "        self.b = b\n",
    "        self.c = c\n",
    "        \n",
    "    @property\n",
    "    def a(self):\n",
    "        return self._a\n",
    "    @property\n",
    "    def b(self):\n",
    "        return self._b\n",
    "    @property\n",
    "    def c(self):\n",
    "        return self._c\n",
    "    @a.setter\n",
    "    def a(self, vlaue):\n",
    "        if value < 0 : raise ValueError(\"E\")\n",
    "        self._a = value\n",
    "    @b.setter\n",
    "    def b(self, vlaue):\n",
    "        if value < 0 : raise ValueError(\"E\")\n",
    "        self._b = value\n",
    "        \n",
    "    @c.setter\n",
    "    def c(self, vlaue):\n",
    "        if value < 0 : raise ValueError(\"E\")\n",
    "        self._c = value\n",
    "        \n",
    "    def p(self):\n",
    "        return self.a + self.b + self.c"
   ]
  },
  {
   "cell_type": "code",
   "execution_count": null,
   "id": "4d51caf1",
   "metadata": {},
   "outputs": [],
   "source": [
    "class EquilateralTriangle(Triangle):\n",
    "    def __init__(self, a):\n",
    "        super().__init__(a, a, a)\n",
    "        "
   ]
  }
 ],
 "metadata": {
  "kernelspec": {
   "display_name": "Python 3 (ipykernel)",
   "language": "python",
   "name": "python3"
  },
  "language_info": {
   "codemirror_mode": {
    "name": "ipython",
    "version": 3
   },
   "file_extension": ".py",
   "mimetype": "text/x-python",
   "name": "python",
   "nbconvert_exporter": "python",
   "pygments_lexer": "ipython3",
   "version": "3.10.6"
  }
 },
 "nbformat": 4,
 "nbformat_minor": 5
}
