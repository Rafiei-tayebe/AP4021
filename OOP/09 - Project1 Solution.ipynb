{
 "cells": [
  {
   "cell_type": "code",
   "execution_count": 1,
   "metadata": {},
   "outputs": [],
   "source": [
    "class Account:\n",
    "    '''\n",
    "    Instance Attribute (variable):\n",
    "        account_number: int\n",
    "        first_name: str\n",
    "        last_name: str\n",
    "        time_zone: TimeZone\n",
    "        balance : Decimal\n",
    "        \n",
    "    Instance Method:\n",
    "        deposit\n",
    "        withdraw\n",
    "        make_confirmation_number\n",
    "    Class Attribute:\n",
    "        monthly_interest_rate: Decimal/float\n",
    "        transaction_count: int\n",
    "        \n",
    "    '''\n",
    "    def __init__(self, account_number):\n",
    "        self.account_number = account_number\n",
    "        "
   ]
  },
  {
   "cell_type": "code",
   "execution_count": null,
   "metadata": {},
   "outputs": [],
   "source": [
    "from decimal import Decimal\n"
   ]
  },
  {
   "cell_type": "code",
   "execution_count": 2,
   "metadata": {},
   "outputs": [
    {
     "name": "stdout",
     "output_type": "stream",
     "text": [
      "False\n"
     ]
    }
   ],
   "source": [
    "a = 0.1\n",
    "b = 0.2\n",
    "print(a+b == 0.3)"
   ]
  },
  {
   "cell_type": "code",
   "execution_count": 3,
   "metadata": {},
   "outputs": [
    {
     "name": "stdout",
     "output_type": "stream",
     "text": [
      "0.30000000000000004\n"
     ]
    }
   ],
   "source": [
    "print(a+b)"
   ]
  },
  {
   "cell_type": "code",
   "execution_count": null,
   "metadata": {},
   "outputs": [],
   "source": [
    "acc1 = Account(1001)"
   ]
  },
  {
   "cell_type": "markdown",
   "metadata": {},
   "source": [
    "# TimeZone class"
   ]
  },
  {
   "cell_type": "code",
   "execution_count": null,
   "metadata": {},
   "outputs": [],
   "source": []
  },
  {
   "cell_type": "markdown",
   "metadata": {},
   "source": [
    "Let's start with the timezone class. \n",
    "\n",
    "This one will have two instance attributes:\n",
    "+ offset\n",
    "+ name\n"
   ]
  },
  {
   "cell_type": "code",
   "execution_count": 4,
   "metadata": {},
   "outputs": [
    {
     "data": {
      "text/plain": [
       "datetime.datetime(2023, 10, 30, 9, 35, 0, 569809)"
      ]
     },
     "execution_count": 4,
     "metadata": {},
     "output_type": "execute_result"
    }
   ],
   "source": [
    "from datetime import datetime, timedelta\n",
    "datetime.now()"
   ]
  },
  {
   "cell_type": "code",
   "execution_count": 5,
   "metadata": {},
   "outputs": [
    {
     "data": {
      "text/plain": [
       "datetime.timedelta(days=10)"
      ]
     },
     "execution_count": 5,
     "metadata": {},
     "output_type": "execute_result"
    }
   ],
   "source": [
    "timedelta(days=10)"
   ]
  },
  {
   "cell_type": "markdown",
   "metadata": {},
   "source": [
    "Syntax : datetime.timedelta(days=0, seconds=0, microseconds=0, milliseconds=0, minutes=0, hours=0, weeks=0)"
   ]
  },
  {
   "cell_type": "code",
   "execution_count": 10,
   "metadata": {},
   "outputs": [],
   "source": [
    "from datetime import datetime as myname"
   ]
  },
  {
   "cell_type": "code",
   "execution_count": 6,
   "metadata": {},
   "outputs": [
    {
     "name": "stdout",
     "output_type": "stream",
     "text": [
      "initial_date 2023-10-30 09:36:41.870674\n",
      "future_date_after_2yrs: 2025-10-29 09:36:41.870674\n",
      "future_date_after_35days: 2023-12-04 09:36:41.870674\n"
     ]
    }
   ],
   "source": [
    "from datetime import datetime, timedelta\n",
    "  \n",
    "# Using current time\n",
    "ini_time_for_now = datetime.now()\n",
    "  \n",
    "# printing initial_date\n",
    "print (\"initial_date\", str(ini_time_for_now))\n",
    "  \n",
    "# Calculating future dates\n",
    "# for two years\n",
    "future_date_after_2yrs = ini_time_for_now + timedelta(days = 730)\n",
    "  \n",
    "future_date_after_35days = ini_time_for_now + timedelta(days = 35)\n",
    "  \n",
    "# printing calculated future_dates\n",
    "print('future_date_after_2yrs:', str(future_date_after_2yrs))\n",
    "print('future_date_after_35days:', str(future_date_after_35days))"
   ]
  },
  {
   "cell_type": "code",
   "execution_count": 9,
   "metadata": {},
   "outputs": [
    {
     "name": "stdout",
     "output_type": "stream",
     "text": [
      "2023-10-30 08:08:21.823903\n"
     ]
    }
   ],
   "source": [
    "ini_time_for_now = datetime.now()\n",
    "any_future = ini_time_for_now + timedelta(hours = -2, minutes = 30)\n",
    "print(any_future)"
   ]
  },
  {
   "cell_type": "code",
   "execution_count": 11,
   "metadata": {},
   "outputs": [],
   "source": [
    "class TimeZone:\n",
    "    def __init__(self, name, offset_hours, offset_minutes):           \n",
    "        self.name = name    \n",
    "        self.offset = timedelta(hours=offset_hours, minutes=offset_minutes)"
   ]
  },
  {
   "cell_type": "markdown",
   "metadata": {},
   "source": [
    "Let's try it out and make sure it's working:"
   ]
  },
  {
   "cell_type": "code",
   "execution_count": 12,
   "metadata": {},
   "outputs": [],
   "source": [
    "tz1 = TimeZone('Argentina', -3, 0)\n",
    "tz2 = TimeZone('Iran', 3, 30)"
   ]
  },
  {
   "cell_type": "code",
   "execution_count": 13,
   "metadata": {},
   "outputs": [
    {
     "data": {
      "text/plain": [
       "('Argentina', 'Iran')"
      ]
     },
     "execution_count": 13,
     "metadata": {},
     "output_type": "execute_result"
    }
   ],
   "source": [
    "tz1.name, tz2.name"
   ]
  },
  {
   "cell_type": "code",
   "execution_count": 30,
   "metadata": {},
   "outputs": [
    {
     "name": "stdout",
     "output_type": "stream",
     "text": [
      "2022-11-14 06:25:41.841303\n"
     ]
    }
   ],
   "source": [
    "dt = datetime.utcnow()\n",
    "print(dt)"
   ]
  },
  {
   "cell_type": "code",
   "execution_count": 32,
   "metadata": {},
   "outputs": [
    {
     "name": "stdout",
     "output_type": "stream",
     "text": [
      "2022-11-14 09:55:41.841303\n"
     ]
    }
   ],
   "source": [
    "print(dt + tz2.offset)"
   ]
  },
  {
   "cell_type": "code",
   "execution_count": 39,
   "metadata": {},
   "outputs": [
    {
     "name": "stdout",
     "output_type": "stream",
     "text": [
      "2022-03-03 21:35:15.838109\n"
     ]
    }
   ],
   "source": [
    "print(dt + tz2.offset)"
   ]
  },
  {
   "cell_type": "code",
   "execution_count": 2,
   "metadata": {},
   "outputs": [],
   "source": [
    "from datetime import timedelta\n",
    "\n",
    "\n",
    "class TimeZone:\n",
    "    def __init__(self, name, offset_hours, offset_minutes):\n",
    "        if name is None or len(str(name).strip()) == 0:\n",
    "            raise ValueError('Timezone name cannot be empty.')\n",
    "            \n",
    "        self.name = str(name).strip()\n",
    "        \n",
    "        if type(offset_hours) != int:\n",
    "            raise ValueError('Hour offset must be an integer.')\n",
    "        \n",
    "        if type(offset_minutes) != int:\n",
    "            raise ValueError('Minutes offset must be an integer.')\n",
    "            \n",
    "        if offset_minutes < -59 or offset_minutes > 59:\n",
    "            raise ValueError('Minutes offset must between -59 and 59 (inclusive).')\n",
    "            \n",
    "        offset = timedelta(hours=offset_hours, minutes=offset_minutes)\n",
    "\n",
    "        # offsets are technically bounded between -12:00 and 14:00\n",
    "        # see: https://en.wikipedia.org/wiki/List_of_UTC_time_offsets\n",
    "        if offset < timedelta(hours=-12, minutes=0) or offset > timedelta(hours=14, minutes=0):\n",
    "            raise ValueError('Offset must be between -12:00 and +14:00.')\n",
    "            \n",
    "        self.offset_hours = offset_hours\n",
    "        self.offset_minutes = offset_minutes\n",
    "        self.offset = offset\n",
    "        \n",
    "        \n",
    "        "
   ]
  },
  {
   "cell_type": "code",
   "execution_count": 17,
   "metadata": {},
   "outputs": [
    {
     "ename": "ValueError",
     "evalue": "Timezone name cannot be empty.",
     "output_type": "error",
     "traceback": [
      "\u001b[1;31m---------------------------------------------------------------------------\u001b[0m",
      "\u001b[1;31mValueError\u001b[0m                                Traceback (most recent call last)",
      "Input \u001b[1;32mIn [17]\u001b[0m, in \u001b[0;36m<cell line: 1>\u001b[1;34m()\u001b[0m\n\u001b[1;32m----> 1\u001b[0m tz1 \u001b[38;5;241m=\u001b[39m \u001b[43mTimeZone\u001b[49m\u001b[43m(\u001b[49m\u001b[38;5;124;43m'\u001b[39;49m\u001b[38;5;124;43m \u001b[39;49m\u001b[38;5;124;43m'\u001b[39;49m\u001b[43m,\u001b[49m\u001b[43m \u001b[49m\u001b[38;5;241;43m-\u001b[39;49m\u001b[38;5;241;43m3\u001b[39;49m\u001b[43m,\u001b[49m\u001b[43m \u001b[49m\u001b[38;5;241;43m0\u001b[39;49m\u001b[43m)\u001b[49m\n\u001b[0;32m      2\u001b[0m tz2 \u001b[38;5;241m=\u001b[39m TimeZone(\u001b[38;5;124m'\u001b[39m\u001b[38;5;124mIran\u001b[39m\u001b[38;5;124m'\u001b[39m, \u001b[38;5;241m3\u001b[39m, \u001b[38;5;241m30\u001b[39m)\n",
      "Input \u001b[1;32mIn [14]\u001b[0m, in \u001b[0;36mTimeZone.__init__\u001b[1;34m(self, name, offset_hours, offset_minutes)\u001b[0m\n\u001b[0;32m      5\u001b[0m \u001b[38;5;28;01mdef\u001b[39;00m \u001b[38;5;21m__init__\u001b[39m(\u001b[38;5;28mself\u001b[39m, name, offset_hours, offset_minutes):\n\u001b[0;32m      6\u001b[0m     \u001b[38;5;28;01mif\u001b[39;00m name \u001b[38;5;129;01mis\u001b[39;00m \u001b[38;5;28;01mNone\u001b[39;00m \u001b[38;5;129;01mor\u001b[39;00m \u001b[38;5;28mlen\u001b[39m(\u001b[38;5;28mstr\u001b[39m(name)\u001b[38;5;241m.\u001b[39mstrip()) \u001b[38;5;241m==\u001b[39m \u001b[38;5;241m0\u001b[39m:\n\u001b[1;32m----> 7\u001b[0m         \u001b[38;5;28;01mraise\u001b[39;00m \u001b[38;5;167;01mValueError\u001b[39;00m(\u001b[38;5;124m'\u001b[39m\u001b[38;5;124mTimezone name cannot be empty.\u001b[39m\u001b[38;5;124m'\u001b[39m)\n\u001b[0;32m      9\u001b[0m     \u001b[38;5;28mself\u001b[39m\u001b[38;5;241m.\u001b[39mname \u001b[38;5;241m=\u001b[39m \u001b[38;5;28mstr\u001b[39m(name)\u001b[38;5;241m.\u001b[39mstrip()\n\u001b[0;32m     11\u001b[0m     \u001b[38;5;28;01mif\u001b[39;00m \u001b[38;5;28mtype\u001b[39m(offset_hours) \u001b[38;5;241m!=\u001b[39m \u001b[38;5;28mint\u001b[39m:\n",
      "\u001b[1;31mValueError\u001b[0m: Timezone name cannot be empty."
     ]
    }
   ],
   "source": [
    "tz1 = TimeZone(' ', -3, 0)\n",
    "tz2 = TimeZone('Iran', 3, 30)"
   ]
  },
  {
   "cell_type": "code",
   "execution_count": 16,
   "metadata": {},
   "outputs": [
    {
     "data": {
      "text/plain": [
       "('Argentina', 'Iran')"
      ]
     },
     "execution_count": 16,
     "metadata": {},
     "output_type": "execute_result"
    }
   ],
   "source": [
    "tz1.name, tz2.name"
   ]
  },
  {
   "cell_type": "code",
   "execution_count": 36,
   "metadata": {},
   "outputs": [
    {
     "name": "stdout",
     "output_type": "stream",
     "text": [
      "2022-11-14 06:31:54.753091\n"
     ]
    }
   ],
   "source": [
    "dt = datetime.utcnow()\n",
    "print(dt)"
   ]
  },
  {
   "cell_type": "code",
   "execution_count": 37,
   "metadata": {},
   "outputs": [
    {
     "name": "stdout",
     "output_type": "stream",
     "text": [
      "2022-11-14 03:31:54.753091\n"
     ]
    }
   ],
   "source": [
    "print(dt + tz1.offset)"
   ]
  },
  {
   "cell_type": "code",
   "execution_count": 38,
   "metadata": {},
   "outputs": [
    {
     "name": "stdout",
     "output_type": "stream",
     "text": [
      "2022-11-14 10:01:54.753091\n"
     ]
    }
   ],
   "source": [
    "print(dt + tz2.offset)"
   ]
  },
  {
   "cell_type": "markdown",
   "metadata": {},
   "source": [
    "# Transaction Numbers"
   ]
  },
  {
   "cell_type": "markdown",
   "metadata": {},
   "source": [
    "## OOP"
   ]
  },
  {
   "cell_type": "code",
   "execution_count": 2,
   "metadata": {},
   "outputs": [],
   "source": [
    "class TransactionID:\n",
    "    def __init__(self, start_id):\n",
    "        self.start_id = start_id\n",
    "    \n",
    "    def next(self):\n",
    "        self.start_id += 1\n",
    "        return self.start_id"
   ]
  },
  {
   "cell_type": "code",
   "execution_count": 3,
   "metadata": {},
   "outputs": [
    {
     "data": {
      "text/plain": [
       "1"
      ]
     },
     "execution_count": 3,
     "metadata": {},
     "output_type": "execute_result"
    }
   ],
   "source": [
    "myid = TransactionID(0) # myid\n",
    "myid.next() # TransactionID.next(myid)"
   ]
  },
  {
   "cell_type": "code",
   "execution_count": 4,
   "metadata": {},
   "outputs": [
    {
     "data": {
      "text/plain": [
       "1"
      ]
     },
     "execution_count": 4,
     "metadata": {},
     "output_type": "execute_result"
    }
   ],
   "source": [
    "myid.start_id"
   ]
  },
  {
   "cell_type": "code",
   "execution_count": 42,
   "metadata": {},
   "outputs": [
    {
     "data": {
      "text/plain": [
       "2"
      ]
     },
     "execution_count": 42,
     "metadata": {},
     "output_type": "execute_result"
    }
   ],
   "source": [
    "myid.next()"
   ]
  },
  {
   "cell_type": "code",
   "execution_count": 5,
   "metadata": {},
   "outputs": [],
   "source": [
    "class Account:\n",
    "    transaction_counter = TransactionID(100)\n",
    "    def make_transaction(self):\n",
    "        new_trans_id = Account.transaction_counter.next()\n",
    "        return new_trans_id\n",
    "    "
   ]
  },
  {
   "cell_type": "code",
   "execution_count": 6,
   "metadata": {},
   "outputs": [],
   "source": [
    "a1 = Account()\n",
    "a2 = Account()"
   ]
  },
  {
   "cell_type": "code",
   "execution_count": 7,
   "metadata": {},
   "outputs": [
    {
     "name": "stdout",
     "output_type": "stream",
     "text": [
      "101\n",
      "102\n",
      "103\n"
     ]
    }
   ],
   "source": [
    "print(a1.make_transaction())\n",
    "print(a2.make_transaction())\n",
    "print(a1.make_transaction())"
   ]
  },
  {
   "cell_type": "markdown",
   "metadata": {},
   "source": [
    "## Generators"
   ]
  },
  {
   "cell_type": "code",
   "execution_count": 20,
   "metadata": {},
   "outputs": [],
   "source": [
    "def transaction_ids(start_id):\n",
    "    while True:\n",
    "        start_id += 1\n",
    "        yield start_id"
   ]
  },
  {
   "cell_type": "code",
   "execution_count": 27,
   "metadata": {},
   "outputs": [
    {
     "data": {
      "text/plain": [
       "[106, 107, 108, 109, 110, 111, 112, 113, 114, 115]"
      ]
     },
     "execution_count": 27,
     "metadata": {},
     "output_type": "execute_result"
    }
   ],
   "source": [
    "l = [next(t) for i in range(10)]\n",
    "l"
   ]
  },
  {
   "cell_type": "code",
   "execution_count": 21,
   "metadata": {},
   "outputs": [],
   "source": [
    "t = transaction_ids(100)"
   ]
  },
  {
   "cell_type": "code",
   "execution_count": 22,
   "metadata": {},
   "outputs": [
    {
     "data": {
      "text/plain": [
       "101"
      ]
     },
     "execution_count": 22,
     "metadata": {},
     "output_type": "execute_result"
    }
   ],
   "source": [
    "next(t)"
   ]
  },
  {
   "cell_type": "code",
   "execution_count": 26,
   "metadata": {},
   "outputs": [
    {
     "data": {
      "text/plain": [
       "105"
      ]
     },
     "execution_count": 26,
     "metadata": {},
     "output_type": "execute_result"
    }
   ],
   "source": [
    "next(t)"
   ]
  },
  {
   "cell_type": "code",
   "execution_count": 31,
   "metadata": {},
   "outputs": [],
   "source": [
    "class Account:\n",
    "    transaction_counter = transaction_ids(120)\n",
    "    def make_transaction(self):\n",
    "        new_trans_id = next(Account.transaction_counter)\n",
    "        return new_trans_id"
   ]
  },
  {
   "cell_type": "code",
   "execution_count": 32,
   "metadata": {},
   "outputs": [],
   "source": [
    "a1 = Account()\n",
    "a2 = Account()"
   ]
  },
  {
   "cell_type": "code",
   "execution_count": 33,
   "metadata": {},
   "outputs": [
    {
     "name": "stdout",
     "output_type": "stream",
     "text": [
      "121\n",
      "122\n",
      "123\n"
     ]
    }
   ],
   "source": [
    "print(a1.make_transaction())\n",
    "print(a2.make_transaction())\n",
    "print(a1.make_transaction())"
   ]
  },
  {
   "cell_type": "markdown",
   "metadata": {},
   "source": [
    "## itertools"
   ]
  },
  {
   "cell_type": "code",
   "execution_count": 35,
   "metadata": {},
   "outputs": [],
   "source": [
    "import itertools\n",
    "class Account:\n",
    "    transaction_counter = itertools.count(100)\n",
    "    def make_transaction(self):\n",
    "        new_trans_id = next(Account.transaction_counter)\n",
    "        return new_trans_id"
   ]
  },
  {
   "cell_type": "code",
   "execution_count": 19,
   "metadata": {},
   "outputs": [],
   "source": [
    "import itertools"
   ]
  },
  {
   "cell_type": "code",
   "execution_count": 17,
   "metadata": {},
   "outputs": [],
   "source": [
    "a1 = Account()\n",
    "a2 = Account()"
   ]
  },
  {
   "cell_type": "code",
   "execution_count": 18,
   "metadata": {},
   "outputs": [
    {
     "name": "stdout",
     "output_type": "stream",
     "text": [
      "100\n",
      "101\n",
      "102\n"
     ]
    }
   ],
   "source": [
    "print(a1.make_transaction())\n",
    "print(a2.make_transaction())\n",
    "print(a1.make_transaction())"
   ]
  },
  {
   "cell_type": "markdown",
   "metadata": {},
   "source": [
    "# Account Number, First Name, Last Name"
   ]
  },
  {
   "cell_type": "code",
   "execution_count": 65,
   "metadata": {},
   "outputs": [],
   "source": [
    "class Account:\n",
    "    transaction_counter = itertools.count(100)\n",
    "    \n",
    "    def __init__(self, account_number, first_name, last_name):\n",
    "        if len(first_name) == 0: \n",
    "            raise ValueError('First name cannot be empty.')\n",
    "        if len(last_name) == 0: \n",
    "            raise ValueError('Last name cannot be empty.')\n",
    "\n",
    "        self.first_name = first_name\n",
    "        self.last_name = last_name\n",
    "        self.account_number = account_number\n",
    "        "
   ]
  },
  {
   "cell_type": "code",
   "execution_count": 36,
   "metadata": {},
   "outputs": [],
   "source": [
    "class Account:\n",
    "    transaction_counter = itertools.count(100)\n",
    "    \n",
    "    def __init__(self, account_number, first_name, last_name):\n",
    "\n",
    "        self.first_name = Account.validate_name(first_name, 'First Name')\n",
    "        self.last_name = Account.validate_name(last_name, 'Last Name')\n",
    "        self.account_number = account_number\n",
    "        \n",
    "    def validate_name(value, field_title):\n",
    "        if len(str(value)) == 0:\n",
    "            raise ValueError(f'{field_title} cannot be empty')\n",
    "        return str(value).strip()\n",
    "        "
   ]
  },
  {
   "cell_type": "code",
   "execution_count": 20,
   "metadata": {},
   "outputs": [
    {
     "ename": "ValueError",
     "evalue": "Last Name cannot be empty",
     "output_type": "error",
     "traceback": [
      "\u001b[1;31m---------------------------------------------------------------------------\u001b[0m",
      "\u001b[1;31mValueError\u001b[0m                                Traceback (most recent call last)",
      "Input \u001b[1;32mIn [20]\u001b[0m, in \u001b[0;36m<cell line: 1>\u001b[1;34m()\u001b[0m\n\u001b[1;32m----> 1\u001b[0m a \u001b[38;5;241m=\u001b[39m \u001b[43mAccount\u001b[49m\u001b[43m(\u001b[49m\u001b[38;5;124;43m'\u001b[39;49m\u001b[38;5;124;43m1234\u001b[39;49m\u001b[38;5;124;43m'\u001b[39;49m\u001b[43m,\u001b[49m\u001b[43m \u001b[49m\u001b[38;5;124;43m'\u001b[39;49m\u001b[38;5;124;43mAli\u001b[39;49m\u001b[38;5;124;43m'\u001b[39;49m\u001b[43m,\u001b[49m\u001b[43m \u001b[49m\u001b[38;5;124;43m'\u001b[39;49m\u001b[38;5;124;43m'\u001b[39;49m\u001b[43m)\u001b[49m\n",
      "Input \u001b[1;32mIn [19]\u001b[0m, in \u001b[0;36mAccount.__init__\u001b[1;34m(self, account_number, first_name, last_name)\u001b[0m\n\u001b[0;32m      4\u001b[0m \u001b[38;5;28;01mdef\u001b[39;00m \u001b[38;5;21m__init__\u001b[39m(\u001b[38;5;28mself\u001b[39m, account_number, first_name, last_name):\n\u001b[0;32m      6\u001b[0m     \u001b[38;5;28mself\u001b[39m\u001b[38;5;241m.\u001b[39mfirst_name \u001b[38;5;241m=\u001b[39m Account\u001b[38;5;241m.\u001b[39mvalidate_name(first_name, \u001b[38;5;124m'\u001b[39m\u001b[38;5;124mFirst Name\u001b[39m\u001b[38;5;124m'\u001b[39m)\n\u001b[1;32m----> 7\u001b[0m     \u001b[38;5;28mself\u001b[39m\u001b[38;5;241m.\u001b[39mlast_name \u001b[38;5;241m=\u001b[39m \u001b[43mAccount\u001b[49m\u001b[38;5;241;43m.\u001b[39;49m\u001b[43mvalidate_name\u001b[49m\u001b[43m(\u001b[49m\u001b[43mlast_name\u001b[49m\u001b[43m,\u001b[49m\u001b[43m \u001b[49m\u001b[38;5;124;43m'\u001b[39;49m\u001b[38;5;124;43mLast Name\u001b[39;49m\u001b[38;5;124;43m'\u001b[39;49m\u001b[43m)\u001b[49m\n\u001b[0;32m      8\u001b[0m     \u001b[38;5;28mself\u001b[39m\u001b[38;5;241m.\u001b[39maccount_number \u001b[38;5;241m=\u001b[39m account_number\n",
      "Input \u001b[1;32mIn [19]\u001b[0m, in \u001b[0;36mAccount.validate_name\u001b[1;34m(value, field_title)\u001b[0m\n\u001b[0;32m     10\u001b[0m \u001b[38;5;28;01mdef\u001b[39;00m \u001b[38;5;21mvalidate_name\u001b[39m(value, field_title):\n\u001b[0;32m     11\u001b[0m     \u001b[38;5;28;01mif\u001b[39;00m \u001b[38;5;28mlen\u001b[39m(\u001b[38;5;28mstr\u001b[39m(value)) \u001b[38;5;241m==\u001b[39m \u001b[38;5;241m0\u001b[39m:\n\u001b[1;32m---> 12\u001b[0m         \u001b[38;5;28;01mraise\u001b[39;00m \u001b[38;5;167;01mValueError\u001b[39;00m(\u001b[38;5;124mf\u001b[39m\u001b[38;5;124m'\u001b[39m\u001b[38;5;132;01m{\u001b[39;00mfield_title\u001b[38;5;132;01m}\u001b[39;00m\u001b[38;5;124m cannot be empty\u001b[39m\u001b[38;5;124m'\u001b[39m)\n\u001b[0;32m     13\u001b[0m     \u001b[38;5;28;01mreturn\u001b[39;00m \u001b[38;5;28mstr\u001b[39m(value)\u001b[38;5;241m.\u001b[39mstrip()\n",
      "\u001b[1;31mValueError\u001b[0m: Last Name cannot be empty"
     ]
    }
   ],
   "source": [
    "a = Account('1234', 'Ali', '')"
   ]
  },
  {
   "cell_type": "code",
   "execution_count": 21,
   "metadata": {},
   "outputs": [],
   "source": [
    "a = Account('1234', 'Ali', 'Afshari')"
   ]
  },
  {
   "cell_type": "code",
   "execution_count": 22,
   "metadata": {},
   "outputs": [
    {
     "name": "stdout",
     "output_type": "stream",
     "text": [
      "Ali\n"
     ]
    }
   ],
   "source": [
    "print(a.first_name)"
   ]
  },
  {
   "cell_type": "code",
   "execution_count": 23,
   "metadata": {},
   "outputs": [],
   "source": [
    "a = Account('1234', 'Ali', None)"
   ]
  },
  {
   "cell_type": "code",
   "execution_count": 24,
   "metadata": {},
   "outputs": [
    {
     "data": {
      "text/plain": [
       "'None'"
      ]
     },
     "execution_count": 24,
     "metadata": {},
     "output_type": "execute_result"
    }
   ],
   "source": [
    "str('None')"
   ]
  },
  {
   "cell_type": "code",
   "execution_count": null,
   "metadata": {},
   "outputs": [],
   "source": [
    "# unit testing is needed "
   ]
  },
  {
   "cell_type": "code",
   "execution_count": 77,
   "metadata": {},
   "outputs": [],
   "source": [
    "class Account:\n",
    "    transaction_counter = itertools.count(100)\n",
    "    \n",
    "    def __init__(self, account_number, first_name, last_name):\n",
    "\n",
    "        self.first_name = self.validate_name(first_name, 'First Name')\n",
    "        self.last_name = self.validate_name(last_name, 'Last Name')\n",
    "        self.account_number = account_number\n",
    "        \n",
    "    def validate_name(self, value, field_title):\n",
    "        if len(str(value)) == 0 or value is None:\n",
    "            raise ValueError(f'{field_title} cannot be empty')\n",
    "        return str(value).strip()\n",
    "        "
   ]
  },
  {
   "cell_type": "code",
   "execution_count": 78,
   "metadata": {},
   "outputs": [
    {
     "ename": "ValueError",
     "evalue": "Last Name cannot be empty",
     "output_type": "error",
     "traceback": [
      "\u001b[1;31m---------------------------------------------------------------------------\u001b[0m",
      "\u001b[1;31mValueError\u001b[0m                                Traceback (most recent call last)",
      "\u001b[1;32m<ipython-input-78-eb93a7565a69>\u001b[0m in \u001b[0;36m<module>\u001b[1;34m\u001b[0m\n\u001b[1;32m----> 1\u001b[1;33m \u001b[0ma\u001b[0m \u001b[1;33m=\u001b[0m \u001b[0mAccount\u001b[0m\u001b[1;33m(\u001b[0m\u001b[1;34m'1234'\u001b[0m\u001b[1;33m,\u001b[0m \u001b[1;34m'Ali'\u001b[0m\u001b[1;33m,\u001b[0m \u001b[1;32mNone\u001b[0m\u001b[1;33m)\u001b[0m\u001b[1;33m\u001b[0m\u001b[1;33m\u001b[0m\u001b[0m\n\u001b[0m",
      "\u001b[1;32m<ipython-input-77-fff4404f0554>\u001b[0m in \u001b[0;36m__init__\u001b[1;34m(self, account_number, first_name, last_name)\u001b[0m\n\u001b[0;32m      5\u001b[0m \u001b[1;33m\u001b[0m\u001b[0m\n\u001b[0;32m      6\u001b[0m         \u001b[0mself\u001b[0m\u001b[1;33m.\u001b[0m\u001b[0mfirst_name\u001b[0m \u001b[1;33m=\u001b[0m \u001b[0mAccount\u001b[0m\u001b[1;33m.\u001b[0m\u001b[0mvalidate_name\u001b[0m\u001b[1;33m(\u001b[0m\u001b[0mfirst_name\u001b[0m\u001b[1;33m,\u001b[0m \u001b[1;34m'First Name'\u001b[0m\u001b[1;33m)\u001b[0m\u001b[1;33m\u001b[0m\u001b[1;33m\u001b[0m\u001b[0m\n\u001b[1;32m----> 7\u001b[1;33m         \u001b[0mself\u001b[0m\u001b[1;33m.\u001b[0m\u001b[0mlast_name\u001b[0m \u001b[1;33m=\u001b[0m \u001b[0mAccount\u001b[0m\u001b[1;33m.\u001b[0m\u001b[0mvalidate_name\u001b[0m\u001b[1;33m(\u001b[0m\u001b[0mlast_name\u001b[0m\u001b[1;33m,\u001b[0m \u001b[1;34m'Last Name'\u001b[0m\u001b[1;33m)\u001b[0m\u001b[1;33m\u001b[0m\u001b[1;33m\u001b[0m\u001b[0m\n\u001b[0m\u001b[0;32m      8\u001b[0m         \u001b[0mself\u001b[0m\u001b[1;33m.\u001b[0m\u001b[0maccount_number\u001b[0m \u001b[1;33m=\u001b[0m \u001b[0maccount_number\u001b[0m\u001b[1;33m\u001b[0m\u001b[1;33m\u001b[0m\u001b[0m\n\u001b[0;32m      9\u001b[0m \u001b[1;33m\u001b[0m\u001b[0m\n",
      "\u001b[1;32m<ipython-input-77-fff4404f0554>\u001b[0m in \u001b[0;36mvalidate_name\u001b[1;34m(value, field_title)\u001b[0m\n\u001b[0;32m     10\u001b[0m     \u001b[1;32mdef\u001b[0m \u001b[0mvalidate_name\u001b[0m\u001b[1;33m(\u001b[0m\u001b[0mvalue\u001b[0m\u001b[1;33m,\u001b[0m \u001b[0mfield_title\u001b[0m\u001b[1;33m)\u001b[0m\u001b[1;33m:\u001b[0m\u001b[1;33m\u001b[0m\u001b[1;33m\u001b[0m\u001b[0m\n\u001b[0;32m     11\u001b[0m         \u001b[1;32mif\u001b[0m \u001b[0mlen\u001b[0m\u001b[1;33m(\u001b[0m\u001b[0mstr\u001b[0m\u001b[1;33m(\u001b[0m\u001b[0mvalue\u001b[0m\u001b[1;33m)\u001b[0m\u001b[1;33m)\u001b[0m \u001b[1;33m==\u001b[0m \u001b[1;36m0\u001b[0m \u001b[1;32mor\u001b[0m \u001b[0mvalue\u001b[0m \u001b[1;32mis\u001b[0m \u001b[1;32mNone\u001b[0m\u001b[1;33m:\u001b[0m\u001b[1;33m\u001b[0m\u001b[1;33m\u001b[0m\u001b[0m\n\u001b[1;32m---> 12\u001b[1;33m             \u001b[1;32mraise\u001b[0m \u001b[0mValueError\u001b[0m\u001b[1;33m(\u001b[0m\u001b[1;34mf'{field_title} cannot be empty'\u001b[0m\u001b[1;33m)\u001b[0m\u001b[1;33m\u001b[0m\u001b[1;33m\u001b[0m\u001b[0m\n\u001b[0m\u001b[0;32m     13\u001b[0m         \u001b[1;32mreturn\u001b[0m \u001b[0mstr\u001b[0m\u001b[1;33m(\u001b[0m\u001b[0mvalue\u001b[0m\u001b[1;33m)\u001b[0m\u001b[1;33m.\u001b[0m\u001b[0mstrip\u001b[0m\u001b[1;33m(\u001b[0m\u001b[1;33m)\u001b[0m\u001b[1;33m\u001b[0m\u001b[1;33m\u001b[0m\u001b[0m\n\u001b[0;32m     14\u001b[0m \u001b[1;33m\u001b[0m\u001b[0m\n",
      "\u001b[1;31mValueError\u001b[0m: Last Name cannot be empty"
     ]
    }
   ],
   "source": [
    "a = Account('1234', 'Ali', None)"
   ]
  },
  {
   "cell_type": "markdown",
   "metadata": {},
   "source": [
    "# Preferred TimeZone"
   ]
  },
  {
   "cell_type": "code",
   "execution_count": 1,
   "metadata": {},
   "outputs": [
    {
     "ename": "NameError",
     "evalue": "name 'itertools' is not defined",
     "output_type": "error",
     "traceback": [
      "\u001b[1;31m---------------------------------------------------------------------------\u001b[0m",
      "\u001b[1;31mNameError\u001b[0m                                 Traceback (most recent call last)",
      "Input \u001b[1;32mIn [1]\u001b[0m, in \u001b[0;36m<cell line: 1>\u001b[1;34m()\u001b[0m\n\u001b[1;32m----> 1\u001b[0m \u001b[38;5;28;01mclass\u001b[39;00m \u001b[38;5;21;01mAccount\u001b[39;00m:\n\u001b[0;32m      2\u001b[0m     transaction_counter \u001b[38;5;241m=\u001b[39m itertools\u001b[38;5;241m.\u001b[39mcount(\u001b[38;5;241m100\u001b[39m)\n\u001b[0;32m      4\u001b[0m     \u001b[38;5;28;01mdef\u001b[39;00m \u001b[38;5;21m__init__\u001b[39m(\u001b[38;5;28mself\u001b[39m, account_number, first_name, last_name,\n\u001b[0;32m      5\u001b[0m                 timezone \u001b[38;5;241m=\u001b[39m \u001b[38;5;28;01mNone\u001b[39;00m):\n",
      "Input \u001b[1;32mIn [1]\u001b[0m, in \u001b[0;36mAccount\u001b[1;34m()\u001b[0m\n\u001b[0;32m      1\u001b[0m \u001b[38;5;28;01mclass\u001b[39;00m \u001b[38;5;21;01mAccount\u001b[39;00m:\n\u001b[1;32m----> 2\u001b[0m     transaction_counter \u001b[38;5;241m=\u001b[39m \u001b[43mitertools\u001b[49m\u001b[38;5;241m.\u001b[39mcount(\u001b[38;5;241m100\u001b[39m)\n\u001b[0;32m      4\u001b[0m     \u001b[38;5;28;01mdef\u001b[39;00m \u001b[38;5;21m__init__\u001b[39m(\u001b[38;5;28mself\u001b[39m, account_number, first_name, last_name,\n\u001b[0;32m      5\u001b[0m                 timezone \u001b[38;5;241m=\u001b[39m \u001b[38;5;28;01mNone\u001b[39;00m):\n\u001b[0;32m      7\u001b[0m         \u001b[38;5;28mself\u001b[39m\u001b[38;5;241m.\u001b[39mfirst_name \u001b[38;5;241m=\u001b[39m \u001b[38;5;28mself\u001b[39m\u001b[38;5;241m.\u001b[39mvalidate_name(first_name, \u001b[38;5;124m'\u001b[39m\u001b[38;5;124mFirst Name\u001b[39m\u001b[38;5;124m'\u001b[39m)\n",
      "\u001b[1;31mNameError\u001b[0m: name 'itertools' is not defined"
     ]
    }
   ],
   "source": [
    "class Account:\n",
    "    transaction_counter = itertools.count(100)\n",
    "    \n",
    "    def __init__(self, account_number, first_name, last_name,\n",
    "                timezone = None):\n",
    "\n",
    "        self.first_name = self.validate_name(first_name, 'First Name')\n",
    "        self.last_name = self.validate_name(last_name, 'Last Name')\n",
    "        self.account_number = account_number\n",
    "        \n",
    "        if timezone is None:\n",
    "            self.timezone = TimeZone('Tehran', 3, 30)\n",
    "        elif not isinstance(timezone, TimeZone):\n",
    "            raise ValueError('Time Zone must be a valid TimeZone object')\n",
    "        else:\n",
    "            self.timezone = timezone\n",
    "        \n",
    "    def validate_name(self, value, field_title):\n",
    "        if len(str(value)) == 0 or value is None:\n",
    "            raise ValueError(f'{field_title} cannot be empty')\n",
    "        return str(value).strip()\n",
    "        "
   ]
  },
  {
   "cell_type": "code",
   "execution_count": 43,
   "metadata": {},
   "outputs": [
    {
     "ename": "ValueError",
     "evalue": "Minutes offset must between -59 and 59 (inclusive).",
     "output_type": "error",
     "traceback": [
      "\u001b[1;31m---------------------------------------------------------------------------\u001b[0m",
      "\u001b[1;31mValueError\u001b[0m                                Traceback (most recent call last)",
      "Input \u001b[1;32mIn [43]\u001b[0m, in \u001b[0;36m<cell line: 1>\u001b[1;34m()\u001b[0m\n\u001b[1;32m----> 1\u001b[0m acc1 \u001b[38;5;241m=\u001b[39m Account(\u001b[38;5;241m1111\u001b[39m, \u001b[38;5;124m\"\u001b[39m\u001b[38;5;124mTA\u001b[39m\u001b[38;5;124m\"\u001b[39m, \u001b[38;5;124m'\u001b[39m\u001b[38;5;124mRa\u001b[39m\u001b[38;5;124m'\u001b[39m, \u001b[43mTimeZone\u001b[49m\u001b[43m(\u001b[49m\u001b[38;5;124;43m'\u001b[39;49m\u001b[38;5;124;43mX\u001b[39;49m\u001b[38;5;124;43m'\u001b[39;49m\u001b[43m,\u001b[49m\u001b[43m \u001b[49m\u001b[38;5;241;43m5\u001b[39;49m\u001b[43m,\u001b[49m\u001b[43m \u001b[49m\u001b[38;5;241;43m100\u001b[39;49m\u001b[43m)\u001b[49m)\n",
      "Input \u001b[1;32mIn [14]\u001b[0m, in \u001b[0;36mTimeZone.__init__\u001b[1;34m(self, name, offset_hours, offset_minutes)\u001b[0m\n\u001b[0;32m     15\u001b[0m     \u001b[38;5;28;01mraise\u001b[39;00m \u001b[38;5;167;01mValueError\u001b[39;00m(\u001b[38;5;124m'\u001b[39m\u001b[38;5;124mMinutes offset must be an integer.\u001b[39m\u001b[38;5;124m'\u001b[39m)\n\u001b[0;32m     17\u001b[0m \u001b[38;5;28;01mif\u001b[39;00m offset_minutes \u001b[38;5;241m<\u001b[39m \u001b[38;5;241m-\u001b[39m\u001b[38;5;241m59\u001b[39m \u001b[38;5;129;01mor\u001b[39;00m offset_minutes \u001b[38;5;241m>\u001b[39m \u001b[38;5;241m59\u001b[39m:\n\u001b[1;32m---> 18\u001b[0m     \u001b[38;5;28;01mraise\u001b[39;00m \u001b[38;5;167;01mValueError\u001b[39;00m(\u001b[38;5;124m'\u001b[39m\u001b[38;5;124mMinutes offset must between -59 and 59 (inclusive).\u001b[39m\u001b[38;5;124m'\u001b[39m)\n\u001b[0;32m     20\u001b[0m offset \u001b[38;5;241m=\u001b[39m timedelta(hours\u001b[38;5;241m=\u001b[39moffset_hours, minutes\u001b[38;5;241m=\u001b[39moffset_minutes)\n\u001b[0;32m     22\u001b[0m \u001b[38;5;66;03m# offsets are technically bounded between -12:00 and 14:00\u001b[39;00m\n\u001b[0;32m     23\u001b[0m \u001b[38;5;66;03m# see: https://en.wikipedia.org/wiki/List_of_UTC_time_offsets\u001b[39;00m\n",
      "\u001b[1;31mValueError\u001b[0m: Minutes offset must between -59 and 59 (inclusive)."
     ]
    }
   ],
   "source": [
    "acc1 = Account(1111, \"TA\", 'Ra', TimeZone('X', 5, 100))"
   ]
  },
  {
   "cell_type": "code",
   "execution_count": 41,
   "metadata": {},
   "outputs": [
    {
     "data": {
      "text/plain": [
       "'X'"
      ]
     },
     "execution_count": 41,
     "metadata": {},
     "output_type": "execute_result"
    }
   ],
   "source": [
    "acc1.timezone.name"
   ]
  },
  {
   "cell_type": "code",
   "execution_count": null,
   "metadata": {},
   "outputs": [],
   "source": []
  },
  {
   "cell_type": "code",
   "execution_count": 47,
   "metadata": {},
   "outputs": [
    {
     "data": {
      "text/plain": [
       "False"
      ]
     },
     "execution_count": 47,
     "metadata": {},
     "output_type": "execute_result"
    }
   ],
   "source": [
    "isinstance(tz1, int)"
   ]
  },
  {
   "cell_type": "code",
   "execution_count": 49,
   "metadata": {},
   "outputs": [
    {
     "name": "stdout",
     "output_type": "stream",
     "text": [
      "<class 'ValueError'>\n"
     ]
    }
   ],
   "source": [
    "try:\n",
    "    a = Account('123', 'Ali', 'Afshari', '-7:00')\n",
    "except ValueError:\n",
    "    print(ValueError)"
   ]
  },
  {
   "cell_type": "code",
   "execution_count": 48,
   "metadata": {},
   "outputs": [
    {
     "ename": "ValueError",
     "evalue": "Time Zone must be a valid TimeZone object",
     "output_type": "error",
     "traceback": [
      "\u001b[1;31m---------------------------------------------------------------------------\u001b[0m",
      "\u001b[1;31mValueError\u001b[0m                                Traceback (most recent call last)",
      "Input \u001b[1;32mIn [48]\u001b[0m, in \u001b[0;36m<cell line: 1>\u001b[1;34m()\u001b[0m\n\u001b[1;32m----> 1\u001b[0m \u001b[43mAccount\u001b[49m\u001b[43m(\u001b[49m\u001b[38;5;124;43m'\u001b[39;49m\u001b[38;5;124;43m123\u001b[39;49m\u001b[38;5;124;43m'\u001b[39;49m\u001b[43m,\u001b[49m\u001b[43m \u001b[49m\u001b[38;5;124;43m'\u001b[39;49m\u001b[38;5;124;43mAli\u001b[39;49m\u001b[38;5;124;43m'\u001b[39;49m\u001b[43m,\u001b[49m\u001b[43m \u001b[49m\u001b[38;5;124;43m'\u001b[39;49m\u001b[38;5;124;43mAfshari\u001b[39;49m\u001b[38;5;124;43m'\u001b[39;49m\u001b[43m,\u001b[49m\u001b[43m \u001b[49m\u001b[38;5;124;43m'\u001b[39;49m\u001b[38;5;124;43m-7:00\u001b[39;49m\u001b[38;5;124;43m'\u001b[39;49m\u001b[43m)\u001b[49m\n",
      "Input \u001b[1;32mIn [37]\u001b[0m, in \u001b[0;36mAccount.__init__\u001b[1;34m(self, account_number, first_name, last_name, timezone)\u001b[0m\n\u001b[0;32m     12\u001b[0m     \u001b[38;5;28mself\u001b[39m\u001b[38;5;241m.\u001b[39mtimezone \u001b[38;5;241m=\u001b[39m TimeZone(\u001b[38;5;124m'\u001b[39m\u001b[38;5;124mTehran\u001b[39m\u001b[38;5;124m'\u001b[39m, \u001b[38;5;241m3\u001b[39m, \u001b[38;5;241m30\u001b[39m)\n\u001b[0;32m     13\u001b[0m \u001b[38;5;28;01melif\u001b[39;00m \u001b[38;5;129;01mnot\u001b[39;00m \u001b[38;5;28misinstance\u001b[39m(timezone, TimeZone):\n\u001b[1;32m---> 14\u001b[0m     \u001b[38;5;28;01mraise\u001b[39;00m \u001b[38;5;167;01mValueError\u001b[39;00m(\u001b[38;5;124m'\u001b[39m\u001b[38;5;124mTime Zone must be a valid TimeZone object\u001b[39m\u001b[38;5;124m'\u001b[39m)\n\u001b[0;32m     15\u001b[0m \u001b[38;5;28;01melse\u001b[39;00m:\n\u001b[0;32m     16\u001b[0m     \u001b[38;5;28mself\u001b[39m\u001b[38;5;241m.\u001b[39mtimezone \u001b[38;5;241m=\u001b[39m timezone\n",
      "\u001b[1;31mValueError\u001b[0m: Time Zone must be a valid TimeZone object"
     ]
    }
   ],
   "source": [
    "Account('123', 'Ali', 'Afshari', '-7:00')"
   ]
  },
  {
   "cell_type": "code",
   "execution_count": 29,
   "metadata": {},
   "outputs": [
    {
     "ename": "ValueError",
     "evalue": "Time Zone must be a valid TimeZone object",
     "output_type": "error",
     "traceback": [
      "\u001b[1;31m---------------------------------------------------------------------------\u001b[0m",
      "\u001b[1;31mValueError\u001b[0m                                Traceback (most recent call last)",
      "Input \u001b[1;32mIn [29]\u001b[0m, in \u001b[0;36m<cell line: 1>\u001b[1;34m()\u001b[0m\n\u001b[1;32m----> 1\u001b[0m a \u001b[38;5;241m=\u001b[39m \u001b[43mAccount\u001b[49m\u001b[43m(\u001b[49m\u001b[38;5;124;43m'\u001b[39;49m\u001b[38;5;124;43m123\u001b[39;49m\u001b[38;5;124;43m'\u001b[39;49m\u001b[43m,\u001b[49m\u001b[43m \u001b[49m\u001b[38;5;124;43m'\u001b[39;49m\u001b[38;5;124;43mAli\u001b[39;49m\u001b[38;5;124;43m'\u001b[39;49m\u001b[43m,\u001b[49m\u001b[43m \u001b[49m\u001b[38;5;124;43m'\u001b[39;49m\u001b[38;5;124;43mAfshari\u001b[39;49m\u001b[38;5;124;43m'\u001b[39;49m\u001b[43m,\u001b[49m\u001b[43m \u001b[49m\u001b[38;5;124;43m'\u001b[39;49m\u001b[38;5;124;43m-7:00\u001b[39;49m\u001b[38;5;124;43m'\u001b[39;49m\u001b[43m)\u001b[49m\n",
      "Input \u001b[1;32mIn [27]\u001b[0m, in \u001b[0;36mAccount.__init__\u001b[1;34m(self, account_number, first_name, last_name, timezone)\u001b[0m\n\u001b[0;32m     12\u001b[0m     \u001b[38;5;28mself\u001b[39m\u001b[38;5;241m.\u001b[39mtimezone \u001b[38;5;241m=\u001b[39m TimeZone(\u001b[38;5;124m'\u001b[39m\u001b[38;5;124mTehran\u001b[39m\u001b[38;5;124m'\u001b[39m, \u001b[38;5;241m3\u001b[39m, \u001b[38;5;241m30\u001b[39m)\n\u001b[0;32m     13\u001b[0m \u001b[38;5;28;01melif\u001b[39;00m \u001b[38;5;129;01mnot\u001b[39;00m \u001b[38;5;28misinstance\u001b[39m(timezone, TimeZone):\n\u001b[1;32m---> 14\u001b[0m     \u001b[38;5;28;01mraise\u001b[39;00m \u001b[38;5;167;01mValueError\u001b[39;00m(\u001b[38;5;124m'\u001b[39m\u001b[38;5;124mTime Zone must be a valid TimeZone object\u001b[39m\u001b[38;5;124m'\u001b[39m)\n\u001b[0;32m     15\u001b[0m \u001b[38;5;28;01melse\u001b[39;00m:\n\u001b[0;32m     16\u001b[0m     \u001b[38;5;28mself\u001b[39m\u001b[38;5;241m.\u001b[39mtimezone \u001b[38;5;241m=\u001b[39m timezone\n",
      "\u001b[1;31mValueError\u001b[0m: Time Zone must be a valid TimeZone object"
     ]
    }
   ],
   "source": [
    "a = Account('123', 'Ali', 'Afshari', '-7:00')"
   ]
  },
  {
   "cell_type": "code",
   "execution_count": 30,
   "metadata": {},
   "outputs": [],
   "source": [
    "a = Account('123', 'Ali', 'Afshari')"
   ]
  },
  {
   "cell_type": "code",
   "execution_count": 34,
   "metadata": {},
   "outputs": [
    {
     "data": {
      "text/plain": [
       "-3"
      ]
     },
     "execution_count": 34,
     "metadata": {},
     "output_type": "execute_result"
    }
   ],
   "source": [
    "a.timezone.offset_hours"
   ]
  },
  {
   "cell_type": "code",
   "execution_count": 35,
   "metadata": {},
   "outputs": [],
   "source": [
    "a.timezone = TimeZone('Argentina', -3, 0)"
   ]
  },
  {
   "cell_type": "code",
   "execution_count": 36,
   "metadata": {},
   "outputs": [
    {
     "name": "stdout",
     "output_type": "stream",
     "text": [
      "<__main__.TimeZone object at 0x0000019E55AC37F0>\n"
     ]
    }
   ],
   "source": [
    "print(a.timezone)"
   ]
  },
  {
   "cell_type": "code",
   "execution_count": 3,
   "metadata": {},
   "outputs": [],
   "source": [
    "# add __repr__ to TimeZone class\n",
    "from datetime import timedelta\n",
    "\n",
    "\n",
    "class TimeZone:\n",
    "    def __init__(self, name, offset_hours, offset_minutes):\n",
    "        if name is None or len(str(name).strip()) == 0:\n",
    "            raise ValueError('Timezone name cannot be empty.')\n",
    "            \n",
    "        self.name = str(name).strip()\n",
    "        \n",
    "        if type(offset_hours) != int:\n",
    "            raise ValueError('Hour offset must be an integer.')\n",
    "        \n",
    "        if type(offset_minutes) != int:\n",
    "            raise ValueError('Minutes offset must be an integer.')\n",
    "            \n",
    "        if offset_minutes < -59 or offset_minutes > 59:\n",
    "            raise ValueError('Minutes offset must between -59 and 59 (inclusive).')\n",
    "            \n",
    "        offset = timedelta(hours=offset_hours, minutes=offset_minutes)\n",
    "\n",
    "        # offsets are technically bounded between -12:00 and 14:00\n",
    "        # see: https://en.wikipedia.org/wiki/List_of_UTC_time_offsets\n",
    "        if offset < timedelta(hours=-12, minutes=0) or offset > timedelta(hours=14, minutes=0):\n",
    "            raise ValueError('Offset must be between -12:00 and +14:00.')\n",
    "            \n",
    "        self.offset_hours = offset_hours\n",
    "        self.offset_minutes = offset_minutes\n",
    "        self.offset = offset\n",
    "        \n",
    "    def __repr__(self):\n",
    "        return (f\"TimeZone(name='{self.name}', offset_hours={self.offset_hours}, offset_minutes={self.offset_minutes})\")"
   ]
  },
  {
   "cell_type": "code",
   "execution_count": 7,
   "metadata": {},
   "outputs": [],
   "source": [
    "class Test:\n",
    "    def __init__(self):\n",
    "        self.a = 10\n",
    "        \n",
    "    def __str__(self):\n",
    "        return f\"a = {self.a}\"\n",
    "    \n",
    "    def __repr__(self):\n",
    "        return f\"<class>Test(a={self.a})\""
   ]
  },
  {
   "cell_type": "code",
   "execution_count": 8,
   "metadata": {},
   "outputs": [],
   "source": [
    "t1 = Test()"
   ]
  },
  {
   "cell_type": "code",
   "execution_count": 10,
   "metadata": {},
   "outputs": [
    {
     "name": "stdout",
     "output_type": "stream",
     "text": [
      "a = 10\n"
     ]
    }
   ],
   "source": [
    "print(t1)"
   ]
  },
  {
   "cell_type": "code",
   "execution_count": 12,
   "metadata": {},
   "outputs": [
    {
     "data": {
      "text/plain": [
       "int"
      ]
     },
     "execution_count": 12,
     "metadata": {},
     "output_type": "execute_result"
    }
   ],
   "source": [
    "type(10)"
   ]
  },
  {
   "cell_type": "code",
   "execution_count": 13,
   "metadata": {},
   "outputs": [],
   "source": [
    "tz1 = TimeZone('Tehran', 3, 30)"
   ]
  },
  {
   "cell_type": "code",
   "execution_count": 15,
   "metadata": {},
   "outputs": [
    {
     "name": "stdout",
     "output_type": "stream",
     "text": [
      "TimeZone(name='Tehran', offset_hours=3, offset_minutes=30)\n"
     ]
    }
   ],
   "source": [
    "print(tz1)"
   ]
  },
  {
   "cell_type": "code",
   "execution_count": 40,
   "metadata": {},
   "outputs": [],
   "source": [
    "class Account:\n",
    "    transaction_counter = itertools.count(100)\n",
    "    \n",
    "    def __init__(self, account_number, first_name, last_name,\n",
    "                timezone = None):\n",
    "\n",
    "        self.first_name = self.validate_name(first_name, 'First Name')\n",
    "        self.last_name = self.validate_name(last_name, 'Last Name')\n",
    "        self.account_number = account_number\n",
    "        \n",
    "        if timezone is None:\n",
    "            self.timezone = TimeZone('Tehran', 3, 30)\n",
    "        elif not isinstance(timezone, TimeZone):\n",
    "            raise ValueError('Time Zone must be a valid TimeZone object')\n",
    "        else:\n",
    "            self.timezone = timezone\n",
    "        \n",
    "    def validate_name(self, value, field_title):\n",
    "        if len(str(value)) == 0 or value is None:\n",
    "            raise ValueError(f'{field_title} cannot be empty')\n",
    "        return str(value).strip()\n",
    "        "
   ]
  },
  {
   "cell_type": "code",
   "execution_count": 41,
   "metadata": {},
   "outputs": [],
   "source": [
    "a = Account('123', 'Ali', 'Afshari')"
   ]
  },
  {
   "cell_type": "code",
   "execution_count": 42,
   "metadata": {},
   "outputs": [
    {
     "data": {
      "text/plain": [
       "3"
      ]
     },
     "execution_count": 42,
     "metadata": {},
     "output_type": "execute_result"
    }
   ],
   "source": [
    "a.timezone.offset_hours"
   ]
  },
  {
   "cell_type": "code",
   "execution_count": 43,
   "metadata": {},
   "outputs": [],
   "source": [
    "a.timezone = TimeZone('Argentina', -3, 0)"
   ]
  },
  {
   "cell_type": "code",
   "execution_count": 44,
   "metadata": {},
   "outputs": [
    {
     "name": "stdout",
     "output_type": "stream",
     "text": [
      "TimeZone(name='Argentina', offset_hours=-3, offset_minutes=0)\n"
     ]
    }
   ],
   "source": [
    "print(a.timezone)"
   ]
  },
  {
   "cell_type": "markdown",
   "metadata": {},
   "source": [
    "# Account Balance"
   ]
  },
  {
   "cell_type": "code",
   "execution_count": 20,
   "metadata": {},
   "outputs": [],
   "source": [
    "from decimal import Decimal\n",
    "class Account:\n",
    "    transaction_counter = itertools.count(100)\n",
    "    \n",
    "    def __init__(self, account_number, first_name, last_name,\n",
    "                timezone = None, initial_balance = Decimal('0.0')):\n",
    "\n",
    "        self.first_name = self.validate_name(first_name, 'First Name')\n",
    "        self.last_name = self.validate_name(last_name, 'Last Name')\n",
    "        self.account_number = account_number\n",
    "        \n",
    "        if timezone is None:\n",
    "            self.timezone = TimeZone('Tehran', 3, 30)\n",
    "        elif not isinstance(timezone, TimeZone):\n",
    "            raise ValueError('Time Zone must be a valid TimeZone object')\n",
    "        else:\n",
    "            self.timezone = timezone\n",
    "            \n",
    "        if initial_balance < Decimal('0.0'):\n",
    "            raise ValueError('initial balance must be a non-negative value')\n",
    "        if not isinstance(initial_balance, Decimal):\n",
    "            raise TypeError('initial balance must be of Decimal class')\n",
    "        self.initial_balance = initial_balance\n",
    "        \n",
    "    def validate_name(self, value, field_title):\n",
    "        if len(str(value)) == 0 or value is None:\n",
    "            raise ValueError(f'{field_title} cannot be empty')\n",
    "        return str(value).strip()\n",
    "        "
   ]
  },
  {
   "cell_type": "code",
   "execution_count": 21,
   "metadata": {},
   "outputs": [
    {
     "name": "stdout",
     "output_type": "stream",
     "text": [
      "False\n"
     ]
    }
   ],
   "source": [
    "from decimal import Decimal\n",
    "a = 0.1\n",
    "b = 0.2\n",
    "print(a+b == 0.3)"
   ]
  },
  {
   "cell_type": "code",
   "execution_count": 22,
   "metadata": {},
   "outputs": [
    {
     "name": "stdout",
     "output_type": "stream",
     "text": [
      "True\n"
     ]
    }
   ],
   "source": [
    "from decimal import Decimal\n",
    "a = Decimal('0.1')\n",
    "b = Decimal('0.2')\n",
    "print(a+b == Decimal('0.3'))"
   ]
  },
  {
   "cell_type": "code",
   "execution_count": 24,
   "metadata": {},
   "outputs": [
    {
     "ename": "TypeError",
     "evalue": "initial balance must be of Decimal class",
     "output_type": "error",
     "traceback": [
      "\u001b[1;31m---------------------------------------------------------------------------\u001b[0m",
      "\u001b[1;31mTypeError\u001b[0m                                 Traceback (most recent call last)",
      "Input \u001b[1;32mIn [24]\u001b[0m, in \u001b[0;36m<cell line: 1>\u001b[1;34m()\u001b[0m\n\u001b[1;32m----> 1\u001b[0m a \u001b[38;5;241m=\u001b[39m \u001b[43mAccount\u001b[49m\u001b[43m(\u001b[49m\u001b[38;5;124;43m'\u001b[39;49m\u001b[38;5;124;43m123\u001b[39;49m\u001b[38;5;124;43m'\u001b[39;49m\u001b[43m,\u001b[49m\u001b[43m \u001b[49m\u001b[38;5;124;43m'\u001b[39;49m\u001b[38;5;124;43mAli\u001b[39;49m\u001b[38;5;124;43m'\u001b[39;49m\u001b[43m,\u001b[49m\u001b[43m \u001b[49m\u001b[38;5;124;43m'\u001b[39;49m\u001b[38;5;124;43mAfshari\u001b[39;49m\u001b[38;5;124;43m'\u001b[39;49m\u001b[43m,\u001b[49m\u001b[43m \u001b[49m\u001b[43minitial_balance\u001b[49m\u001b[43m \u001b[49m\u001b[38;5;241;43m=\u001b[39;49m\u001b[43m \u001b[49m\u001b[38;5;241;43m1000\u001b[39;49m\u001b[43m)\u001b[49m\n",
      "Input \u001b[1;32mIn [20]\u001b[0m, in \u001b[0;36mAccount.__init__\u001b[1;34m(self, account_number, first_name, last_name, timezone, initial_balance)\u001b[0m\n\u001b[0;32m     20\u001b[0m     \u001b[38;5;28;01mraise\u001b[39;00m \u001b[38;5;167;01mValueError\u001b[39;00m(\u001b[38;5;124m'\u001b[39m\u001b[38;5;124minitial balance must be a non-negative value\u001b[39m\u001b[38;5;124m'\u001b[39m)\n\u001b[0;32m     21\u001b[0m \u001b[38;5;28;01mif\u001b[39;00m \u001b[38;5;129;01mnot\u001b[39;00m \u001b[38;5;28misinstance\u001b[39m(initial_balance, Decimal):\n\u001b[1;32m---> 22\u001b[0m     \u001b[38;5;28;01mraise\u001b[39;00m \u001b[38;5;167;01mTypeError\u001b[39;00m(\u001b[38;5;124m'\u001b[39m\u001b[38;5;124minitial balance must be of Decimal class\u001b[39m\u001b[38;5;124m'\u001b[39m)\n\u001b[0;32m     23\u001b[0m \u001b[38;5;28mself\u001b[39m\u001b[38;5;241m.\u001b[39minitial_balance \u001b[38;5;241m=\u001b[39m initial_balance\n",
      "\u001b[1;31mTypeError\u001b[0m: initial balance must be of Decimal class"
     ]
    }
   ],
   "source": [
    "a = Account('123', 'Ali', 'Afshari', initial_balance = 1000)"
   ]
  },
  {
   "cell_type": "markdown",
   "metadata": {},
   "source": [
    "# interest rate\n",
    "it is common to all the Accounts so it is not an instance variable,\n",
    "it is really best suited to be a class variable(attribute)"
   ]
  },
  {
   "cell_type": "code",
   "execution_count": 25,
   "metadata": {},
   "outputs": [],
   "source": [
    "from decimal import Decimal\n",
    "class Account:\n",
    "    transaction_counter = itertools.count(100)\n",
    "    interest_rate = 0.5  # percent\n",
    "    \n",
    "    def __init__(self, account_number, first_name, last_name,\n",
    "                timezone = None, initial_balance = Decimal('0.0')):\n",
    "\n",
    "        self.first_name = self.validate_name(first_name, 'First Name')\n",
    "        self.last_name = self.validate_name(last_name, 'Last Name')\n",
    "        self.account_number = account_number\n",
    "        \n",
    "        if timezone is None:\n",
    "            self.timezone = TimeZone('Tehran', 3, 30)\n",
    "        elif not isinstance(timezone, TimeZone):\n",
    "            raise ValueError('Time Zone must be a valid TimeZone object')\n",
    "        else:\n",
    "            self.timezone = timezone\n",
    "            \n",
    "        if initial_balance < Decimal('0.0'):\n",
    "            raise ValueError('initial balance must be a non-negative value')\n",
    "        self.initial_balance = initial_balance\n",
    "        \n",
    "    def validate_name(self, value, field_title):\n",
    "        if len(str(value)) == 0 or value is None:\n",
    "            raise ValueError(f'{field_title} cannot be empty')\n",
    "        return str(value).strip()\n",
    "        "
   ]
  },
  {
   "cell_type": "code",
   "execution_count": 26,
   "metadata": {},
   "outputs": [],
   "source": [
    "a1 = Account(1234, 'Ali', 'Afshari')\n",
    "a2 = Account(12345, 'Mina', 'Mohebbi')"
   ]
  },
  {
   "cell_type": "code",
   "execution_count": 27,
   "metadata": {},
   "outputs": [
    {
     "data": {
      "text/plain": [
       "'Ali'"
      ]
     },
     "execution_count": 27,
     "metadata": {},
     "output_type": "execute_result"
    }
   ],
   "source": [
    "a1.first_name"
   ]
  },
  {
   "cell_type": "code",
   "execution_count": 28,
   "metadata": {},
   "outputs": [
    {
     "data": {
      "text/plain": [
       "(0.5, 0.5)"
      ]
     },
     "execution_count": 28,
     "metadata": {},
     "output_type": "execute_result"
    }
   ],
   "source": [
    "a1.interest_rate, a2.interest_rate"
   ]
  },
  {
   "cell_type": "code",
   "execution_count": 29,
   "metadata": {},
   "outputs": [
    {
     "data": {
      "text/plain": [
       "0.5"
      ]
     },
     "execution_count": 29,
     "metadata": {},
     "output_type": "execute_result"
    }
   ],
   "source": [
    "Account.interest_rate"
   ]
  },
  {
   "cell_type": "code",
   "execution_count": 30,
   "metadata": {},
   "outputs": [],
   "source": [
    "Account.interest_rate = 1"
   ]
  },
  {
   "cell_type": "code",
   "execution_count": 31,
   "metadata": {},
   "outputs": [
    {
     "data": {
      "text/plain": [
       "(1, 1)"
      ]
     },
     "execution_count": 31,
     "metadata": {},
     "output_type": "execute_result"
    }
   ],
   "source": [
    "a1.interest_rate, a2.interest_rate"
   ]
  },
  {
   "cell_type": "code",
   "execution_count": 32,
   "metadata": {},
   "outputs": [],
   "source": [
    "a1.interest_rate = 0.5"
   ]
  },
  {
   "cell_type": "code",
   "execution_count": 33,
   "metadata": {},
   "outputs": [
    {
     "data": {
      "text/plain": [
       "(0.5, 1)"
      ]
     },
     "execution_count": 33,
     "metadata": {},
     "output_type": "execute_result"
    }
   ],
   "source": [
    "a1.interest_rate, a2.interest_rate"
   ]
  },
  {
   "cell_type": "code",
   "execution_count": 34,
   "metadata": {},
   "outputs": [
    {
     "data": {
      "text/plain": [
       "{'first_name': 'Ali',\n",
       " 'last_name': 'Afshari',\n",
       " 'account_number': 1234,\n",
       " 'timezone': TimeZone(name='Tehran', offset_hours=3, offset_minutes=30),\n",
       " 'initial_balance': Decimal('0.0'),\n",
       " 'interest_rate': 0.5}"
      ]
     },
     "execution_count": 34,
     "metadata": {},
     "output_type": "execute_result"
    }
   ],
   "source": [
    "a1.__dict__"
   ]
  },
  {
   "cell_type": "code",
   "execution_count": 61,
   "metadata": {},
   "outputs": [
    {
     "data": {
      "text/plain": [
       "{'first_name': 'Mina',\n",
       " 'last_name': 'Mohebbi',\n",
       " 'account_number': 12345,\n",
       " 'timezone': TimeZone(name='Tehran', offset_hours=3, offset_minutes=30),\n",
       " 'initial_balance': Decimal('0.0')}"
      ]
     },
     "execution_count": 61,
     "metadata": {},
     "output_type": "execute_result"
    }
   ],
   "source": [
    "a2.__dict__"
   ]
  },
  {
   "cell_type": "code",
   "execution_count": 62,
   "metadata": {},
   "outputs": [
    {
     "data": {
      "text/plain": [
       "10"
      ]
     },
     "execution_count": 62,
     "metadata": {},
     "output_type": "execute_result"
    }
   ],
   "source": [
    "a2.interest_rate"
   ]
  },
  {
   "cell_type": "code",
   "execution_count": 63,
   "metadata": {},
   "outputs": [
    {
     "data": {
      "text/plain": [
       "mappingproxy({'__module__': '__main__',\n",
       "              'transaction_counter': count(100),\n",
       "              'interest_rate': 10,\n",
       "              '__init__': <function __main__.Account.__init__(self, account_number, first_name, last_name, timezone=None, initial_balance=Decimal('0.0'))>,\n",
       "              'validate_name': <function __main__.Account.validate_name(self, value, field_title)>,\n",
       "              '__dict__': <attribute '__dict__' of 'Account' objects>,\n",
       "              '__weakref__': <attribute '__weakref__' of 'Account' objects>,\n",
       "              '__doc__': None})"
      ]
     },
     "execution_count": 63,
     "metadata": {},
     "output_type": "execute_result"
    }
   ],
   "source": [
    "Account.__dict__"
   ]
  },
  {
   "cell_type": "code",
   "execution_count": 64,
   "metadata": {},
   "outputs": [
    {
     "data": {
      "text/plain": [
       "mappingproxy({'__module__': '__main__',\n",
       "              'transaction_counter': count(100),\n",
       "              'interest_rate': 10,\n",
       "              '__init__': <function __main__.Account.__init__(self, account_number, first_name, last_name, timezone=None, initial_balance=Decimal('0.0'))>,\n",
       "              'validate_name': <function __main__.Account.validate_name(self, value, field_title)>,\n",
       "              '__dict__': <attribute '__dict__' of 'Account' objects>,\n",
       "              '__weakref__': <attribute '__weakref__' of 'Account' objects>,\n",
       "              '__doc__': None})"
      ]
     },
     "execution_count": 64,
     "metadata": {},
     "output_type": "execute_result"
    }
   ],
   "source": [
    "a1.__class__.__dict__"
   ]
  },
  {
   "cell_type": "markdown",
   "metadata": {},
   "source": [
    "# Transaction Codes"
   ]
  },
  {
   "cell_type": "code",
   "execution_count": 65,
   "metadata": {},
   "outputs": [],
   "source": [
    "# using a dictionary\n",
    "from decimal import Decimal\n",
    "class Account:\n",
    "    transaction_counter = itertools.count(100)\n",
    "    interest_rate = 0.5  # percent\n",
    "    transaction_codes = {\n",
    "        'deposit' : 'D',\n",
    "        'withdraw' : 'W',\n",
    "        'interest' : 'I',\n",
    "        'rejected' : 'X'\n",
    "    }\n",
    "    \n",
    "    def __init__(self, account_number, first_name, last_name,\n",
    "                timezone = None, initial_balance = Decimal('0.0')):\n",
    "\n",
    "        self.first_name = self.validate_name(first_name, 'First Name')\n",
    "        self.last_name = self.validate_name(last_name, 'Last Name')\n",
    "        self.account_number = account_number\n",
    "        \n",
    "        if timezone is None:\n",
    "            self.timezone = TimeZone('Tehran', 3, 30)\n",
    "        elif not isinstance(timezone, TimeZone):\n",
    "            raise ValueError('Time Zone must be a valid TimeZone object')\n",
    "        else:\n",
    "            self.timezone = timezone\n",
    "            \n",
    "        if initial_balance < Decimal('0.0'):\n",
    "            raise ValueError('initial balance must be a non-negative value')\n",
    "        self.initial_balance = initial_balance\n",
    "        \n",
    "    def validate_name(self, value, field_title):\n",
    "        if len(str(value)) == 0 or value is None:\n",
    "            raise ValueError(f'{field_title} cannot be empty')\n",
    "        return str(value).strip()\n",
    "        "
   ]
  },
  {
   "cell_type": "markdown",
   "metadata": {},
   "source": [
    "# Confirmation Code"
   ]
  },
  {
   "cell_type": "markdown",
   "metadata": {},
   "source": [
    "As I mentioned earlier the code should contain:\n",
    "    + the transaction code\n",
    "    + the account number\n",
    "    + the date/time in UTC of the transaction\n",
    "    + the transaction number\n",
    "\n",
    "Something like: X-123-20220303205956-1000"
   ]
  },
  {
   "cell_type": "code",
   "execution_count": 35,
   "metadata": {},
   "outputs": [],
   "source": [
    "def generate_confirmation_code(account_number, transaction_id, transaction_code):\n",
    "    dt_str = datetime.utcnow().strftime('%Y%m%d%H%M%S')\n",
    "    return f'{transaction_code}-{account_number}-{dt_str}-{transaction_id}'"
   ]
  },
  {
   "cell_type": "code",
   "execution_count": 36,
   "metadata": {},
   "outputs": [
    {
     "data": {
      "text/plain": [
       "'X-123-20231104055801-1000'"
      ]
     },
     "execution_count": 36,
     "metadata": {},
     "output_type": "execute_result"
    }
   ],
   "source": [
    "from datetime import datetime, timedelta\n",
    "generate_confirmation_code(123, 1000, 'X')"
   ]
  },
  {
   "cell_type": "code",
   "execution_count": 37,
   "metadata": {},
   "outputs": [],
   "source": [
    "# using a dictionary\n",
    "from decimal import Decimal\n",
    "class Account:\n",
    "    transaction_counter = itertools.count(100)\n",
    "    interest_rate = 0.5  # percent\n",
    "    transaction_codes = {\n",
    "        'deposit' : 'D',\n",
    "        'withdraw' : 'W',\n",
    "        'interest' : 'I',\n",
    "        'rejected' : 'X'\n",
    "    }\n",
    "    \n",
    "    def __init__(self, account_number, first_name, last_name,\n",
    "                timezone = None, initial_balance = Decimal('0.0')):\n",
    "\n",
    "        self.first_name = self.validate_name(first_name, 'First Name')\n",
    "        self.last_name = self.validate_name(last_name, 'Last Name')\n",
    "        self.account_number = account_number\n",
    "        \n",
    "        if timezone is None:\n",
    "            self.timezone = TimeZone('Tehran', 3, 30)\n",
    "        elif not isinstance(timezone, TimeZone):\n",
    "            raise ValueError('Time Zone must be a valid TimeZone object')\n",
    "        else:\n",
    "            self.timezone = timezone\n",
    "            \n",
    "        if initial_balance < Decimal('0.0'):\n",
    "            raise ValueError('initial balance must be a non-negative value')\n",
    "        self.initial_balance = initial_balance\n",
    "        \n",
    "    def generate_confirmation_code(self, transaction_code):\n",
    "        transaction_id = next(Account.transaction_counter)\n",
    "        dt_str = (datetime.utcnow()+self.timezone.offset).strftime('%Y%m%d%H%M%S')\n",
    "        return f'{transaction_code}-{self.account_number}-{dt_str}-{transaction_id}'\n",
    "    \n",
    "    def validate_name(self, value, field_title):\n",
    "        if len(str(value)) == 0 or value is None:\n",
    "            raise ValueError(f'{field_title} cannot be empty')\n",
    "        return str(value).strip()\n",
    "        "
   ]
  },
  {
   "cell_type": "code",
   "execution_count": 38,
   "metadata": {},
   "outputs": [],
   "source": [
    "a1 = Account(1111, 'AAAA', 'BBBB')\n",
    "a2 = Account(2222, 'CCCC', 'DDDD')"
   ]
  },
  {
   "cell_type": "code",
   "execution_count": 39,
   "metadata": {},
   "outputs": [
    {
     "data": {
      "text/plain": [
       "'X-1111-20231104092947-100'"
      ]
     },
     "execution_count": 39,
     "metadata": {},
     "output_type": "execute_result"
    }
   ],
   "source": [
    "a1.generate_confirmation_code('X')"
   ]
  },
  {
   "cell_type": "markdown",
   "metadata": {},
   "source": [
    "# Transactions"
   ]
  },
  {
   "cell_type": "code",
   "execution_count": 55,
   "metadata": {},
   "outputs": [],
   "source": [
    "# using a dictionary\n",
    "from decimal import Decimal\n",
    "class Account:\n",
    "    transaction_counter = itertools.count(100)\n",
    "    interest_rate = 0.5  # percent\n",
    "    transaction_codes = {\n",
    "        'deposit' : 'D',\n",
    "        'withdraw' : 'W',\n",
    "        'interest' : 'I',\n",
    "        'rejected' : 'X'\n",
    "    }\n",
    "    \n",
    "    def __init__(self, account_number, first_name, last_name,\n",
    "                timezone = None, balance = Decimal('0.0')):\n",
    "\n",
    "        self.first_name = Account.validate_name(first_name, 'First Name')\n",
    "        self.last_name = Account.validate_name(last_name, 'Last Name')\n",
    "        self.account_number = account_number\n",
    "        \n",
    "        if timezone is None:\n",
    "            self.timezone = TimeZone('Tehran', 3, 30)\n",
    "        elif not isinstance(timezone, TimeZone):\n",
    "            raise ValueError('Time Zone must be a valid TimeZone object')\n",
    "        else:\n",
    "            self.timezone = timezone\n",
    "            \n",
    "        if balance < Decimal('0.0'):\n",
    "            raise ValueError('initial balance must be a non-negative value')\n",
    "        self.balance = balance\n",
    "        \n",
    "    def generate_confirmation_code(self, transaction_code):\n",
    "        transaction_id = next(Account.transaction_counter)\n",
    "        dt_str = (datetime.utcnow()+self.timezone.offset).strftime('%Y%m%d%H%M%S')\n",
    "        return f'{transaction_code}-{self.account_number}-{dt_str}-{transaction_id}'\n",
    "    \n",
    "    \n",
    "    def validate_name(value, field_title):\n",
    "        if len(str(value.strip())) == 0 or value is None:\n",
    "            raise ValueError(f'{field_title} cannot be empty')\n",
    "        return str(value).strip()\n",
    "    # self.first_name = Account.validate_name(first_name, 'First Name')\n",
    "    # Account.validate_name(self, first_name, 'First Name')\n",
    "    \n",
    "    def deposit(self, value):\n",
    "        if value < Decimal('0.0'):\n",
    "            raise ValueError('Deposit value must be a positive number')\n",
    "        \n",
    "        conf_code = self.generate_confirmation_code(Account.transaction_codes['deposit'])\n",
    "        self.balance += value\n",
    "        return conf_code\n",
    "    \n",
    "    def withdraw(self, value):\n",
    "        flag = False\n",
    "        if value < Decimal('0.0'):\n",
    "            raise ValueError('withdraw value must be a positive number')\n",
    "        if self.balance - value < Decimal('0.0'):\n",
    "            transaction_code = Account.transaction_codes['rejected']\n",
    "        else:\n",
    "            transaction_code = Account.transaction_codes['withdraw']\n",
    "            flag = True\n",
    "        conf_code = self.generate_confirmation_code(transaction_code)\n",
    "        if flag:\n",
    "            self.balance -= value\n",
    "        return conf_code\n",
    "    \n",
    "    def pay_interest(self):\n",
    "        interest = self.balance * Account.interest_rate / 100\n",
    "        conf_code = self.generate_confirmation_code(Account.transaction_codes['interest'])\n",
    "        self.balance += interest\n",
    "        return conf_code\n",
    "        "
   ]
  },
  {
   "cell_type": "code",
   "execution_count": null,
   "metadata": {},
   "outputs": [],
   "source": [
    "#########\n",
    "class Test:\n",
    "    "
   ]
  },
  {
   "cell_type": "code",
   "execution_count": 45,
   "metadata": {},
   "outputs": [],
   "source": [
    "a = Account('A100', 'A', 'B', balance = Decimal('100.0'))"
   ]
  },
  {
   "cell_type": "code",
   "execution_count": 46,
   "metadata": {},
   "outputs": [
    {
     "data": {
      "text/plain": [
       "Decimal('100.0')"
      ]
     },
     "execution_count": 46,
     "metadata": {},
     "output_type": "execute_result"
    }
   ],
   "source": [
    "a.balance"
   ]
  },
  {
   "cell_type": "code",
   "execution_count": 47,
   "metadata": {},
   "outputs": [
    {
     "ename": "ValueError",
     "evalue": "Deposit value must be a positive number",
     "output_type": "error",
     "traceback": [
      "\u001b[1;31m---------------------------------------------------------------------------\u001b[0m",
      "\u001b[1;31mValueError\u001b[0m                                Traceback (most recent call last)",
      "Input \u001b[1;32mIn [47]\u001b[0m, in \u001b[0;36m<cell line: 1>\u001b[1;34m()\u001b[0m\n\u001b[1;32m----> 1\u001b[0m \u001b[43ma\u001b[49m\u001b[38;5;241;43m.\u001b[39;49m\u001b[43mdeposit\u001b[49m\u001b[43m(\u001b[49m\u001b[43mDecimal\u001b[49m\u001b[43m(\u001b[49m\u001b[38;5;124;43m'\u001b[39;49m\u001b[38;5;124;43m-100\u001b[39;49m\u001b[38;5;124;43m'\u001b[39;49m\u001b[43m)\u001b[49m\u001b[43m)\u001b[49m\n",
      "Input \u001b[1;32mIn [44]\u001b[0m, in \u001b[0;36mAccount.deposit\u001b[1;34m(self, value)\u001b[0m\n\u001b[0;32m     44\u001b[0m \u001b[38;5;28;01mdef\u001b[39;00m \u001b[38;5;21mdeposit\u001b[39m(\u001b[38;5;28mself\u001b[39m, value):\n\u001b[0;32m     45\u001b[0m     \u001b[38;5;28;01mif\u001b[39;00m value \u001b[38;5;241m<\u001b[39m Decimal(\u001b[38;5;124m'\u001b[39m\u001b[38;5;124m0.0\u001b[39m\u001b[38;5;124m'\u001b[39m):\n\u001b[1;32m---> 46\u001b[0m         \u001b[38;5;28;01mraise\u001b[39;00m \u001b[38;5;167;01mValueError\u001b[39;00m(\u001b[38;5;124m'\u001b[39m\u001b[38;5;124mDeposit value must be a positive number\u001b[39m\u001b[38;5;124m'\u001b[39m)\n\u001b[0;32m     48\u001b[0m     conf_code \u001b[38;5;241m=\u001b[39m \u001b[38;5;28mself\u001b[39m\u001b[38;5;241m.\u001b[39mgenerate_confirmation_code(Account\u001b[38;5;241m.\u001b[39mtransaction_codes[\u001b[38;5;124m'\u001b[39m\u001b[38;5;124mdeposit\u001b[39m\u001b[38;5;124m'\u001b[39m])\n\u001b[0;32m     49\u001b[0m     \u001b[38;5;28mself\u001b[39m\u001b[38;5;241m.\u001b[39mbalance \u001b[38;5;241m+\u001b[39m\u001b[38;5;241m=\u001b[39m value\n",
      "\u001b[1;31mValueError\u001b[0m: Deposit value must be a positive number"
     ]
    }
   ],
   "source": [
    "a.deposit(Decimal('-100'))"
   ]
  },
  {
   "cell_type": "code",
   "execution_count": 48,
   "metadata": {},
   "outputs": [
    {
     "data": {
      "text/plain": [
       "'D-A100-20231104094230-100'"
      ]
     },
     "execution_count": 48,
     "metadata": {},
     "output_type": "execute_result"
    }
   ],
   "source": [
    "a.deposit(Decimal('100'))"
   ]
  },
  {
   "cell_type": "code",
   "execution_count": 49,
   "metadata": {},
   "outputs": [
    {
     "data": {
      "text/plain": [
       "'W-A100-20231104094251-101'"
      ]
     },
     "execution_count": 49,
     "metadata": {},
     "output_type": "execute_result"
    }
   ],
   "source": [
    "a.withdraw(Decimal('10.1'))"
   ]
  },
  {
   "cell_type": "markdown",
   "metadata": {},
   "source": [
    "# Unit Testing"
   ]
  },
  {
   "cell_type": "code",
   "execution_count": 43,
   "metadata": {},
   "outputs": [
    {
     "ename": "TypeError",
     "evalue": "Account.validate_name() takes 2 positional arguments but 3 were given",
     "output_type": "error",
     "traceback": [
      "\u001b[1;31m---------------------------------------------------------------------------\u001b[0m",
      "\u001b[1;31mTypeError\u001b[0m                                 Traceback (most recent call last)",
      "Input \u001b[1;32mIn [43]\u001b[0m, in \u001b[0;36m<cell line: 1>\u001b[1;34m()\u001b[0m\n\u001b[1;32m----> 1\u001b[0m a \u001b[38;5;241m=\u001b[39m \u001b[43mAccount\u001b[49m\u001b[43m(\u001b[49m\u001b[38;5;124;43m'\u001b[39;49m\u001b[38;5;124;43mA100\u001b[39;49m\u001b[38;5;124;43m'\u001b[39;49m\u001b[43m,\u001b[49m\u001b[43m \u001b[49m\u001b[38;5;124;43m'\u001b[39;49m\u001b[38;5;124;43mA\u001b[39;49m\u001b[38;5;124;43m'\u001b[39;49m\u001b[43m,\u001b[49m\u001b[43m \u001b[49m\u001b[38;5;124;43m'\u001b[39;49m\u001b[38;5;124;43mB\u001b[39;49m\u001b[38;5;124;43m'\u001b[39;49m\u001b[43m,\u001b[49m\u001b[43m \u001b[49m\u001b[43mtimezone\u001b[49m\u001b[38;5;241;43m=\u001b[39;49m\u001b[43mTimeZone\u001b[49m\u001b[43m(\u001b[49m\u001b[38;5;124;43m'\u001b[39;49m\u001b[38;5;124;43mMST\u001b[39;49m\u001b[38;5;124;43m'\u001b[39;49m\u001b[43m,\u001b[49m\u001b[43m \u001b[49m\u001b[38;5;241;43m-\u001b[39;49m\u001b[38;5;241;43m7\u001b[39;49m\u001b[43m,\u001b[49m\u001b[43m \u001b[49m\u001b[38;5;241;43m0\u001b[39;49m\u001b[43m)\u001b[49m\u001b[43m,\u001b[49m\u001b[43m \u001b[49m\u001b[43mbalance\u001b[49m\u001b[38;5;241;43m=\u001b[39;49m\u001b[43mDecimal\u001b[49m\u001b[43m(\u001b[49m\u001b[38;5;124;43m'\u001b[39;49m\u001b[38;5;124;43m100\u001b[39;49m\u001b[38;5;124;43m'\u001b[39;49m\u001b[43m)\u001b[49m\u001b[43m)\u001b[49m\n\u001b[0;32m      2\u001b[0m \u001b[38;5;28mprint\u001b[39m(a\u001b[38;5;241m.\u001b[39mbalance)\n\u001b[0;32m      3\u001b[0m \u001b[38;5;28mprint\u001b[39m(a\u001b[38;5;241m.\u001b[39mdeposit(Decimal(\u001b[38;5;124m'\u001b[39m\u001b[38;5;124m150.02\u001b[39m\u001b[38;5;124m'\u001b[39m)))\n",
      "Input \u001b[1;32mIn [41]\u001b[0m, in \u001b[0;36mAccount.__init__\u001b[1;34m(self, account_number, first_name, last_name, timezone, balance)\u001b[0m\n\u001b[0;32m     13\u001b[0m \u001b[38;5;28;01mdef\u001b[39;00m \u001b[38;5;21m__init__\u001b[39m(\u001b[38;5;28mself\u001b[39m, account_number, first_name, last_name,\n\u001b[0;32m     14\u001b[0m             timezone \u001b[38;5;241m=\u001b[39m \u001b[38;5;28;01mNone\u001b[39;00m, balance \u001b[38;5;241m=\u001b[39m Decimal(\u001b[38;5;124m'\u001b[39m\u001b[38;5;124m0.0\u001b[39m\u001b[38;5;124m'\u001b[39m)):\n\u001b[1;32m---> 16\u001b[0m     \u001b[38;5;28mself\u001b[39m\u001b[38;5;241m.\u001b[39mfirst_name \u001b[38;5;241m=\u001b[39m \u001b[38;5;28;43mself\u001b[39;49m\u001b[38;5;241;43m.\u001b[39;49m\u001b[43mvalidate_name\u001b[49m\u001b[43m(\u001b[49m\u001b[43mfirst_name\u001b[49m\u001b[43m,\u001b[49m\u001b[43m \u001b[49m\u001b[38;5;124;43m'\u001b[39;49m\u001b[38;5;124;43mFirst Name\u001b[39;49m\u001b[38;5;124;43m'\u001b[39;49m\u001b[43m)\u001b[49m\n\u001b[0;32m     17\u001b[0m     \u001b[38;5;28mself\u001b[39m\u001b[38;5;241m.\u001b[39mlast_name \u001b[38;5;241m=\u001b[39m \u001b[38;5;28mself\u001b[39m\u001b[38;5;241m.\u001b[39mvalidate_name(last_name, \u001b[38;5;124m'\u001b[39m\u001b[38;5;124mLast Name\u001b[39m\u001b[38;5;124m'\u001b[39m)\n\u001b[0;32m     18\u001b[0m     \u001b[38;5;28mself\u001b[39m\u001b[38;5;241m.\u001b[39maccount_number \u001b[38;5;241m=\u001b[39m account_number\n",
      "\u001b[1;31mTypeError\u001b[0m: Account.validate_name() takes 2 positional arguments but 3 were given"
     ]
    }
   ],
   "source": [
    "a = Account('A100', 'A', 'B', timezone=TimeZone('MST', -7, 0), balance=Decimal('100'))\n",
    "print(a.balance)\n",
    "print(a.deposit(Decimal('150.02')))\n",
    "print(a.balance)\n",
    "print(a.withdraw(Decimal('0.02')))\n",
    "print(a.balance)\n",
    "Account.interest_rate = 1\n",
    "print(a.interest_rate)\n",
    "print(a.pay_interest())\n",
    "print(a.balance)\n",
    "print(a.withdraw(Decimal('1000')))\n"
   ]
  },
  {
   "cell_type": "code",
   "execution_count": 52,
   "metadata": {},
   "outputs": [],
   "source": [
    "import unittest\n",
    "def run_tests(test_class):\n",
    "    suite = unittest.TestLoader().loadTestsFromTestCase(test_class)\n",
    "    runner = unittest.TextTestRunner(verbosity=2)\n",
    "    runner.run(suite)\n",
    "    "
   ]
  },
  {
   "cell_type": "code",
   "execution_count": 56,
   "metadata": {},
   "outputs": [],
   "source": [
    "class TestAccount(unittest.TestCase):\n",
    "    def test_create_timezone_1(self):\n",
    "        tz = TimeZone('ABC', -1, -30)\n",
    "        self.assertEqual('ABC', tz.name)\n",
    "        \n",
    "    def test_create_timezone_2(self):\n",
    "        tz = TimeZone('ABC', 1, -30)\n",
    "        self.assertEqual(timedelta(hours=1, minutes=-30), tz.offset)\n",
    "        \n",
    "    def test_create_account(self):\n",
    "        account_number = 'A100'\n",
    "        first_name = 'FIRST'\n",
    "        last_name = 'LAST'\n",
    "        tz = TimeZone('TZ', 1, 30)\n",
    "        balance = Decimal('100')\n",
    "        \n",
    "        a = Account(account_number, first_name, last_name, tz, balance)\n",
    "        \n",
    "        self.assertEqual(account_number, a.account_number)\n",
    "        self.assertEqual(first_name, a.first_name)\n",
    "        self.assertEqual(last_name, a.last_name)\n",
    "        self.assertEqual(tz, a.timezone)\n",
    "        self.assertEqual(balance, a.balance)\n",
    "        \n",
    "    def test_create_account_blank_first_name(self):\n",
    "        account_number = 'A100'\n",
    "        first_name = ''\n",
    "        last_name = 'LAST'\n",
    "        tz = TimeZone('TZ', 1, 30)\n",
    "        balance = Decimal('100')\n",
    "        \n",
    "        with self.assertRaises(ValueError):\n",
    "            a = Account(account_number, first_name, last_name, tz, balance)\n",
    "            \n",
    "    def test_create_account_blank_first_name_2(self):\n",
    "        account_number = 'A100'\n",
    "        first_name = '  '\n",
    "        last_name = 'LAST'\n",
    "        tz = TimeZone('TZ', 1, 30)\n",
    "        balance = Decimal('100')\n",
    "        \n",
    "        with self.assertRaises(ValueError):\n",
    "            a = Account(account_number, first_name, last_name, tz, balance)\n",
    "            \n",
    "    def test_create_account_negative_balance(self):\n",
    "        account_number = 'A100'\n",
    "        first_name = '  '\n",
    "        last_name = 'LAST'\n",
    "        tz = TimeZone('TZ', 1, 30)\n",
    "        balance = Decimal('-100')\n",
    "        \n",
    "        with self.assertRaises(ValueError):\n",
    "            a = Account(account_number, first_name, last_name, tz, balance)\n",
    "            \n",
    "            \n",
    "    def test_account_withdraw_ok(self):\n",
    "        account_number = 'A100'\n",
    "        first_name = 'First'\n",
    "        last_name = 'LAST'\n",
    "        tz = TimeZone('TZ', 1, 30)\n",
    "        balance = Decimal('100')\n",
    "        \n",
    "        a = Account(account_number, first_name, last_name, tz, balance)\n",
    "        conf_code = a.withdraw(20)\n",
    "        self.assertTrue(conf_code.startswith('W-'))\n",
    "        self.assertEqual(balance-Decimal('20'), a.balance)"
   ]
  },
  {
   "cell_type": "code",
   "execution_count": 57,
   "metadata": {},
   "outputs": [
    {
     "name": "stderr",
     "output_type": "stream",
     "text": [
      "test_account_withdraw_ok (__main__.TestAccount) ... ok\n",
      "test_create_account (__main__.TestAccount) ... ok\n",
      "test_create_account_blank_first_name (__main__.TestAccount) ... ok\n",
      "test_create_account_blank_first_name_2 (__main__.TestAccount) ... ok\n",
      "test_create_account_negative_balance (__main__.TestAccount) ... ok\n",
      "test_create_timezone_1 (__main__.TestAccount) ... ok\n",
      "test_create_timezone_2 (__main__.TestAccount) ... ok\n",
      "\n",
      "----------------------------------------------------------------------\n",
      "Ran 7 tests in 0.013s\n",
      "\n",
      "OK\n"
     ]
    }
   ],
   "source": [
    "run_tests(TestAccount)"
   ]
  },
  {
   "cell_type": "code",
   "execution_count": 60,
   "metadata": {},
   "outputs": [
    {
     "data": {
      "text/plain": [
       "{'first_name': 'AAAA',\n",
       " 'last_name': 'BBBB',\n",
       " 'account_number': 1111,\n",
       " 'timezone': TimeZone(name='Tehran', offset_hours=3, offset_minutes=30),\n",
       " 'initial_balance': Decimal('0.0')}"
      ]
     },
     "execution_count": 60,
     "metadata": {},
     "output_type": "execute_result"
    }
   ],
   "source": [
    "a1.__dict__"
   ]
  },
  {
   "cell_type": "code",
   "execution_count": 61,
   "metadata": {},
   "outputs": [],
   "source": [
    "a1.first_name = ''"
   ]
  },
  {
   "cell_type": "code",
   "execution_count": 62,
   "metadata": {},
   "outputs": [
    {
     "data": {
      "text/plain": [
       "{'first_name': '',\n",
       " 'last_name': 'BBBB',\n",
       " 'account_number': 1111,\n",
       " 'timezone': TimeZone(name='Tehran', offset_hours=3, offset_minutes=30),\n",
       " 'initial_balance': Decimal('0.0')}"
      ]
     },
     "execution_count": 62,
     "metadata": {},
     "output_type": "execute_result"
    }
   ],
   "source": [
    "a1.__dict__"
   ]
  },
  {
   "cell_type": "code",
   "execution_count": null,
   "metadata": {},
   "outputs": [],
   "source": []
  }
 ],
 "metadata": {
  "kernelspec": {
   "display_name": "Python 3 (ipykernel)",
   "language": "python",
   "name": "python3"
  },
  "language_info": {
   "codemirror_mode": {
    "name": "ipython",
    "version": 3
   },
   "file_extension": ".py",
   "mimetype": "text/x-python",
   "name": "python",
   "nbconvert_exporter": "python",
   "pygments_lexer": "ipython3",
   "version": "3.10.6"
  }
 },
 "nbformat": 4,
 "nbformat_minor": 4
}
